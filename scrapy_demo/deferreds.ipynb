{
 "cells": [
  {
   "cell_type": "code",
   "execution_count": 11,
   "metadata": {
    "collapsed": false
   },
   "outputs": [
    {
     "name": "stdout",
     "output_type": "stream",
     "text": [
      "False\nTrue\n3\n"
     ]
    }
   ],
   "source": [
    "from twisted.internet import defer\n",
    "\n",
    "# Experiment 1\n",
    "d = defer.Deferred()\n",
    "print(d.called)\n",
    "d.callback(3)\n",
    "print(d.called)\n",
    "print(d.result)"
   ]
  },
  {
   "cell_type": "code",
   "execution_count": 22,
   "metadata": {},
   "outputs": [
    {
     "name": "stdout",
     "output_type": "stream",
     "text": [
      "<Deferred at 0x10d7f7d68>\nFalse\nfoo called\nTrue\n6\n"
     ]
    }
   ],
   "source": [
    "from twisted.internet import defer\n",
    "\n",
    "d = defer.Deferred()\n",
    "\n",
    "def foo(v):\n",
    "    print(\"foo called\")\n",
    "    return v + 2\n",
    "\n",
    "print(d.addCallback(foo))\n",
    "print(d.called)\n",
    "d.callback(4)\n",
    "print(d.called)\n",
    "print(d.result)\n"
   ]
  },
  {
   "cell_type": "code",
   "execution_count": 65,
   "metadata": {},
   "outputs": [
    {
     "name": "stdout",
     "output_type": "stream",
     "text": [
      "status(a, b))两个延迟项都没有被触发，第一个有两个调回，第二个没有调回: \n [('N/A', 2), ('N/A', 0)] \n\nb_callback called with arg = 3\na.callback: None \n\nstatus(a, b))先触发a, b_callback()已经被调回，只留下on_done() \n [(<Deferred at 0x10d837278>, 1), ('N/A', 1)] \n\non_done called with arg = 4\nb.callback: None \n\nstatus(a, b)) last: [(4, 0), (None, 0)] \n\nb.callback: 先触发b: None \n\nstatus(a, b)): [('N/A', 2), (4, 0)] \n\nb_callback called with arg = 3\non_done called with arg = 4\na.callback, 触发a b_callback on_done 都被调用: None \n\nstatus(a, b)) last: [(4, 0), (None, 0)] \n\non_done called with arg = [(True, 0), (True, 1), (True, 2), (True, 3), (True, 4)]\n"
     ]
    }
   ],
   "source": [
    "from twisted.internet import defer\n",
    "\n",
    "# Experiment 3\n",
    "def status(*ds):\n",
    "    # print(\"status:\")\n",
    "    return [(getattr(d, 'result', \"N/A\"), len(d.callbacks)) for d in ds]\n",
    "\n",
    "def b_callback(arg):\n",
    "    print(\"b_callback called with arg =\", arg)\n",
    "    return b\n",
    "\n",
    "def on_done(arg):\n",
    "    print(\"on_done called with arg =\", arg)\n",
    "    return arg\n",
    "\n",
    "# Experiment 3.a\n",
    "a = defer.Deferred()\n",
    "b = defer.Deferred()\n",
    "a.addCallback(b_callback).addCallback(on_done)\n",
    "print('status(a, b))两个延迟项都没有被触发，第一个有两个调回，第二个没有调回: \\n', status(a, b), '\\n')\n",
    "print('a.callback:', a.callback(3), '\\n')\n",
    "print('status(a, b))先触发a, b_callback()已经被调回，只留下on_done() \\n', status(a, b), '\\n')\n",
    "print('b.callback:', b.callback(4), '\\n')\n",
    "print('status(a, b)) last:', status(a, b), '\\n')\n",
    "\n",
    "# Experiment 3.b\n",
    "a = defer.Deferred()\n",
    "b = defer.Deferred()\n",
    "a.addCallback(b_callback).addCallback(on_done)\n",
    "print('b.callback: 先触发b:', b.callback(4), '\\n')\n",
    "print('status(a, b)):', status(a, b), '\\n')\n",
    "print('a.callback, 触发a b_callback on_done 都被调用:', a.callback(3), '\\n')\n",
    "print('status(a, b)) last:', status(a, b), '\\n')\n",
    "\n",
    "# Experiment 4\n",
    "deferreds = [defer.Deferred() for i in range(5)]\n",
    "join = defer.DeferredList(deferreds)\n",
    "join.addCallback(on_done)\n",
    "for i in range(4):\n",
    "    deferreds[i].callback(i)\n",
    "\n",
    "deferreds[4].callback(4)\n"
   ]
  },
  {
   "cell_type": "code",
   "execution_count": 76,
   "metadata": {},
   "outputs": [
    {
     "name": "stdout",
     "output_type": "stream",
     "text": [
      "# 单线程:\n\nStart installation for Bill\n"
     ]
    },
    {
     "name": "stdout",
     "output_type": "stream",
     "text": [
      "All done for Bill\nStart installation for Elon\n"
     ]
    },
    {
     "name": "stdout",
     "output_type": "stream",
     "text": [
      "All done for Elon\nStart installation for Steve\n"
     ]
    },
    {
     "name": "stdout",
     "output_type": "stream",
     "text": [
      "All done for Steve\nStart installation for Mark\n"
     ]
    },
    {
     "name": "stdout",
     "output_type": "stream",
     "text": [
      "All done for Mark\n# 多线程:\n\nGoodmorning from developerGoodmorning from developer  1\nStart installation for Customer 0\n0Goodmorning from developer\nStart installation for Customer 1\n 2\nStart installation for Customer 2\nGoodmorning from developer 3\nStart installation for Customer 3\nGoodmorning from developer 4\nStart installation for Customer 4\n"
     ]
    },
    {
     "name": "stdout",
     "output_type": "stream",
     "text": [
      "All done forAll done forAll done for Customer 0\nStart installation for  Customer 1\nStart installation for Customer 6 Customer 5\n\nAll done for Customer 3\nStart installation for Customer 7\nCustomer 2\nStart installation for Customer 8\nAll done for Customer 4\nStart installation for Customer 9\n"
     ]
    },
    {
     "name": "stdout",
     "output_type": "stream",
     "text": [
      "All done forAll done for Customer 6\nAll done for All done for Customer 8\nStart installation for Customer 10 Customer 5\nStart installation for\n Customer 11\nStart installation forCustomer 7\nStart installation for Customer 13 Customer 12\n\nAll done for Customer 9\nStart installation for Customer 14\n"
     ]
    },
    {
     "name": "stdout",
     "output_type": "stream",
     "text": [
      "All done forAll done for Customer 11 Customer 12\nBye from developer 2\n\nBye from developer 1\nAll done for Customer 10\nBye from developer 0All done for\n Customer 13\nBye from developer 3\nAll done for Customer 14\nBye from developer 4\n"
     ]
    }
   ],
   "source": [
    "from time import sleep\n",
    "\n",
    "# Hello, I'm a developer and I mainly setup Wordpress.\n",
    "def install_wordpress(customer):\n",
    "    # Our hosting company Threads Ltd. sucks. I start installation and...\n",
    "    print(\"Start installation for\", customer)\n",
    "\n",
    "    # ...then wait till the installation finishes successfully. It is boring\n",
    "    # and I'm spending most of my time waiting while consuming resources\n",
    "    # (memory and some CPU cycles). It's because the process is *blocking*.\n",
    "    sleep(2)\n",
    "    print(\"All done for\", customer)\n",
    "\n",
    "# 单线程\n",
    "def example1():\n",
    "    # I do this all day long for our customers\n",
    "    def developer_day(customers):\n",
    "        for customer in customers:\n",
    "            install_wordpress(customer)\n",
    "\n",
    "    developer_day([\"Bill\", \"Elon\", \"Steve\", \"Mark\"])\n",
    "\n",
    "print('# 单线程:\\n')\n",
    "example1()\n",
    "\n",
    "\n",
    "# 多线程\n",
    "def example2():\n",
    "    import threading\n",
    "\n",
    "    # The company grew. We now have many customers and I can't handle the\n",
    "    # workload. We are now 5 developers doing exactly the same thing.\n",
    "    def developers_day(customers):\n",
    "        # But we now have to synchronize... a.k.a. bureaucracy\n",
    "        lock = threading.Lock()\n",
    "\n",
    "        def dev_day(id):\n",
    "            print(\"Goodmorning from developer\", id)\n",
    "            # Yuck - I hate locks...\n",
    "            lock.acquire()\n",
    "            while customers:\n",
    "                customer = customers.pop(0)\n",
    "                lock.release()\n",
    "                # My Python is less readable\n",
    "                install_wordpress(customer)\n",
    "                lock.acquire()\n",
    "            lock.release()\n",
    "            print(\"Bye from developer\", id)\n",
    "\n",
    "        # We go to work in the morning\n",
    "        devs = [threading.Thread(target=dev_day, args=(i,)) for i in range(5)]\n",
    "        [dev.start() for dev in devs]\n",
    "        # We leave for the evening\n",
    "        [dev.join() for dev in devs]\n",
    "\n",
    "    # We now get more done in the same time but our dev process got more\n",
    "    # complex. As we grew we spend more time managing queues than doing dev\n",
    "    # work. We even had occasional deadlocks when processes got extremely\n",
    "    # complex. The fact is that we are still mostly pressing buttons and\n",
    "    # waiting but now we also spend some time in meetings.\n",
    "    developers_day([\"Customer %d\" % i for i in range(15)])\n",
    "\n",
    "print('\\n# 5个线程: \\n')\n",
    "example2()"
   ]
  },
  {
   "cell_type": "code",
   "execution_count": null,
   "metadata": {},
   "outputs": [],
   "source": []
  }
 ],
 "metadata": {
  "kernelspec": {
   "display_name": "Python 2",
   "language": "python",
   "name": "python2"
  },
  "language_info": {
   "codemirror_mode": {
    "name": "ipython",
    "version": 2
   },
   "file_extension": ".py",
   "mimetype": "text/x-python",
   "name": "python",
   "nbconvert_exporter": "python",
   "pygments_lexer": "ipython2",
   "version": "2.7.6"
  }
 },
 "nbformat": 4,
 "nbformat_minor": 0
}
