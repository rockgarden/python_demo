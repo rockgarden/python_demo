{
 "cells": [
  {
   "cell_type": "code",
   "execution_count": 5,
   "metadata": {
    "collapsed": true
   },
   "outputs": [],
   "source": [
    "from PyPDF2 import PdfFileMerger\n",
    "\n",
    "merger = PdfFileMerger()\n",
    "input2 = open(\"code/assets/PyPDF2 1.26.0 documentation - index.pdf\", \"rb\")\n",
    "input1 = open(\"code/assets/PyPDF2 1.26.0 documentation - index.pdf\", \"rb\")\n",
    "merger.append(fileobj=input1, pages=(0, 3))\n",
    "merger.merge(position=2, fileobj=input2, pages=(0, 1))\n",
    "output = open(\"code/output/PyPDF2.pdf\", \"wb\")\n",
    "merger.write(output)\n"
   ]
  },
  {
   "cell_type": "code",
   "execution_count": 5,
   "metadata": {},
   "outputs": [],
   "source": []
  },
  {
   "cell_type": "code",
   "execution_count": 4,
   "metadata": {},
   "outputs": [],
   "source": []
  },
  {
   "cell_type": "code",
   "execution_count": null,
   "metadata": {},
   "outputs": [],
   "source": []
  }
 ],
 "metadata": {
  "kernelspec": {
   "display_name": "Python 2",
   "language": "python",
   "name": "python2"
  },
  "language_info": {
   "codemirror_mode": {
    "name": "ipython",
    "version": 2
   },
   "file_extension": ".py",
   "mimetype": "text/x-python",
   "name": "python",
   "nbconvert_exporter": "python",
   "pygments_lexer": "ipython2",
   "version": "2.7.6"
  }
 },
 "nbformat": 4,
 "nbformat_minor": 0
}
