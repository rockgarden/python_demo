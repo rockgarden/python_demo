{
 "cells": [
  {
   "cell_type": "code",
   "execution_count": 2,
   "metadata": {},
   "outputs": [],
   "source": [
    "# JSON 数据解析\n",
    "# JSON (JavaScript Object Notation) 是一种轻量级的数据交换格式。它基于ECMAScript的一个子集。\n",
    "# Python3 中可以使用 json 模块来对 JSON 数据进行编解码，它包含了两个函数：\n",
    "# json.dumps(): 对数据进行编码。\n",
    "# json.loads(): 对数据进行解码。\n",
    "# 在json的编解码过程中，python 的原始类型与json类型会相互转换。\n",
    "\n",
    "# Python 编码为 JSON 类型转换对应表：\n",
    "# Python\tJSON\n",
    "# dict\tobject\n",
    "# list, tuple\tarray\n",
    "# str\tstring\n",
    "# int, float, int- & float-derived Enums\tnumber\n",
    "# True\ttrue\n",
    "# False\tfalse\n",
    "# None\tnull\n",
    "\n",
    "# JSON 解码为 Python 类型转换对应表：\n",
    "# JSON\tPython\n",
    "# object\tdict\n",
    "# array\tlist\n",
    "# string\tstr\n",
    "# number (int)\tint\n",
    "# number (real)\tfloat\n",
    "# true\tTrue\n",
    "# false\tFalse\n",
    "# null\tNone"
   ]
  },
  {
   "cell_type": "code",
   "execution_count": 3,
   "metadata": {},
   "outputs": [
    {
     "name": "stdout",
     "output_type": "stream",
     "text": [
      "Python 原始数据： {'no': 1, 'name': 'Runoob', 'url': 'http://www.runoob.com'}\nJSON 对象： {\"no\": 1, \"name\": \"Runoob\", \"url\": \"http://www.runoob.com\"}\ndata2['name']:  Runoob\ndata2['url']:  http://www.runoob.com\n"
     ]
    }
   ],
   "source": [
    "import json\n",
    "\n",
    "data = {\n",
    "    'no': 1,\n",
    "    'name': 'Runoob',\n",
    "    'url': 'http://www.runoob.com'\n",
    "}\n",
    "\n",
    "# Python 字典类型转换为 JSON 对象\n",
    "json_str = json.dumps(data)\n",
    "print(\"Python 原始数据：\", repr(data))\n",
    "print(\"JSON 对象：\", json_str)\n",
    "\n",
    "# 将 JSON 对象转换为 Python 字典\n",
    "data2 = json.loads(json_str)\n",
    "print(\"data2['name']: \", data2['name'])\n",
    "print(\"data2['url']: \", data2['url'])"
   ]
  },
  {
   "cell_type": "heading",
   "metadata": {},
   "level": 1,
   "source": [
    "writer"
   ]
  },
  {
   "cell_type": "code",
   "execution_count": 1,
   "metadata": {},
   "outputs": [],
   "source": [
    "import json\n",
    "\n",
    "numbers = [2, 3, 5, 7, 11, 13]\n",
    "\n",
    "filename = 'code/assets/numbers.json'\n",
    "with open(filename, 'w') as file_object:\n",
    "    json.dump(numbers, file_object)"
   ]
  },
  {
   "cell_type": "heading",
   "metadata": {},
   "level": 1,
   "source": [
    "reader"
   ]
  },
  {
   "cell_type": "code",
   "execution_count": 5,
   "metadata": {},
   "outputs": [
    {
     "name": "stdout",
     "output_type": "stream",
     "text": [
      "[2, 3, 5, 7, 11, 13]\n"
     ]
    }
   ],
   "source": [
    "import json\n",
    "\n",
    "filename = 'code/assets/numbers.json'\n",
    "with open(filename) as file_object:\n",
    "    numbers = json.load(file_object)\n",
    "    \n",
    "print(numbers)"
   ]
  },
  {
   "cell_type": "code",
   "execution_count": null,
   "metadata": {},
   "outputs": [],
   "source": []
  }
 ],
 "metadata": {
  "kernelspec": {
   "display_name": "Python 2",
   "language": "python",
   "name": "python2"
  },
  "language_info": {
   "codemirror_mode": {
    "name": "ipython",
    "version": 2
   },
   "file_extension": ".py",
   "mimetype": "text/x-python",
   "name": "python",
   "nbconvert_exporter": "python",
   "pygments_lexer": "ipython2",
   "version": "2.7.6"
  }
 },
 "nbformat": 4,
 "nbformat_minor": 0
}
