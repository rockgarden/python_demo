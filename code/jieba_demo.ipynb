{
 "cells": [
  {
   "cell_type": "markdown",
   "metadata": {
    "collapsed": true
   },
   "source": [
    "精确模式，返回一个列表类型的分词结果"
   ]
  },
  {
   "cell_type": "code",
   "execution_count": 1,
   "metadata": {},
   "outputs": [
    {
     "name": "stderr",
     "output_type": "stream",
     "text": [
      "Building prefix dict from the default dictionary ...\n"
     ]
    },
    {
     "name": "stderr",
     "output_type": "stream",
     "text": [
      "Dumping model to file cache /var/folders/_q/4j99g7vn5lg84wf_mr4dl7jc0000gn/T/jieba.cache\n"
     ]
    },
    {
     "name": "stderr",
     "output_type": "stream",
     "text": [
      "Loading model cost 1.313 seconds.\n"
     ]
    },
    {
     "name": "stderr",
     "output_type": "stream",
     "text": [
      "Prefix dict has been built succesfully.\n"
     ]
    },
    {
     "data": {
      "text/plain": [
       "['中国', '是', '一个', '伟大', '的', '国家']"
      ]
     },
     "execution_count": 1,
     "metadata": {},
     "output_type": "execute_result"
    }
   ],
   "source": [
    "import jieba\n",
    "jieba.lcut(\"中国是一个伟大的国家\")"
   ]
  },
  {
   "cell_type": "markdown",
   "metadata": {},
   "source": [
    "全模式，返回一个列表类型的分词结果，存在冗余"
   ]
  },
  {
   "cell_type": "code",
   "execution_count": 2,
   "metadata": {},
   "outputs": [
    {
     "data": {
      "text/plain": [
       "['中国', '国是', '一个', '伟大', '的', '国家']"
      ]
     },
     "execution_count": 2,
     "metadata": {},
     "output_type": "execute_result"
    }
   ],
   "source": [
    "jieba.lcut(\"中国是一个伟大的国家\", cut_all=True)\n"
   ]
  },
  {
   "cell_type": "markdown",
   "metadata": {},
   "source": [
    "搜索引擎模式，返回一个列表类型的分词结果，存在冗余"
   ]
  },
  {
   "cell_type": "code",
   "execution_count": 3,
   "metadata": {},
   "outputs": [
    {
     "data": {
      "text/plain": [
       "['中华', '华人', '人民', '共和', '共和国', '中华人民共和国', '是', '伟大', '的']"
      ]
     },
     "execution_count": 3,
     "metadata": {},
     "output_type": "execute_result"
    }
   ],
   "source": [
    "jieba.lcut_for_search(\"中华人民共和国是伟大的\")"
   ]
  },
  {
   "cell_type": "markdown",
   "metadata": {},
   "source": [
    "向分词词典增加新词"
   ]
  },
  {
   "cell_type": "code",
   "execution_count": 4,
   "metadata": {},
   "outputs": [],
   "source": [
    "jieba.add_word(\"石园\")"
   ]
  },
  {
   "cell_type": "code",
   "execution_count": 32,
   "metadata": {},
   "outputs": [
    {
     "name": "stdout",
     "output_type": "stream",
     "text": [
      "the        1818\nand         940\nto          809\na           690\nof          631\nit          592\nshe         553\ni           545\nyou         480\nsaid        457\nin          429\nalice       380\nwas         356\nthat        326\nas          274\nher         240\nat          227\nwith        227\ns           219\nt           218\n"
     ]
    }
   ],
   "source": [
    "# Calculate word frequency\n",
    "def get_text():\n",
    "    txt = open(\"code/assets/alice.txt\", \"r\").read()\n",
    "    txt = txt.lower()\n",
    "    for ch in '!\"#$%&()*+,-./<=>?@[\\\\]^_’{|}~\\'':  # \\ 为转义符\n",
    "        txt = txt.replace(ch, \" \")\n",
    "    return txt\n",
    "\n",
    "\n",
    "text = get_text()\n",
    "words = text.split()\n",
    "counts = {}\n",
    "\n",
    "# (仅两行)遍历列表中的每个元素，并且用字典记录每一个元素出现的次数\n",
    "for word in words:\n",
    "    # .get()方法:用来从字典中获得某一个键对应的值。如果这个键不在字典中，给出默认值\n",
    "    \"\"\"\n",
    "    用当前的某一个英文单词作为键，索引字典，如果它在里面，那就返回他的次数，\n",
    "    +1 说明这个单词又出现了一次，如果这个单词不在字典中，那我们就把它加到字典中，\n",
    "    并且赋给当前的值为0\n",
    "    \"\"\"\n",
    "    counts[word] = counts.get(word, 0) + 1\n",
    "\n",
    "items = list(counts.items())\n",
    "items.sort(key=lambda x: x[1], reverse=True)\n",
    "# 对列表的第二个元素进行排序，排序方式是：从大到小的倒排\n",
    "# 将出现次数最多的元素前十名打印出来\n",
    "for i in range(20):\n",
    "    word, count = items[i]\n",
    "    print(\"{0:<10}{1:>5}\".format(word, count))\n"
   ]
  },
  {
   "cell_type": "code",
   "execution_count": 22,
   "metadata": {},
   "outputs": [
    {
     "name": "stdout",
     "output_type": "stream",
     "text": [
      "曹操          953\n孔明          836\n将军          772\n却说          656\n玄德          585\n关公          510\n丞相          491\n二人          469\n不可          440\n荆州          425\n玄德曰         390\n孔明曰         390\n不能          384\n如此          378\n张飞          358\n"
     ]
    }
   ],
   "source": [
    "# 三国演义词频统计\n",
    "import jieba\n",
    "\n",
    "txt = open(\"code/assets/三国演义.txt\", \"r\", encoding=\"utf-8\").read()\n",
    "words = jieba.lcut(txt)\n",
    "counts = {}\n",
    "for word in words:\n",
    "    if len(word) == 1:\n",
    "        continue\n",
    "    else:\n",
    "        counts[word] = counts.get(word, 0) + 1\n",
    "\n",
    "items = list(counts.items())\n",
    "items.sort(key=lambda x: x[1], reverse=True)  # 对列表的第二个元素进行排序，排序方式是：从大到小的倒排\n",
    "for i in range(15):\n",
    "    word, count = items[i]\n",
    "    print(\"{0:<10}{1:>5}\".format(word, count))"
   ]
  },
  {
   "cell_type": "code",
   "execution_count": 31,
   "metadata": {},
   "outputs": [
    {
     "name": "stdout",
     "output_type": "stream",
     "text": [
      "曹操         1451\n孔明         1383\n刘备         1252\n关羽          784\n张飞          358\n吕布          300\n赵云          278\n孙权          264\n"
     ]
    }
   ],
   "source": [
    "# 三国演义词频统计升级版--人物出现次数统计\n",
    "import jieba\n",
    "\n",
    "excludes = {\"将军\", \"却说\", \"荆州\", \"二人\", \"不可\", \"不能\", \"如此\", \"如何\", \"商议\", \"主公\",\n",
    "            \"军士\", \"次日\", \"左右\", \"军马\", \"引兵\", \"天下\", \"大喜\"}\n",
    "txt = open(\"code/assets/三国演义.txt\", \"r\", encoding='utf-8').read()\n",
    "words = jieba.lcut(txt)\n",
    "counts = {}\n",
    "for word in words:\n",
    "    if len(word) == 1:\n",
    "        continue\n",
    "    elif word == \"诸葛亮\" or word == \"孔明曰\":\n",
    "        rword = \"孔明\"\n",
    "    elif word == \"关公\" or word == \"云长\":\n",
    "        rword = \"关羽\"\n",
    "    elif word == \"玄德\" or word == \"玄德曰\":\n",
    "        rword = \"刘备\"\n",
    "    elif word == \"孟德\" or word == \"丞相\":\n",
    "        rword = \"曹操\"\n",
    "    else:\n",
    "        rword = word\n",
    "    counts[rword] = counts.get(rword, 0) + 1\n",
    "for word in excludes:\n",
    "    del counts[word]\n",
    "items = list(counts.items())\n",
    "items.sort(key=lambda x: x[1], reverse=True)\n",
    "for i in range(8):\n",
    "    word, count = items[i]\n",
    "    print(\"{0:<10}{1:>5}\".format(word, count))\n"
   ]
  },
  {
   "cell_type": "code",
   "execution_count": null,
   "metadata": {},
   "outputs": [],
   "source": []
  }
 ],
 "metadata": {
  "kernelspec": {
   "display_name": "Python 2",
   "language": "python",
   "name": "python2"
  },
  "language_info": {
   "codemirror_mode": {
    "name": "ipython",
    "version": 2
   },
   "file_extension": ".py",
   "mimetype": "text/x-python",
   "name": "python",
   "nbconvert_exporter": "python",
   "pygments_lexer": "ipython2",
   "version": "2.7.6"
  }
 },
 "nbformat": 4,
 "nbformat_minor": 0
}
