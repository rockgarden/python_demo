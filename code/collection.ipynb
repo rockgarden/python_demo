{
 "cells": [
  {
   "cell_type": "markdown",
   "metadata": {
    "collapsed": true
   },
   "source": [
    "# 集合\n",
    "- 集合是一个无序不重复元素的集。\n",
    "- 基本功能包括关系测试和消除重复元素。\n",
    "- 集合元素不可更改，不能是可变数据类型\n",
    "- 可以用大括号({})创建集合。注意：如果要创建一个空集合，你必须用 set() 而不是 {} ；后者创建一个空的字典。"
   ]
  },
  {
   "cell_type": "code",
   "execution_count": 2,
   "metadata": {},
   "outputs": [
    {
     "name": "stdout",
     "output_type": "stream",
     "text": [
      "{'banana', 'apple', 'pear', 'orange'}\nTrue\nFalse\n"
     ]
    }
   ],
   "source": [
    "basket = {'apple', 'orange', 'apple', 'pear', 'orange', 'banana'}\n",
    "print(basket)  # 删除重复的\n",
    "print('orange' in basket)  # 检测成员\n",
    "print('crabgrass' in basket)"
   ]
  },
  {
   "cell_type": "code",
   "execution_count": 9,
   "metadata": {},
   "outputs": [
    {
     "name": "stdout",
     "output_type": "stream",
     "text": [
      "{'d', 'c', 'r', 'a', 'b'}\n{'r', 'b', 'd'}\n{'d', 'c', 'z', 'r', 'l', 'm', 'a', 'b'}\n{'c', 'a'}\n{'m', 'd', 'z', 'b', 'r', 'l'}\nFalse\nFalse\n"
     ]
    }
   ],
   "source": [
    "# 以下演示了两个集合的操作\n",
    "a = set('abracadabra')\n",
    "b = set('alacazam')\n",
    "print(a)  # 去重 a 中唯一的字母\n",
    "print(a - b)  # 在 a 中的字母，但不在 b 中\n",
    "print(a | b)  # 在 a 或 b 中的字母\n",
    "print(a & b)  # 在 a 和 b 中都有的字母\n",
    "print(a ^ b)  # 在 a 或 b 中的字母，但不同时在 a 和 b 中\n",
    "print(a > b)  # 返回True/False，判断S和T的子集关系\n",
    "print(a <= b)  # 返回True/False，判断S和T的包含关系\n",
    "\n",
    "# print(a -= b)  # 更新集合S，包括在集合S和T中的所有元素\n"
   ]
  },
  {
   "cell_type": "code",
   "execution_count": 10,
   "metadata": {},
   "outputs": [
    {
     "name": "stdout",
     "output_type": "stream",
     "text": [
      "{'r', 'd'}\n"
     ]
    }
   ],
   "source": [
    "# 集合也支持推导式\n",
    "a = {x for x in 'abracadabra' if x not in 'abc'}\n",
    "print(a)"
   ]
  },
  {
   "cell_type": "code",
   "execution_count": 12,
   "metadata": {},
   "outputs": [
    {
     "name": "stdout",
     "output_type": "stream",
     "text": [
      "banana apple pear orange "
     ]
    }
   ],
   "source": [
    "# 操作函数或方法\n",
    "basket = {'apple', 'orange', 'apple', 'pear', 'orange', 'banana'}\n",
    "try:\n",
    "    while True:\n",
    "        print(basket.pop(), end=\" \")  # 与输入顺序无关\n",
    "except:\n",
    "    pass\n"
   ]
  },
  {
   "cell_type": "code",
   "execution_count": 13,
   "metadata": {},
   "outputs": [
    {
     "name": "stdout",
     "output_type": "stream",
     "text": [
      "['y', 123, 'p']\n"
     ]
    }
   ],
   "source": [
    "# 数据去重\n",
    "ls = [\"p\", \"p\", \"y\", \"y\", 123]\n",
    "s = set(ls)\n",
    "lt = list(s)\n",
    "print(lt)\n"
   ]
  },
  {
   "cell_type": "code",
   "execution_count": null,
   "metadata": {},
   "outputs": [],
   "source": []
  }
 ],
 "metadata": {
  "kernelspec": {
   "display_name": "Python 2",
   "language": "python",
   "name": "python2"
  },
  "language_info": {
   "codemirror_mode": {
    "name": "ipython",
    "version": 2
   },
   "file_extension": ".py",
   "mimetype": "text/x-python",
   "name": "python",
   "nbconvert_exporter": "python",
   "pygments_lexer": "ipython2",
   "version": "2.7.6"
  }
 },
 "nbformat": 4,
 "nbformat_minor": 0
}
