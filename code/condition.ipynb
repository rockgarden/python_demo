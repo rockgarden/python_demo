{
 "cells": [
  {
   "cell_type": "heading",
   "metadata": {
    "collapsed": true
   },
   "level": 1,
   "source": [
    "条件控制"
   ]
  },
  {
   "cell_type": "markdown",
   "metadata": {},
   "source": [
    "if 语句\n",
    "Python中if语句的一般形式如下所示：\n",
    "if condition_1:\n",
    "    statement_block_1\n",
    "elif condition_2:\n",
    "    statement_block_2\n",
    "else:\n",
    "    statement_block_3\n",
    "如果 \"condition_1\" 为 True 将执行 \"statement_block_1\" 块语句\n",
    "如果 \"condition_1\" 为False，将判断 \"condition_2\"\n",
    "如果\"condition_2\" 为 True 将执行 \"statement_block_2\" 块语句\n",
    "如果 \"condition_2\" 为False，将执行\"statement_block_3\"块语句\n",
    "Python 中用 elif 代替了 else if，所以if语句的关键字为：if – elif – else。\n",
    "注意：\n",
    "1、每个条件后面要使用冒号（:），表示接下来是满足条件后要执行的语句块。\n",
    "2、使用缩进来划分语句块，相同缩进数的语句在一起组成一个语句块。\n",
    "3、在Python中没有switch – case语句。"
   ]
  },
  {
   "cell_type": "heading",
   "metadata": {},
   "level": 2,
   "source": [
    "if中常用的操作运算符"
   ]
  },
  {
   "cell_type": "code",
   "execution_count": 11,
   "metadata": {},
   "outputs": [
    {
     "name": "stdout",
     "output_type": "stream",
     "text": [
      "False\nFalse\nFalse\nTrue\nAudi\nBMW\nSubaru\nToyota\n"
     ]
    }
   ],
   "source": [
    "# <\t小于\n",
    "# <=\t小于或等于\n",
    "# >\t大于\n",
    "# >=\t大于或等于\n",
    "# ==\t等于，比较对象是否相等\n",
    "print(5 == 6)\n",
    "x = 5\n",
    "y = 8\n",
    "print(x == y)\n",
    "print('audi' == 'Audi')  # 大小写有效\n",
    "car_name = 'Audi'\n",
    "print('audi' == car_name.lower())\n",
    "\n",
    "cars = ['audi', 'bmw', 'subaru', 'toyota']\n",
    "for car in cars:\n",
    "    if car == 'bmw':\n",
    "        print(car.upper())\n",
    "    else:\n",
    "        print(car.title())"
   ]
  },
  {
   "cell_type": "code",
   "execution_count": 10,
   "metadata": {},
   "outputs": [
    {
     "name": "stdout",
     "output_type": "stream",
     "text": [
      "True\nAdding mushrooms.\nSorry, we don't have french fries.\nAdding extra cheese.\n\nFinished making your pizza!\nThat is not the correct answer. Please try again!\n"
     ]
    }
   ],
   "source": [
    "# != 不等于 \n",
    "available_toppings = ['mushrooms', 'olives', 'green peppers',\n",
    "                      'pepperoni', 'pineapple', 'extra cheese']\n",
    "\n",
    "requested_toppings = ['mushrooms', 'french fries', 'extra cheese']\n",
    "\n",
    "print(available_toppings != requested_topping)\n",
    "\n",
    "for requested_topping in requested_toppings:\n",
    "    if requested_topping in available_toppings:\n",
    "        print(\"Adding \" + requested_topping + \".\")\n",
    "    else:\n",
    "        print(\"Sorry, we don't have \" + requested_topping + \".\")\n",
    "\n",
    "print(\"\\nFinished making your pizza!\")\n",
    "\n",
    "answer = 17\n",
    "if answer != 42:\n",
    "    print(\"That is not the correct answer. Please try again!\")\n"
   ]
  },
  {
   "cell_type": "code",
   "execution_count": 15,
   "metadata": {},
   "outputs": [
    {
     "name": "stdout",
     "output_type": "stream",
     "text": [
      "True\nFalse\n"
     ]
    }
   ],
   "source": [
    "# in / not in\n",
    "print('mushrooms' in available_toppings)\n",
    "print('mushrooms' not in available_toppings)"
   ]
  },
  {
   "cell_type": "heading",
   "metadata": {},
   "level": 2,
   "source": [
    "and or"
   ]
  },
  {
   "cell_type": "code",
   "execution_count": 13,
   "metadata": {},
   "outputs": [
    {
     "name": "stdout",
     "output_type": "stream",
     "text": [
      "False\nTrue\n"
     ]
    }
   ],
   "source": [
    "age_0 = 22\n",
    "age_1 = 8\n",
    "print(age_0 >= 21 and age_1 >= 21)\n",
    "print(age_0 >= 21 or age_1 >= 21)"
   ]
  },
  {
   "cell_type": "code",
   "execution_count": 16,
   "metadata": {},
   "outputs": [
    {
     "name": "stdout",
     "output_type": "stream",
     "text": [
      "Sorry, you are too young to vote.\nPlease register to vote as soon as you turn 18!\n"
     ]
    }
   ],
   "source": [
    "age = 17\n",
    "if age >= 18:\n",
    "    print(\"You are old enough to vote!\")\n",
    "    print(\"Have you registered to vote yet?\")\n",
    "else:\n",
    "    print(\"Sorry, you are too young to vote.\")\n",
    "    print(\"Please register to vote as soon as you turn 18!\")"
   ]
  },
  {
   "cell_type": "heading",
   "metadata": {},
   "level": 2,
   "source": [
    "if elif"
   ]
  },
  {
   "cell_type": "code",
   "execution_count": 23,
   "metadata": {},
   "outputs": [
    {
     "name": "stdout",
     "output_type": "stream",
     "text": [
      "Your admission cost is $5.\nYour admission cost is $0.\n"
     ]
    }
   ],
   "source": [
    "# 省略 else block\n",
    "age = 12\n",
    "\n",
    "if age < 4:\n",
    "    price = 0\n",
    "elif age < 18:\n",
    "    price = 5\n",
    "elif age < 65:\n",
    "    price = 10\n",
    "elif age >= 65:\n",
    "    price = 5\n",
    "print(\"Your admission cost is $\" + str(price) + \".\")\n",
    "\n",
    "age = 80\n",
    "if age < 4:\n",
    "    price = 0\n",
    "elif age < 18:\n",
    "    price = 5\n",
    "elif age < 65:\n",
    "    price = 10\n",
    "else:\n",
    "    price = 0\n",
    "print(\"Your admission cost is $\" + str(price) + \".\")"
   ]
  },
  {
   "cell_type": "heading",
   "metadata": {},
   "level": 1,
   "source": [
    "Exercise"
   ]
  },
  {
   "cell_type": "code",
   "execution_count": 18,
   "metadata": {},
   "outputs": [
    {
     "name": "stdout",
     "output_type": "stream",
     "text": [
      "Hello eric, thank you for logging in again!\nHello willie, thank you for logging in again!\nHello admin, would you like to see a status report?\nHello erin, thank you for logging in again!\nHello ever, thank you for logging in again!\n"
     ]
    }
   ],
   "source": [
    "# hello Admin\n",
    "usernames = ['eric', 'willie', 'admin', 'erin', 'ever']\n",
    "\n",
    "for username in usernames:\n",
    "    if username == 'admin':\n",
    "        print(\"Hello admin, would you like to see a status report?\")\n",
    "    else:\n",
    "        print(\"Hello \" + username + \", thank you for logging in again!\")"
   ]
  },
  {
   "cell_type": "code",
   "execution_count": 19,
   "metadata": {},
   "outputs": [
    {
     "name": "stdout",
     "output_type": "stream",
     "text": [
      "We need to find some users!\n"
     ]
    }
   ],
   "source": [
    "# No Users\n",
    "usernames = []\n",
    "\n",
    "if usernames:\n",
    "    for username in usernames:\n",
    "        if username == 'admin':\n",
    "            print(\"Hello admin, would you like to see a status report?\")\n",
    "        else:\n",
    "            print(\"Hello \" + username + \", thank you for logging in again!\")\n",
    "else:\n",
    "    print(\"We need to find some users!\")"
   ]
  },
  {
   "cell_type": "code",
   "execution_count": 20,
   "metadata": {},
   "outputs": [
    {
     "name": "stdout",
     "output_type": "stream",
     "text": [
      "Great, sarah is still available.\nSorry Willie, that name is taken.\nGreat, PHIL is still available.\nSorry ever, that name is taken.\nGreat, Iona is still available.\n"
     ]
    }
   ],
   "source": [
    "# Checking Usernames\n",
    "current_users = ['eric', 'willie', 'admin', 'erin', 'Ever']\n",
    "new_users = ['sarah', 'Willie', 'PHIL', 'ever', 'Iona']\n",
    "\n",
    "current_users_lower = [user.lower() for user in current_users]\n",
    "\n",
    "for new_user in new_users:\n",
    "    if new_user.lower() in current_users_lower:\n",
    "        print(\"Sorry \" + new_user + \", that name is taken.\")\n",
    "    else:\n",
    "        print(\"Great, \" + new_user + \" is still available.\")\n"
   ]
  },
  {
   "cell_type": "code",
   "execution_count": null,
   "metadata": {},
   "outputs": [],
   "source": []
  }
 ],
 "metadata": {
  "kernelspec": {
   "display_name": "Python 2",
   "language": "python",
   "name": "python2"
  },
  "language_info": {
   "codemirror_mode": {
    "name": "ipython",
    "version": 2
   },
   "file_extension": ".py",
   "mimetype": "text/x-python",
   "name": "python",
   "nbconvert_exporter": "python",
   "pygments_lexer": "ipython2",
   "version": "2.7.6"
  }
 },
 "nbformat": 4,
 "nbformat_minor": 0
}
