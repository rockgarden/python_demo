{
 "cells": [
  {
   "cell_type": "markdown",
   "metadata": {
    "collapsed": true
   },
   "source": [
    "正则表达式是一个特殊的字符序列，它能帮助你方便的检查一个字符串是否与某种模式匹配。\n",
    "Python 自1.5版本起增加了re 模块，它提供 Perl 风格的正则表达式模式。\n",
    "re 模块使 Python 语言拥有全部的正则表达式功能。\n",
    "compile 函数根据一个模式字符串和可选的标志参数生成一个正则表达式对象。该对象拥有一系列方法用于正则表达式匹配和替换。\n",
    "re 模块也提供了与这些方法功能完全一致的函数，这些函数使用一个模式字符串做为它们的第一个参数。"
   ]
  },
  {
   "cell_type": "code",
   "execution_count": 12,
   "metadata": {},
   "outputs": [
    {
     "name": "stdout",
     "output_type": "stream",
     "text": [
      "100081\n"
     ]
    }
   ],
   "source": [
    "# -*- coding: utf-8 -*-\n",
    "import re\n",
    "\n",
    "# re.search(pattern, string, flags=0))返回match对象\n",
    "match = re.search(r'[1-9]\\d{5}', 'BIT 100081')  # raw string原生字符串\n",
    "if match:\n",
    "    print(match.group(0))  # 100081"
   ]
  },
  {
   "cell_type": "code",
   "execution_count": null,
   "metadata": {},
   "outputs": [],
   "source": [
    "import re\n",
    "\n",
    "# re.match(pattern, string, flags=0))返回match对象。从字符串起始位置匹配，如果不是起始位置匹配成功，返回none\n",
    "# match1 = re.match(r'[1-9]\\d{5}', 'BIT 100081')\n",
    "# print(match1.group(0)) # AttributeError: 'NoneType' object has no attribute 'group'。空变量无法调用group方法\n",
    "match2 = re.match(r'[1-9]\\d{5}', '100081 BIT')  # 返回match对象。\n",
    "if match2:\n",
    "    print(match2.group(0))"
   ]
  },
  {
   "cell_type": "code",
   "execution_count": null,
   "metadata": {},
   "outputs": [],
   "source": [
    "import re\n",
    "\n",
    "# re.findall(pattern, string, flags=0))返回列表\n",
    "ls = re.findall(r'[1-9]\\d{5}', 'BIT100081 TSU100084')\n",
    "print(ls)"
   ]
  },
  {
   "cell_type": "code",
   "execution_count": null,
   "metadata": {},
   "outputs": [],
   "source": [
    "import re\n",
    "\n",
    "# re.split(pattern, string, maxsplit=0, flags=0)返回列表， maxsplit最大分割数，剩余部分作为最后一个元素输出\n",
    "print()\n",
    "ls1 = re.split(r'[1-9]\\d{5}', 'BIT100081 TSU100084')\n",
    "print(ls1)  # ['BIT', ' TSU', '']\n",
    "ls2 = re.split(r'[1-9]\\d{5}', 'BIT100081 TSU100084', maxsplit=1)\n",
    "print(ls2)  # ['BIT', ' TSU100084']"
   ]
  },
  {
   "cell_type": "code",
   "execution_count": 7,
   "metadata": {},
   "outputs": [
    {
     "name": "stdout",
     "output_type": "stream",
     "text": [
      "\n100081\n100084\n"
     ]
    }
   ],
   "source": [
    "import re\n",
    "\n",
    "# re.finditer(pattern, string, flags=0)返回匹配结果的迭代类型，每个迭代元素是match对象\n",
    "print()\n",
    "for m in re.finditer(r'[1-9]\\d{5}', 'BIT100081 TSU100084'):\n",
    "    if m:\n",
    "        print(m.group(0))"
   ]
  },
  {
   "cell_type": "code",
   "execution_count": 6,
   "metadata": {},
   "outputs": [
    {
     "name": "stdout",
     "output_type": "stream",
     "text": [
      "\nBIT:zipcode TSU:zipcode\n"
     ]
    }
   ],
   "source": [
    "import re\n",
    "\n",
    "# re.sub(pattern, repl, string, count=0, flags=0)返回替换后的字符串\n",
    "print()\n",
    "str = re.sub(r'[1-9]\\d{5}', ':zipcode', 'BIT100081 TSU100084')\n",
    "print(str)  # BIT:zipcode TSU:zipcode"
   ]
  },
  {
   "cell_type": "code",
   "execution_count": 8,
   "metadata": {},
   "outputs": [],
   "source": [
    "# 等价用法\n",
    "import re\n",
    "\n",
    "# 函数式用法：一次性操作\n",
    "rst = re.search(r'[1‐9]\\d{5}', 'BIT 100081')\n",
    "# 面向对象用法：编译后的多次操作\n",
    "regex = re.compile(r'[1‐9]\\d{5}')\n",
    "rst = regex.search('BIT 100081')"
   ]
  },
  {
   "cell_type": "code",
   "execution_count": 11,
   "metadata": {},
   "outputs": [
    {
     "name": "stdout",
     "output_type": "stream",
     "text": [
      "<class '_sre.SRE_Match'>\nBIT100081 TSU100084\nre.compile('[1-9]\\\\d{5}')\n0\n19\n100081\n3\n9\n(3, 9)\nPYANBNCNDN\nPYAN\n['1345', '', '193.20', '', '12.0', '']\n"
     ]
    }
   ],
   "source": [
    "# RE库的match对象\n",
    "import re\n",
    "\n",
    "# match对象的属性\n",
    "m = re.search(r'[1-9]\\d{5}', 'BIT100081 TSU100084')\n",
    "print(type(m))\n",
    "print(m.string)  # BIT 100081 待匹配的文本\n",
    "print(m.re)  # re.compile('[1-9]\\\\d{5}') 匹配时使用的patter对象（正则表达式）\n",
    "print(m.pos)  # 0 正则表达式搜索文本的开始位置\n",
    "print(m.endpos)  # 19 正则表达式搜索文本的结束位置\n",
    "\n",
    "# match对象的方法\n",
    "print(m.group(0))  # 100081 等价于print(m.group())。match对象只包含一次匹配的结果，若要显示所有匹配结果使用finditer()\n",
    "print(m.start())  # 3 匹配字符串在原始字符串的开始位置\n",
    "print(m.end())  # 9 匹配字符串在原始字符串的结束位置\n",
    "print(m.span())  # (3, 9) 返回(.start(), .end())\n",
    "\n",
    "# RE库默认采用贪婪匹配，输出匹配最长的子串\n",
    "m1 = re.search(r'PY.*N', 'PYANBNCNDN')\n",
    "print(m1.group(0))\n",
    "m2 = re.search(r'PY.*?N', 'PYANBNCNDN')  # 最小匹配（最小匹配操作符：*?、+?、??、{m,n}?）\n",
    "print(m2.group(0))\n",
    "\n",
    "m1 = re.findall(r\"[\\d.]*\", '1345 193.20 12.0')\n",
    "print(m1)  # ['1345', '', '193.20', '', '12.0', '']"
   ]
  },
  {
   "cell_type": "code",
   "execution_count": null,
   "metadata": {},
   "outputs": [],
   "source": []
  }
 ],
 "metadata": {
  "kernelspec": {
   "display_name": "Python 2",
   "language": "python",
   "name": "python2"
  },
  "language_info": {
   "codemirror_mode": {
    "name": "ipython",
    "version": 2
   },
   "file_extension": ".py",
   "mimetype": "text/x-python",
   "name": "python",
   "nbconvert_exporter": "python",
   "pygments_lexer": "ipython2",
   "version": "2.7.6"
  }
 },
 "nbformat": 4,
 "nbformat_minor": 0
}
