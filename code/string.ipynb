{
 "cells": [
  {
   "cell_type": "markdown",
   "metadata": {
    "collapsed": true
   },
   "source": [
    "# 字符串\n",
    "由0个或多个字符组成的有序字符序列\n",
    "- 字符串由一对单引号或一对双引号表示\n",
    "- 字符串是字符的有序序列，可以对其中的字符进行索引\n",
    "- 由一对单引号或双引号表示，仅表示单行字符串\n",
    "- 由一对三单引号或三双引号表示，可表示多行字符串"
   ]
  },
  {
   "cell_type": "code",
   "execution_count": 1,
   "metadata": {},
   "outputs": [
    {
     "data": {
      "text/plain": [
       "'这里既有单引号(\\')又有双引号(\")'"
      ]
     },
     "execution_count": 1,
     "metadata": {},
     "output_type": "execute_result"
    }
   ],
   "source": [
    "# 在字符串中既包括单引号又包括双引号\n",
    "'''这里既有单引号(')又有双引号(\")'''\n"
   ]
  },
  {
   "cell_type": "markdown",
   "metadata": {},
   "source": [
    "## 使用[ ]获取字符串中一个或多个字符\n",
    "- 索引：返回字符串中单个字符  <字符串>[M]\n",
    "- 切片：返回字符串中一段字符子串  <字符串>[M: N] \n"
   ]
  },
  {
   "cell_type": "code",
   "execution_count": 10,
   "metadata": {},
   "outputs": [
    {
     "name": "stdout",
     "output_type": "stream",
     "text": [
      "请\n输入\n请输入带有符号的温\n"
     ]
    }
   ],
   "source": [
    "test_str = \"请输入带有符号的温度值: \"\n",
    "print(test_str[0])\n",
    "print(test_str[1:3])\n",
    "print(test_str[0:-4])"
   ]
  },
  {
   "cell_type": "markdown",
   "metadata": {},
   "source": [
    "使用[M:N: K]根据步长对字符串切片\n",
    "- <字符串>[M: N]，M缺失表示至开头，N缺失表示至结尾\n",
    "- <字符串>[M: N: K]，根据步长K对字符串切片"
   ]
  },
  {
   "cell_type": "code",
   "execution_count": 13,
   "metadata": {},
   "outputs": [
    {
     "name": "stdout",
     "output_type": "stream",
     "text": [
      "〇一二\n〇二四六\n十八六四二〇\n"
     ]
    }
   ],
   "source": [
    "test_str = \"〇一二三四五六七八九十\"\n",
    "print(test_str[:3])\n",
    "print(test_str[0:8:2])\n",
    "print(test_str[::-2])"
   ]
  },
  {
   "cell_type": "markdown",
   "metadata": {},
   "source": [
    "## 特殊字符"
   ]
  },
  {
   "cell_type": "code",
   "execution_count": 14,
   "metadata": {},
   "outputs": [
    {
     "name": "stdout",
     "output_type": "stream",
     "text": [
      "这里有个双引号(\")\n\b回退\n换行\r回车(光标移动到本行首)\n"
     ]
    }
   ],
   "source": [
    "print(\"这里有个双引号(\\\")\")\n",
    "print(\"\\b回退\\n换行\\r回车(光标移动到本行首)\")"
   ]
  },
  {
   "cell_type": "markdown",
   "metadata": {},
   "source": [
    "## 操作符\n",
    "- x+y连接两个字符串x和y\n",
    "- n*x 或 x*n 复制n次字符串x\n",
    "- x in s如果x是s的子串，返回True，否则返回False"
   ]
  },
  {
   "cell_type": "code",
   "execution_count": 18,
   "metadata": {},
   "outputs": [
    {
     "name": "stdout",
     "output_type": "stream",
     "text": [
      "星期日\n星期三\n"
     ]
    }
   ],
   "source": [
    "weekStr = \"星期一星期二星期三星期四星期五星期六星期日\"\n",
    "weekId = eval(\"7\")\n",
    "pos = (weekId - 1) * 3\n",
    "print(weekStr[pos: pos + 3])\n",
    "\n",
    "weekStr = \"一二三四五六日\"\n",
    "weekId = eval(\"3\")\n",
    "print(\"星期\" + weekStr[weekId - 1])\n"
   ]
  },
  {
   "cell_type": "markdown",
   "metadata": {},
   "source": [
    "## 处理函数\n",
    "- len(x)长度，返回字符串x的长度\n",
    "- str(x)任意类型x所对应的字符串形式\n",
    "- hex(x)或oct(x)整数x的十六进制或八进制小写形式字符串"
   ]
  },
  {
   "cell_type": "code",
   "execution_count": 20,
   "metadata": {},
   "outputs": [
    {
     "name": "stdout",
     "output_type": "stream",
     "text": [
      "0x1a9\n0o651\n1 + 1 = 2 ✔\n这个字符♉的Unicode值是：9801\n♈♉♊♋♌♍♎♏♐♑♒♓"
     ]
    }
   ],
   "source": [
    "len(\"一二三456\")\n",
    "str(1.23)\n",
    "str([1, 2])\n",
    "print(hex(425))\n",
    "print(oct(425))\n",
    "print(\"1 + 1 = 2 \" + chr(10004))\n",
    "print(\"这个字符♉的Unicode值是：\" + str(ord(\"♉\")))\n",
    "for i in range(12):\n",
    "    print(chr(9800 + i), end=\"\")\n"
   ]
  },
  {
   "cell_type": "markdown",
   "metadata": {},
   "source": [
    "## 处理方法\n",
    "- str.lower()或str.upper()返回字符串的副本，全部字符小写/大写\n",
    "- str.split(sep=None)返回一个列表，由str根据sep被分隔的部分组成\n",
    "- str.count(sub)返回子串sub在str中出现的次数\n",
    "- str.replace(old, new)返回字符串str副本，所有old子串被替换为new\n",
    "- str.center(width[,fillchar])字符串str根据宽度width居中，fillchar可选\n",
    "- str.strip(chars)从str中去掉在其左侧和右侧chars中列出的字符"
   ]
  },
  {
   "cell_type": "code",
   "execution_count": 22,
   "metadata": {},
   "outputs": [
    {
     "name": "stdout",
     "output_type": "stream",
     "text": [
      "abcdefgh\n['A', 'B', 'C']\n4\npython123.io\n=======python=======\n"
     ]
    }
   ],
   "source": [
    "print(\"AbCdEfGh\".lower())\n",
    "print(\"A,B,C\".split(\",\"))\n",
    "print(\"a apple a day\".count(\"a\"))\n",
    "print(\"python\".replace(\"n\", \"n123.io\"))\n",
    "print(\"python\".center(20, \"=\"))\n",
    "print(\"= python= \".strip(\"=np\"))\n",
    "print(\",\".join(\"12345\"))"
   ]
  },
  {
   "cell_type": "markdown",
   "metadata": {},
   "source": [
    "## 格式化\n",
    "- 字符串格式化使用.format()方法，用法如下：<模板字符串>.format(<逗号分隔的参数>)"
   ]
  },
  {
   "cell_type": "code",
   "execution_count": 24,
   "metadata": {},
   "outputs": [
    {
     "name": "stdout",
     "output_type": "stream",
     "text": [
      "2018-10-10:计算机C的CPU占用率为10%\nC:计算机2018-10-10的CPU占用率为10%\n"
     ]
    }
   ],
   "source": [
    "print(\"{}:计算机{}的CPU占用率为{}%\".format(\"2018-10-10\", \"C\", 10))\n",
    "print(\"{1}:计算机{0}的CPU占用率为{2}%\".format(\"2018-10-10\", \"C\", 10))\n"
   ]
  },
  {
   "cell_type": "markdown",
   "metadata": {},
   "source": [
    "### format()方法的格式控制\n",
    "槽内部对格式化的配置方式{ <参数序号> ：<格式控制标记>} ：<填充><对齐><宽度><,><.精度><类型>\n",
    "- <类型>:整数类型b, c, d, o, x, X浮点数类型e, E, f, %\n",
    "- <.精度>:浮点数小数精度或字符串最大输出长度\n",
    "- <,>:数字的千位分隔符\n",
    "- <宽度>:槽设定的输出宽度\n",
    "- <对齐>:< 左对齐> 右对齐^ 居中对齐\n",
    "- <填充>:用于填充的单个字符\n",
    "- \":\"引导符号"
   ]
  },
  {
   "cell_type": "code",
   "execution_count": 26,
   "metadata": {},
   "outputs": [
    {
     "name": "stdout",
     "output_type": "stream",
     "text": [
      "=======PYTHON=======\n*****************BIT\n12,345.68\n110101001,Ʃ,425,651,1a9,1A9\n3.140000e+00,3.140000E+00,3.140000,314.000000%\n"
     ]
    }
   ],
   "source": [
    "print(\"{0:=^20}\".format(\"PYTHON\"))\n",
    "print(\"{0:*>20}\".format(\"BIT\"))\n",
    "print(\"{0:,.2f}\".format(12345.6789))\n",
    "print(\"{0:b},{0:c},{0:d},{0:o},{0:x},{0:X}\".format(425))\n",
    "print(\"{0:e},{0:E},{0:f},{0:%}\".format(3.14))"
   ]
  },
  {
   "cell_type": "code",
   "execution_count": null,
   "metadata": {},
   "outputs": [],
   "source": []
  }
 ],
 "metadata": {
  "kernelspec": {
   "display_name": "Python 2",
   "language": "python",
   "name": "python2"
  },
  "language_info": {
   "codemirror_mode": {
    "name": "ipython",
    "version": 2
   },
   "file_extension": ".py",
   "mimetype": "text/x-python",
   "name": "python",
   "nbconvert_exporter": "python",
   "pygments_lexer": "ipython2",
   "version": "2.7.6"
  }
 },
 "nbformat": 4,
 "nbformat_minor": 0
}
