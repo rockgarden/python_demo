{
 "cells": [
  {
   "cell_type": "markdown",
   "metadata": {
    "collapsed": true
   },
   "source": [
    "# 字符串\n",
    "字符串是 Python 中最常用的数据类型。我们可以使用引号('或\")来创建字符串。\n",
    "\n",
    "创建字符串很简单，只要为变量分配一个值即可。\n",
    "\n",
    "由0个或多个字符组成的有序字符序列\n",
    "- 字符串由一对单引号或一对双引号表示\n",
    "- 字符串是字符的有序序列，可以对其中的字符进行索引\n",
    "- 由一对单引号或双引号表示，仅表示单行字符串\n",
    "- 由一对三单引号或三双引号表示，可表示多行字符串"
   ]
  },
  {
   "cell_type": "code",
   "execution_count": 1,
   "metadata": {},
   "outputs": [
    {
     "data": {
      "text/plain": [
       "'这里既有单引号(\\')又有双引号(\")'"
      ]
     },
     "execution_count": 1,
     "metadata": {},
     "output_type": "execute_result"
    }
   ],
   "source": [
    "# 在字符串中既包括单引号又包括双引号\n",
    "'''这里既有单引号(')又有双引号(\")'''\n"
   ]
  },
  {
   "cell_type": "markdown",
   "metadata": {},
   "source": [
    "## 使用[ ]获取字符串中一个或多个字符\n",
    "- 索引：返回字符串中单个字符  <字符串>[M]\n",
    "- 切片：返回字符串中一段字符子串  <字符串>[M: N] \n"
   ]
  },
  {
   "cell_type": "code",
   "execution_count": 10,
   "metadata": {},
   "outputs": [
    {
     "name": "stdout",
     "output_type": "stream",
     "text": [
      "请\n输入\n请输入带有符号的温\n"
     ]
    }
   ],
   "source": [
    "test_str = \"请输入带有符号的温度值: \"\n",
    "print(test_str[0])\n",
    "print(test_str[1:3])\n",
    "print(test_str[0:-4])"
   ]
  },
  {
   "cell_type": "markdown",
   "metadata": {},
   "source": [
    "使用[M:N: K]根据步长对字符串切片\n",
    "- <字符串>[M: N]，M缺失表示至开头，N缺失表示至结尾\n",
    "- <字符串>[M: N: K]，根据步长K对字符串切片"
   ]
  },
  {
   "cell_type": "code",
   "execution_count": 13,
   "metadata": {},
   "outputs": [
    {
     "name": "stdout",
     "output_type": "stream",
     "text": [
      "〇一二\n〇二四六\n十八六四二〇\n"
     ]
    }
   ],
   "source": [
    "test_str = \"〇一二三四五六七八九十\"\n",
    "print(test_str[:3])\n",
    "print(test_str[0:8:2])\n",
    "print(test_str[::-2])"
   ]
  },
  {
   "cell_type": "markdown",
   "metadata": {},
   "source": [
    "## 特殊字符\n",
    "在需要在字符中使用特殊字符时，python用反斜杠(\\)转义字符。如下表：\n",
    "转义字符\t描述\n",
    "- \\ (在行尾时)\t续行符\n",
    "- \\\\\t反斜杠符号\n",
    "- \\'\t单引号\n",
    "- \\\"\t双引号\n",
    "- \\a\t响铃\n",
    "- \\b\t退格(Backspace)\n",
    "- \\e\t转义\n",
    "- \\000\t空\n",
    "- \\n\t换行\n",
    "- \\v\t纵向制表符\n",
    "- \\t\t横向制表符\n",
    "- \\r\t回车\n",
    "- \\f\t换页\n",
    "- \\oyy\t八进制数，yy代表的字符，例如：\\o12代表换行\n",
    "- \\xyy\t十六进制数，yy代表的字符，例如：\\x0a代表换行\n",
    "- \\other\t其它的字符以普通格式输出"
   ]
  },
  {
   "cell_type": "code",
   "execution_count": 3,
   "metadata": {},
   "outputs": [
    {
     "name": "stdout",
     "output_type": "stream",
     "text": [
      "这里有个双引号(\")\n\b回退\n换行\r回车(光标移动到本行首)\n"
     ]
    }
   ],
   "source": [
    "print(\"这里有个双引号(\\\")\")\n",
    "print(\"\\b回退\\n换行\\r回车(光标移动到本行首)\")"
   ]
  },
  {
   "cell_type": "markdown",
   "metadata": {},
   "source": [
    "## 操作符\n",
    "下表实例变量a值为字符串 \"Hello\"，b变量值为 \"Python\"：\n",
    "- 字符串连接 +\n",
    "- 重复输出字符串 * : n*x 或 x*n 复制n次字符串x\ta*2 输出结果：HelloHello\n",
    "- []\t通过索引获取字符串中字符\ta[1] 输出结果 e\n",
    "- [ : ]\t截取字符串中的一部分\ta[1:4] 输出结果 ell\n",
    "- in\t成员运算符 - 如果字符串中包含给定的字符返回 True\tH in a 输出结果 1\n",
    "- not in\t成员运算符 - 如果字符串中不包含给定的字符返回 True\tM not in a 输出结果 1\n",
    "- r/R\t原始字符串 - 原始字符串：所有的字符串都是直接按照字面的意思来使用，没有转义特殊或不能打印的字符。\n",
    "- 原始字符串除在字符串的第一个引号前加上字母\"r\"（可以大小写）以外，与普通字符串有着几乎完全相同的语法。\n",
    "- \n",
    "- %\t格式字符串"
   ]
  },
  {
   "cell_type": "code",
   "execution_count": 10,
   "metadata": {},
   "outputs": [
    {
     "name": "stdout",
     "output_type": "stream",
     "text": [
      "星期日\n星期三\n\\n\n\n\n\\n\na + b 输出结果： HelloPython\na * 2 输出结果： HelloHello\na[1] 输出结果： e\na[1:4] 输出结果： ell\nH 在变量 a 中\nM 不在变量 a 中\nllo\nhello world\nhello world\nlo world\nhello wo\nld\n\n\n"
     ]
    }
   ],
   "source": [
    "weekStr = \"星期一星期二星期三星期四星期五星期六星期日\"\n",
    "weekId = eval(\"7\")\n",
    "pos = (weekId - 1) * 3\n",
    "print(weekStr[pos: pos + 3])\n",
    "\n",
    "weekStr = \"一二三四五六日\"\n",
    "weekId = eval(\"3\")\n",
    "print(\"星期\" + weekStr[weekId - 1])\n",
    "\n",
    "print(r'\\n') \n",
    "print(\"\\n\") \n",
    "print(R'\\n')\n",
    "\n",
    "a = \"Hello\"\n",
    "b = \"Python\"\n",
    "\n",
    "print(\"a + b 输出结果：\", a + b)\n",
    "print(\"a * 2 输出结果：\", a * 2)\n",
    "print(\"a[1] 输出结果：\", a[1])\n",
    "print(\"a[1:4] 输出结果：\", a[1:4])\n",
    "\n",
    "if \"H\" in a:\n",
    "    print(\"H 在变量 a 中\")\n",
    "else:\n",
    "    print(\"H 不在变量 a 中\")\n",
    "\n",
    "if \"M\" not in a:\n",
    "    print(\"M 不在变量 a 中\")\n",
    "else:\n",
    "    print(\"M 在变量 a 中\")\n",
    "    \n",
    "# 0、a,b为参数。从字符串指针为a的地方开始截取字符，到b的前一个位置（因为不包含b）\n",
    "var1 = \"hello world\"\n",
    "print(var1[2: 5])\n",
    "\n",
    "# 1、如果a,b均不填写，默认取全部字符。即，下面这两个打印结果是一样的\n",
    "print(var1[:])  # hello world\n",
    "print(var1)  # hello world\n",
    "\n",
    "# 2、如果a填写，b不填写（或填写的值大于指针下标），默认从a开始截取，至字符串最后一个位置\n",
    "print(var1[3:])  # lo world\n",
    "\n",
    "# 3、如果a不填写， b填写，默认从0位置开始截取，至b的前一个位置\n",
    "print(var1[: 8])  # hello wo\n",
    "\n",
    "# 4、如果a为负数，默认从尾部某一位置，开始向后截取\n",
    "print(var1[-2:])  # ld\n",
    "\n",
    "# 5、如果a>=b, 默认输出为空。\n",
    "print(var1[3: 3])\n",
    "print(var1[3: 2])"
   ]
  },
  {
   "cell_type": "markdown",
   "metadata": {},
   "source": [
    "## 处理函数\n",
    "- len(x)长度，返回字符串x的长度\n",
    "- str(x)任意类型x所对应的字符串形式\n",
    "- hex(x)或oct(x)整数x的十六进制或八进制小写形式字符串"
   ]
  },
  {
   "cell_type": "code",
   "execution_count": 20,
   "metadata": {
    "collapsed": true
   },
   "outputs": [
    {
     "name": "stdout",
     "output_type": "stream",
     "text": [
      "0x1a9\n0o651\n1 + 1 = 2 ✔\n这个字符♉的Unicode值是：9801\n♈♉♊♋♌♍♎♏♐♑♒♓"
     ]
    }
   ],
   "source": [
    "len(\"一二三456\")\n",
    "str(1.23)\n",
    "str([1, 2])\n",
    "print(hex(425))\n",
    "print(oct(425))\n",
    "print(\"1 + 1 = 2 \" + chr(10004))\n",
    "print(\"这个字符♉的Unicode值是：\" + str(ord(\"♉\")))\n",
    "for i in range(12):\n",
    "    print(chr(9800 + i), end=\"\")"
   ]
  },
  {
   "cell_type": "markdown",
   "metadata": {},
   "source": [
    "## 处理方法\n",
    "- str.lower()或str.upper()返回字符串的副本，全部字符小写/大写\n",
    "- str.split(sep=None)返回一个列表，由str根据sep被分隔的部分组成\n",
    "- str.count(str, beg= 0,end=len(string)) # 返回 str 在 string 里面出现的次数，如果 beg 或者 end 指定则返回指定范围内 str 出现的次数。\n",
    "- str.replace(old, new, count)返回字符串str副本，所有old子串被替换为new，如果 count 指定，则替换不超过 count 次。\n",
    "- str.center(width[,fillchar]) 返回一个指定的宽度 width 居中的字符串，fillchar 为填充的字符，默认为空格。\n",
    "- str.strip(chars)从str中去掉在其左侧和右侧chars中列出的字符\n",
    "- find(str, beg=0 end=len(string)) 检测 str 是否包含在字符串中，如果指定范围 beg 和 end ，则检查是否包含在指定范围内，如果包含返回开始的索引值，否则返回-1"
   ]
  },
  {
   "cell_type": "code",
   "execution_count": null,
   "metadata": {},
   "outputs": [],
   "source": [
    "# capitalize()\n",
    "# 将字符串的第一个字符转换为大写\n",
    "# \n",
    "# 4\n",
    "# bytes.decode(encoding=\"utf-8\", errors=\"strict\")\n",
    "# \n",
    "# Python3 中没有 decode 方法，但我们可以使用 bytes 对象的 decode() 方法来解码给定的 bytes 对象，这个 bytes 对象可以由 str.encode() 来编码返回。\n",
    "# 5\n",
    "# encode(encoding='UTF-8',errors='strict')\n",
    "# \n",
    "# 以 encoding 指定的编码格式编码字符串，如果出错默认报一个ValueError 的异常，除非 errors 指定的是'ignore'或者'replace'\n",
    "# 6\n",
    "# endswith(suffix, beg=0, end=len(string))\n",
    "# 检查字符串是否以 obj 结束，如果beg 或者 end 指定则检查指定的范围内是否以 obj 结束，如果是，返回 True,否则返回 False.\n",
    "# 7\n",
    "# expandtabs(tabsize=8)\n",
    "# \n",
    "# 把字符串 string 中的 tab 符号转为空格，tab 符号默认的空格数是 8 。\n",
    "\n",
    "# 9\n",
    "# index(str, beg=0, end=len(string))\n",
    "# \n",
    "# 跟find()方法一样，只不过如果str不在字符串中会报一个异常.\n",
    "# 10\n",
    "# isalnum()\n",
    "# \n",
    "# 如果字符串至少有一个字符并且所有字符都是字母或数字则返 回 True,否则返回 False\n",
    "# 11\n",
    "# isalpha()\n",
    "# \n",
    "# 如果字符串至少有一个字符并且所有字符都是字母则返回 True, 否则返回 False\n",
    "# 12\n",
    "# isdigit()\n",
    "# \n",
    "# 如果字符串只包含数字则返回 True 否则返回 False..\n",
    "# 13\n",
    "# islower()\n",
    "# \n",
    "# 如果字符串中包含至少一个区分大小写的字符，并且所有这些(区分大小写的)字符都是小写，则返回 True，否则返回 False\n",
    "# 14\n",
    "# isnumeric()\n",
    "# \n",
    "# 如果字符串中只包含数字字符，则返回 True，否则返回 False\n",
    "# 15\n",
    "# isspace()\n",
    "# \n",
    "# 如果字符串中只包含空白，则返回 True，否则返回 False.\n",
    "# 16\n",
    "# istitle()\n",
    "# \n",
    "# 如果字符串是标题化的(见 title())则返回 True，否则返回 False\n",
    "# 17\n",
    "# isupper()\n",
    "# \n",
    "# 如果字符串中包含至少一个区分大小写的字符，并且所有这些(区分大小写的)字符都是大写，则返回 True，否则返回 False\n",
    "# 18\n",
    "# join(seq)\n",
    "# \n",
    "# 以指定字符串作为分隔符，将 seq 中所有的元素(的字符串表示)合并为一个新的字符串\n",
    "# 19\n",
    "# len(string)\n",
    "# \n",
    "# 返回字符串长度\n",
    "# 20\n",
    "# ljust(width[, fillchar])\n",
    "# \n",
    "# 返回一个原字符串左对齐,并使用 fillchar 填充至长度 width 的新字符串，fillchar 默认为空格。\n",
    "# \n",
    "# 23\n",
    "# maketrans()\n",
    "# \n",
    "# 创建字符映射的转换表，对于接受两个参数的最简单的调用方式，第一个参数是字符串，表示需要转换的字符，第二个参数也是字符串表示转换的目标。\n",
    "# 24\n",
    "# max(str)\n",
    "# \n",
    "# 返回字符串 str 中最大的字母。\n",
    "# 25\n",
    "# min(str)\n",
    "# \n",
    "# 返回字符串 str 中最小的字母。\n",
    "#\n",
    "# 27\n",
    "# rfind(str, beg=0,end=len(string))\n",
    "# \n",
    "# 类似于 find()函数，不过是从右边开始查找.\n",
    "# 28\n",
    "# rindex( str, beg=0, end=len(string)) 类似于 index()，不过是从右边开始.\n",
    "# \n",
    "# rjust(width,[, fillchar]) 返回一个原字符串右对齐,并使用fillchar(默认空格）填充至长度 width 的新字符串\n",
    "# \n",
    "# splitlines([keepends]) 按照行('\\r', '\\r\\n', \\n')分隔，返回一个包含各行作为元素的列表，如果参数 keepends 为 False，不包含换行符，如果为 True，则保留换行符。\n",
    "# \n",
    "# startswith(str, beg=0,end=len(string)) 检查字符串是否是以 obj 开头，是则返回 True，否则返回 False。如果beg 和 end 指定值，则在指定范围内检查。\n",
    "# \n",
    "# \n",
    "# swapcase() 将字符串中大写转换为小写，小写转换为大写\n",
    "# \n",
    "# \n",
    "# \n",
    "# \n",
    "# translate(table, deletechars=\"\") 根据 str 给出的表(包含 256 个字符)转换 string 的字符, 要过滤掉的字符放到 deletechars 参数中\n",
    "\n",
    "\n",
    "# zfill (width) 返回长度为 width 的字符串，原字符串右对齐，前面填充0\n",
    "# \n",
    "# isdecimal() 检查字符串是否只包含十进制字符，如果是返回 true，否则返回 false。"
   ]
  },
  {
   "cell_type": "code",
   "execution_count": 39,
   "metadata": {},
   "outputs": [
    {
     "name": "stdout",
     "output_type": "stream",
     "text": [
      "abcdefgh\n['A', 'B', 'C']\n['', 'kifqoojfei']\n477241\n4\npython123.io\n=======python=======\n1,2,3,4,5\nHello, Ada Lovelace!\n"
     ]
    }
   ],
   "source": [
    "print(\"AbCdEfGh\".lower())\n",
    "\n",
    "print(\"A,B,C\".split(\",\"))\n",
    "\n",
    "# 以 str \"k\" 为分隔符截取字符串，如果 num 有指定值，则仅截取 num 个子字符串\n",
    "str1 = \"kkifqoojfei\"\n",
    "print(str1.split(\"k\", str1.count(\"ki\")))\n",
    "\n",
    "s = \"selectResult('477241')\"\n",
    "print(s.split(\"'\")[1])\n",
    "\n",
    "print(\"a apple a day\".count(\"a\"))\n",
    "\n",
    "print(\"python\".replace(\"n\", \"n123.io\"))\n",
    "\n",
    "print(\"python\".center(20, \"=\"))\n",
    "\n",
    "print(\",\".join(\"12345\"))\n",
    "\n",
    "# title() 返回\"标题化\"的字符串,就是说所有单词都是以大写开始，其余字母均为小写(见 istitle())\n",
    "first_name = \"ada\"\n",
    "last_name = \"lovelace\"\n",
    "full_name = first_name + \" \" + last_name\n",
    "message = \"Hello, \" + full_name.title() + \"!\"\n",
    "print(message)"
   ]
  },
  {
   "cell_type": "code",
   "execution_count": 1,
   "metadata": {},
   "outputs": [
    {
     "name": "stdout",
     "output_type": "stream",
     "text": [
      "Unmodified: \tEric Matthes\n\nUsing lstrip(): Eric Matthes\n\nUsing rstrip(): \tEric Matthes\nUsing strip(): Eric Matthes\n python= \n"
     ]
    }
   ],
   "source": [
    "# rstrip() 删除字符串字符串末尾的空格.\n",
    "# lstrip() 截掉字符串左边的空格或指定字符。\n",
    "# strip([chars]) 在字符串上执行 lstrip()和 rstrip()\n",
    "name = \"\\tEric Matthes\\n\"\n",
    "\n",
    "print(\"Unmodified:\", name)\n",
    "print(\"Using lstrip():\", name.lstrip())\n",
    "print(\"Using rstrip():\", name.rstrip())  # \\n 也算字符被截掉\n",
    "print(\"Using strip():\", name.strip())  # \\t 和 \\n 被截掉字\n",
    "print(\"= python= \".strip(\"=np\"))"
   ]
  },
  {
   "cell_type": "code",
   "execution_count": 30,
   "metadata": {},
   "outputs": [
    {
     "name": "stdout",
     "output_type": "stream",
     "text": [
      "xyz4课时 13分钟 \nxyz4课时 \n13分钟 \nxyz4课时13分钟\n"
     ]
    }
   ],
   "source": [
    "str_space = \"   xy  z 4课时 \\xa0 \\n          13分钟 \\xa0 \"\n",
    "print(str_space.replace('\\n', '').replace(' ', ''))\n",
    "print(str_space.replace(' ', ''))\n",
    "print(''.join(str_space.split()))"
   ]
  },
  {
   "cell_type": "code",
   "execution_count": 23,
   "metadata": {},
   "outputs": [
    {
     "name": "stdout",
     "output_type": "stream",
     "text": [
      "Door:Novum\n"
     ]
    }
   ],
   "source": [
    "inputstring = u'\\n                      Door:\\xa0Novum          \\t      '\n",
    "move = dict.fromkeys((ord(c) for c in u\"\\xa0\\n\\t \"))\n",
    "output = inputstring.translate(move)\n",
    "print(output)"
   ]
  },
  {
   "cell_type": "markdown",
   "metadata": {},
   "source": [
    "## 格式化\n",
    "- 字符串格式化使用.format()方法，用法如下：<模板字符串>.format(<逗号分隔的参数>)"
   ]
  },
  {
   "cell_type": "code",
   "execution_count": 24,
   "metadata": {},
   "outputs": [
    {
     "name": "stdout",
     "output_type": "stream",
     "text": [
      "2018-10-10:计算机C的CPU占用率为10%\nC:计算机2018-10-10的CPU占用率为10%\n"
     ]
    }
   ],
   "source": [
    "print(\"{}:计算机{}的CPU占用率为{}%\".format(\"2018-10-10\", \"C\", 10))\n",
    "print(\"{1}:计算机{0}的CPU占用率为{2}%\".format(\"2018-10-10\", \"C\", 10))\n"
   ]
  },
  {
   "cell_type": "markdown",
   "metadata": {},
   "source": [
    "### format()方法的格式控制\n",
    "槽内部对格式化的配置方式{ <参数序号> ：<格式控制标记>} ：<填充><对齐><宽度><,><.精度><类型>\n",
    "- <类型>:整数类型b, c, d, o, x, X浮点数类型e, E, f, %\n",
    "- <.精度>:浮点数小数精度或字符串最大输出长度\n",
    "- <,>:数字的千位分隔符\n",
    "- <宽度>:槽设定的输出宽度\n",
    "- <对齐>:< 左对齐> 右对齐^ 居中对齐\n",
    "- <填充>:用于填充的单个字符\n",
    "- \":\"引导符号"
   ]
  },
  {
   "cell_type": "code",
   "execution_count": 26,
   "metadata": {},
   "outputs": [
    {
     "name": "stdout",
     "output_type": "stream",
     "text": [
      "=======PYTHON=======\n*****************BIT\n12,345.68\n110101001,Ʃ,425,651,1a9,1A9\n3.140000e+00,3.140000E+00,3.140000,314.000000%\n"
     ]
    }
   ],
   "source": [
    "print(\"{0:=^20}\".format(\"PYTHON\"))\n",
    "print(\"{0:*>20}\".format(\"BIT\"))\n",
    "print(\"{0:,.2f}\".format(12345.6789))\n",
    "print(\"{0:b},{0:c},{0:d},{0:o},{0:x},{0:X}\".format(425))\n",
    "print(\"{0:e},{0:E},{0:f},{0:%}\".format(3.14))"
   ]
  },
  {
   "cell_type": "markdown",
   "metadata": {},
   "source": [
    "## 支持格式化字符串的输出\n",
    "基本的用法是将一个值插入到一个有字符串格式符 %s 的字符串中。\n",
    "\n",
    "字符串格式化符号:\n",
    "-       %c\t 格式化字符及其ASCII码\n",
    "-       %s\t 格式化字符串\n",
    "-       %d\t 格式化整数\n",
    "-       %u\t 格式化无符号整型\n",
    "-       %o\t 格式化无符号八进制数\n",
    "-       %x\t 格式化无符号十六进制数\n",
    "-       %X\t 格式化无符号十六进制数（大写）\n",
    "-       %f\t 格式化浮点数字，可指定小数点后的精度\n",
    "-       %e\t 用科学计数法格式化浮点数\n",
    "-       %E\t 作用同%e，用科学计数法格式化浮点数\n",
    "-       %g\t %f和%e的简写\n",
    "-       %G\t %f 和 %E 的简写\n",
    "-       %p\t 用十六进制数格式化变量的地址\n",
    "\n",
    "格式化操作符辅助指令\n",
    "- \\*\t定义宽度或者小数点精度\n",
    "- \\-\t用做左对齐\n",
    "- \\+\t在正数前面显示加号( + )\n",
    "- <sp>\t在正数前面显示空格\n",
    "- \\#\t在八进制数前面显示零('0')，在十六进制前面显示'0x'或者'0X'(取决于用的是'x'还是'X')\n",
    "- 0\t显示的数字前面填充'0'而不是默认的空格\n",
    "- %\t'%%'输出一个单一的'%'\n",
    "- (var)\t映射变量(字典参数)\n",
    "- m.n.\tm 是显示的最小总宽度,n 是小数点后的位数(如果可用的话)"
   ]
  },
  {
   "cell_type": "code",
   "execution_count": 11,
   "metadata": {},
   "outputs": [
    {
     "name": "stdout",
     "output_type": "stream",
     "text": [
      "我叫 小明 今年 10 岁!\nthe price  is  18.73\n100000\n1e+07\n100000\n100000.000000\n"
     ]
    }
   ],
   "source": [
    "print(\"我叫 %s 今年 %d 岁!\" % ('小明', 10))\n",
    "num = 18.7254\n",
    "print(\"the price  is  %.2f\" % num)\n",
    "a = 100000\n",
    "print(\"%g\" % a)\n",
    "a = 10000000\n",
    "print(\"%g\" % a)\n",
    "a = 100000.0\n",
    "print(\"%g\" % a)\n",
    "print(\"%f\" % a)"
   ]
  },
  {
   "cell_type": "code",
   "execution_count": 12,
   "metadata": {},
   "outputs": [
    {
     "name": "stdout",
     "output_type": "stream",
     "text": [
      "这是一个多行字符串的实例\n多行字符串可以使用制表符\nTAB ( \t )。\n也可以使用换行符 [ \n ]。\n\n"
     ]
    }
   ],
   "source": [
    "# 三引号允许一个字符串跨多行，字符串中可以包含换行符、制表符以及其他特殊字符。\n",
    "# 制表符 \\t 换行符 \\n\n",
    "para_str = \"\"\"这是一个多行字符串的实例\n",
    "多行字符串可以使用制表符\n",
    "TAB ( \\t )。\n",
    "也可以使用换行符 [ \\n ]。\n",
    "\"\"\"\n",
    "print(para_str)"
   ]
  },
  {
   "cell_type": "code",
   "execution_count": null,
   "metadata": {},
   "outputs": [],
   "source": []
  }
 ],
 "metadata": {
  "kernelspec": {
   "display_name": "Python 2",
   "language": "python",
   "name": "python2"
  },
  "language_info": {
   "codemirror_mode": {
    "name": "ipython",
    "version": 2
   },
   "file_extension": ".py",
   "mimetype": "text/x-python",
   "name": "python",
   "nbconvert_exporter": "python",
   "pygments_lexer": "ipython2",
   "version": "2.7.6"
  }
 },
 "nbformat": 4,
 "nbformat_minor": 0
}
