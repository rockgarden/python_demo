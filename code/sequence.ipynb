{
 "cells": [
  {
   "cell_type": "markdown",
   "metadata": {
    "collapsed": true
   },
   "source": [
    "# 序列\n",
    "序列是Python中最基本的数据结构，是具有先后关系的一组元素-序列是一维元素向量，元素类型可以不同。\n",
    "\n",
    "序列中的每个元素都分配一个数字 - 它的位置/索引，第一个索引是0，第二个索引是1，依此类推，类似数学元素序列：s0, s1, ... , sn-1。\n",
    "\n",
    "- Python有6个序列的内置类型，但最常见的是列表和元组。\n",
    "- 元素间由序号引导，通过下标访问序列的特定元素。\n"
   ]
  },
  {
   "cell_type": "markdown",
   "metadata": {},
   "source": [
    "## 序列类型通用操作符\n",
    "序列都可以进行的操作包括索引，切片，加，乘，检查成员。\n",
    "\n",
    "- x in s如果x是序列s的元素，返回True，否则返回False\n",
    "- x not in s如果x是序列s的元素，返回False，否则返回True\n",
    "- s + t连接两个序列s和t\n",
    "- s*n 或 n*s 将序列s复制n次\n",
    "- s[i]索引，返回s中的第i个元素，i是序列的序号\n",
    "- s[i:j]或s[i:j:k]切片，返回序列s中第i到j以k为步长的元素子序列"
   ]
  },
  {
   "cell_type": "code",
   "execution_count": 5,
   "metadata": {},
   "outputs": [
    {
     "name": "stdout",
     "output_type": "stream",
     "text": [
      "['.io', 123, 'python']\noi.321nohtyp\n"
     ]
    }
   ],
   "source": [
    "ls = [\"python\", 123, \".io\"]\n",
    "print(ls[::-1])\n",
    "s = \"python123.io\"\n",
    "print(s[::-1])\n"
   ]
  },
  {
   "cell_type": "markdown",
   "metadata": {},
   "source": [
    "## 序列类型通用函数\n",
    "Python 已经内置确定序列的长度以及确定最大和最小的元素的方法。\n",
    "\n",
    "- len(s)返回序列s的长度\n",
    "- min(s)返回序列s的最小元素，s中元素需要可比较\n",
    "- max(s)返回序列s的最大元素，s中元素需要可比较\n",
    "- s.index(x) 或s.index(x, i,j)返回序列s从i开始到j位置中第一次出现元素x的位置\n",
    "- s.count(x)返回序列s中出现x的总次数\n"
   ]
  },
  {
   "cell_type": "code",
   "execution_count": 6,
   "metadata": {},
   "outputs": [
    {
     "name": "stdout",
     "output_type": "stream",
     "text": [
      "3\ny\n"
     ]
    }
   ],
   "source": [
    "ls = [\"python\", 123, \".io\"]\n",
    "print(len(ls))\n",
    "s = \"python123.io\"\n",
    "print(max(s))"
   ]
  },
  {
   "cell_type": "code",
   "execution_count": null,
   "metadata": {},
   "outputs": [],
   "source": []
  }
 ],
 "metadata": {
  "kernelspec": {
   "display_name": "Python 2",
   "language": "python",
   "name": "python2"
  },
  "language_info": {
   "codemirror_mode": {
    "name": "ipython",
    "version": 2
   },
   "file_extension": ".py",
   "mimetype": "text/x-python",
   "name": "python",
   "nbconvert_exporter": "python",
   "pygments_lexer": "ipython2",
   "version": "2.7.6"
  }
 },
 "nbformat": 4,
 "nbformat_minor": 0
}
