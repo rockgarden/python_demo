{
 "cells": [
  {
   "cell_type": "code",
   "execution_count": 3,
   "metadata": {
    "collapsed": true
   },
   "outputs": [],
   "source": [
    "# 语法错误\n",
    "# Python 的语法错误或者称之为解析错，是初学者经常碰到的，如下实例\n",
    "# while True print('Hello world')\n",
    "#   File \"<stdin>\", line 1, in ?\n",
    "#     while True print('Hello world')\n",
    "#                    ^\n",
    "# SyntaxError: invalid syntax\n",
    "# 这个例子中，函数 print() 被检查到有错误，是它前面缺少了一个冒号（:）。\n",
    "# 语法分析器指出了出错的一行，并且在最先找到的错误的位置标记了一个小小的箭头。"
   ]
  },
  {
   "cell_type": "code",
   "execution_count": null,
   "metadata": {},
   "outputs": [],
   "source": [
    "# FileNotFoundError\n",
    "filename = 'code/assets/alice.txt'\n",
    "try:\n",
    "    with open(filename) as f_obj:\n",
    "        contents = f_obj.read()\n",
    "except FileNotFoundError as e:\n",
    "    msg = \"Sorry, the file \" + filename + \" does not exist.\"\n",
    "    print(msg)\n",
    "else:\n",
    "    # Count the approximate number of words in the file.\n",
    "    words = contents.split()\n",
    "    num_words = len(words)\n",
    "    print(\"The file \" + filename + \" has about \" + str(num_words) + \" words.\")"
   ]
  },
  {
   "cell_type": "code",
   "execution_count": 9,
   "metadata": {},
   "outputs": [
    {
     "name": "stdout",
     "output_type": "stream",
     "text": [
      "The file code/assets/alice.txt has about 29461 words.\nThe file code/assets/siddhartha.txt has about 42172 words.\nSorry, the file code/assets/moby_dick.txt does not exist.\nThe file code/assets/little_women.txt has about 189079 words.\n"
     ]
    }
   ],
   "source": [
    "def count_words(filename):\n",
    "    \"\"\"Count the approximate number of words in a file.\"\"\"\n",
    "    try:\n",
    "        with open(filename) as f_obj:\n",
    "            contents = f_obj.read()\n",
    "    except get_stored_username:\n",
    "        # msg = \"Sorry, the file \" + filename + \" does not exist.\"\n",
    "        # print(msg)\n",
    "        pass  # 什么都不处理直间跳过\n",
    "    else:\n",
    "        # Count approximate number of words in the file.\n",
    "        words = contents.split()\n",
    "        num_words = len(words)\n",
    "        print(\"The file \" + filename + \" has about \" + str(num_words) + \" words.\")\n",
    "\n",
    "filenames = ['alice.txt', 'siddhartha.txt', 'moby_dick.txt', 'little_women.txt']\n",
    "for filename in filenames:\n",
    "    count_words(\"code/assets/\"+filename)"
   ]
  },
  {
   "cell_type": "code",
   "execution_count": null,
   "metadata": {},
   "outputs": [],
   "source": []
  }
 ],
 "metadata": {
  "kernelspec": {
   "display_name": "Python 2",
   "language": "python",
   "name": "python2"
  },
  "language_info": {
   "codemirror_mode": {
    "name": "ipython",
    "version": 2
   },
   "file_extension": ".py",
   "mimetype": "text/x-python",
   "name": "python",
   "nbconvert_exporter": "python",
   "pygments_lexer": "ipython2",
   "version": "2.7.6"
  }
 },
 "nbformat": 4,
 "nbformat_minor": 0
}
