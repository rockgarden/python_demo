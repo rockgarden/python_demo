{
 "cells": [
  {
   "cell_type": "markdown",
   "metadata": {
    "collapsed": true
   },
   "source": [
    "## time库包括三类函数\n",
    "- 时间获取：time()  ctime()  gmtime()\n",
    "- 时间格式化：strftime()   strptime()\n",
    "- 程序计时：sleep(), perf_counter()"
   ]
  },
  {
   "cell_type": "code",
   "execution_count": 2,
   "metadata": {},
   "outputs": [
    {
     "name": "stdout",
     "output_type": "stream",
     "text": [
      "1530197572.0554821\nThu Jun 28 22:52:52 2018\ntime.struct_time(tm_year=2018, tm_mon=6, tm_mday=28, tm_hour=14, tm_min=52, tm_sec=52, tm_wday=3, tm_yday=179, tm_isdst=0)\n"
     ]
    }
   ],
   "source": [
    "import time\n",
    "# 获取当前时间戳，即计算机内部时间值，浮点数\n",
    "print(time.time())\n",
    "# 获取当前时间并以易读方式表示，返回字符串\n",
    "print(time.ctime())\n",
    "# 获取当前时间，表示为计算机可处理的时间格式\n",
    "print(time.gmtime())"
   ]
  },
  {
   "cell_type": "markdown",
   "metadata": {},
   "source": [
    "- %Y年份0000~9999，例如：1900\n",
    "- %m月份01~12，例如：10\n",
    "- %B月份名称January~December，例如：April\n",
    "- %b月份名称缩写Jan~Dec，例如：Apr\n",
    "- %d日期01~31，例如：25\n",
    "- %A星期Monday~Sunday，例如：Wednesday\n",
    "- %a星期缩写Mon~Sun，例如：Wed\n",
    "- %H小时（24h制）00~23，例如：12\n",
    "- %h小时（12h制）01~12，例如：7\n",
    "- %p上/下午AM,PM，例如：PM\n",
    "- %M分钟00~59，例如：26\n",
    "- %S秒00~59，例如：26"
   ]
  },
  {
   "cell_type": "code",
   "execution_count": 3,
   "metadata": {},
   "outputs": [
    {
     "name": "stdout",
     "output_type": "stream",
     "text": [
      "2018-06-28 14:54:39\n"
     ]
    }
   ],
   "source": [
    "# strftime(tpl,ts)tpl是格式化模板字符串，用来定义输出效果ts是计算机内部时间类型变量\n",
    "print(time.strftime(\"%Y-%m-%d %H:%M:%S\",time.gmtime()))"
   ]
  },
  {
   "cell_type": "code",
   "execution_count": 4,
   "metadata": {},
   "outputs": [
    {
     "name": "stdout",
     "output_type": "stream",
     "text": [
      "time.struct_time(tm_year=2018, tm_mon=6, tm_mday=28, tm_hour=14, tm_min=57, tm_sec=46, tm_wday=3, tm_yday=179, tm_isdst=-1)\n"
     ]
    }
   ],
   "source": [
    "# strptime(str, tpl)str是字符串形式的时间值tpl是格式化模板字符串，用来定义输入效果\n",
    "t = time.gmtime()\n",
    "timeStr = time.strftime(\"%Y-%m-%d %H:%M:%S\", t)\n",
    "print(time.strptime(timeStr, \"%Y-%m-%d %H:%M:%S\"))"
   ]
  },
  {
   "cell_type": "markdown",
   "metadata": {},
   "source": [
    "## 程序计时\n",
    "- 程序计时指测量起止动作所经历时间的过程\n",
    "- 测量时间：perf_counter()\n",
    "- 产生时间：sleep()"
   ]
  },
  {
   "cell_type": "code",
   "execution_count": 5,
   "metadata": {},
   "outputs": [
    {
     "name": "stdout",
     "output_type": "stream",
     "text": [
      "2.7117988793179393e-05\n"
     ]
    }
   ],
   "source": [
    "# perf_counter()返回一个CPU级别的精确时间计数值，单位为秒由于这个计数值起点不确定，连续调用差值才有意义\n",
    "start = time.perf_counter()\n",
    "end = time.perf_counter() \n",
    "print(end -start)"
   ]
  },
  {
   "cell_type": "code",
   "execution_count": 6,
   "metadata": {},
   "outputs": [],
   "source": [
    "# sleep(s)s拟休眠的时间，单位是秒，可以是浮点数\n",
    "time.sleep(3.3)"
   ]
  },
  {
   "cell_type": "markdown",
   "metadata": {},
   "source": [
    "## Exercise"
   ]
  },
  {
   "cell_type": "code",
   "execution_count": 7,
   "metadata": {},
   "outputs": [
    {
     "name": "stdout",
     "output_type": "stream",
     "text": [
      "------执行开始------\n 0 %[->..........]\n10 %[*->.........]\n"
     ]
    },
    {
     "name": "stdout",
     "output_type": "stream",
     "text": [
      "20 %[**->........]\n30 %[***->.......]\n"
     ]
    },
    {
     "name": "stdout",
     "output_type": "stream",
     "text": [
      "40 %[****->......]\n50 %[*****->.....]\n"
     ]
    },
    {
     "name": "stdout",
     "output_type": "stream",
     "text": [
      "60 %[******->....]\n70 %[*******->...]\n"
     ]
    },
    {
     "name": "stdout",
     "output_type": "stream",
     "text": [
      "80 %[********->..]\n90 %[*********->.]\n"
     ]
    },
    {
     "name": "stdout",
     "output_type": "stream",
     "text": [
      "100%[**********->]\n------执行束------\n"
     ]
    }
   ],
   "source": [
    "import time\n",
    "scale = 10\n",
    "print(\"------执行开始------\")\n",
    "for i in range(scale+1):\n",
    "    a = '*' * i\n",
    "    b = '.' * (scale - i)\n",
    "    c = (i/scale)*100\n",
    "    print(\"{:^3.0f}%[{}->{}]\".format(c,a,b))\n",
    "    time.sleep(0.1)\n",
    "print(\"------执行束------\")\n"
   ]
  },
  {
   "cell_type": "code",
   "execution_count": 8,
   "metadata": {},
   "outputs": [
    {
     "name": "stdout",
     "output_type": "stream",
     "text": [
      "\r  0%\r  1%"
     ]
    },
    {
     "name": "stdout",
     "output_type": "stream",
     "text": [
      "\r  2%\r  3%"
     ]
    },
    {
     "name": "stdout",
     "output_type": "stream",
     "text": [
      "\r  4%\r  5%"
     ]
    },
    {
     "name": "stdout",
     "output_type": "stream",
     "text": [
      "\r  6%\r  7%"
     ]
    },
    {
     "name": "stdout",
     "output_type": "stream",
     "text": [
      "\r  8%\r  9%"
     ]
    },
    {
     "name": "stdout",
     "output_type": "stream",
     "text": [
      "\r 10%\r 11%"
     ]
    },
    {
     "name": "stdout",
     "output_type": "stream",
     "text": [
      "\r 12%\r 13%"
     ]
    },
    {
     "name": "stdout",
     "output_type": "stream",
     "text": [
      "\r 14%\r 15%"
     ]
    },
    {
     "name": "stdout",
     "output_type": "stream",
     "text": [
      "\r 16%\r 17%"
     ]
    },
    {
     "name": "stdout",
     "output_type": "stream",
     "text": [
      "\r 18%\r 19%"
     ]
    },
    {
     "name": "stdout",
     "output_type": "stream",
     "text": [
      "\r 20%\r 21%"
     ]
    },
    {
     "name": "stdout",
     "output_type": "stream",
     "text": [
      "\r 22%\r 23%"
     ]
    },
    {
     "name": "stdout",
     "output_type": "stream",
     "text": [
      "\r 24%\r 25%"
     ]
    },
    {
     "name": "stdout",
     "output_type": "stream",
     "text": [
      "\r 26%\r 27%"
     ]
    },
    {
     "name": "stdout",
     "output_type": "stream",
     "text": [
      "\r 28%\r 29%"
     ]
    },
    {
     "name": "stdout",
     "output_type": "stream",
     "text": [
      "\r 30%\r 31%"
     ]
    },
    {
     "name": "stdout",
     "output_type": "stream",
     "text": [
      "\r 32%\r 33%"
     ]
    },
    {
     "name": "stdout",
     "output_type": "stream",
     "text": [
      "\r 34%\r 35%"
     ]
    },
    {
     "name": "stdout",
     "output_type": "stream",
     "text": [
      "\r 36%\r 37%"
     ]
    },
    {
     "name": "stdout",
     "output_type": "stream",
     "text": [
      "\r 38%\r 39%"
     ]
    },
    {
     "name": "stdout",
     "output_type": "stream",
     "text": [
      "\r 40%\r 41%\r 42%"
     ]
    },
    {
     "name": "stdout",
     "output_type": "stream",
     "text": [
      "\r 43%\r 44%"
     ]
    },
    {
     "name": "stdout",
     "output_type": "stream",
     "text": [
      "\r 45%\r 46%"
     ]
    },
    {
     "name": "stdout",
     "output_type": "stream",
     "text": [
      "\r 47%\r 48%"
     ]
    },
    {
     "name": "stdout",
     "output_type": "stream",
     "text": [
      "\r 49%\r 50%"
     ]
    },
    {
     "name": "stdout",
     "output_type": "stream",
     "text": [
      "\r 51%\r 52%"
     ]
    },
    {
     "name": "stdout",
     "output_type": "stream",
     "text": [
      "\r 53%\r 54%"
     ]
    },
    {
     "name": "stdout",
     "output_type": "stream",
     "text": [
      "\r 55%\r 56%"
     ]
    },
    {
     "name": "stdout",
     "output_type": "stream",
     "text": [
      "\r 57%\r 58%"
     ]
    },
    {
     "name": "stdout",
     "output_type": "stream",
     "text": [
      "\r 59%\r 60%"
     ]
    },
    {
     "name": "stdout",
     "output_type": "stream",
     "text": [
      "\r 61%\r 62%"
     ]
    },
    {
     "name": "stdout",
     "output_type": "stream",
     "text": [
      "\r 63%\r 64%"
     ]
    },
    {
     "name": "stdout",
     "output_type": "stream",
     "text": [
      "\r 65%\r 66%"
     ]
    },
    {
     "name": "stdout",
     "output_type": "stream",
     "text": [
      "\r 67%\r 68%"
     ]
    },
    {
     "name": "stdout",
     "output_type": "stream",
     "text": [
      "\r 69%\r 70%"
     ]
    },
    {
     "name": "stdout",
     "output_type": "stream",
     "text": [
      "\r 71%\r 72%"
     ]
    },
    {
     "name": "stdout",
     "output_type": "stream",
     "text": [
      "\r 73%\r 74%"
     ]
    },
    {
     "name": "stdout",
     "output_type": "stream",
     "text": [
      "\r 75%\r 76%"
     ]
    },
    {
     "name": "stdout",
     "output_type": "stream",
     "text": [
      "\r 77%\r 78%"
     ]
    },
    {
     "name": "stdout",
     "output_type": "stream",
     "text": [
      "\r 79%\r 80%"
     ]
    },
    {
     "name": "stdout",
     "output_type": "stream",
     "text": [
      "\r 81%\r 82%"
     ]
    },
    {
     "name": "stdout",
     "output_type": "stream",
     "text": [
      "\r 83%\r 84%"
     ]
    },
    {
     "name": "stdout",
     "output_type": "stream",
     "text": [
      "\r 85%\r 86%"
     ]
    },
    {
     "name": "stdout",
     "output_type": "stream",
     "text": [
      "\r 87%\r 88%"
     ]
    },
    {
     "name": "stdout",
     "output_type": "stream",
     "text": [
      "\r 89%\r 90%"
     ]
    },
    {
     "name": "stdout",
     "output_type": "stream",
     "text": [
      "\r 91%\r 92%"
     ]
    },
    {
     "name": "stdout",
     "output_type": "stream",
     "text": [
      "\r 93%\r 94%"
     ]
    },
    {
     "name": "stdout",
     "output_type": "stream",
     "text": [
      "\r 95%\r 96%"
     ]
    },
    {
     "name": "stdout",
     "output_type": "stream",
     "text": [
      "\r 97%\r 98%"
     ]
    },
    {
     "name": "stdout",
     "output_type": "stream",
     "text": [
      "\r 99%\r100%"
     ]
    }
   ],
   "source": [
    "import time\n",
    "for i in range(101):\n",
    "    print(\"\\r{:3}%\".format(i), end=\"\")\n",
    "    time.sleep(0.1)"
   ]
  },
  {
   "cell_type": "code",
   "execution_count": 9,
   "metadata": {},
   "outputs": [
    {
     "name": "stdout",
     "output_type": "stream",
     "text": [
      "-----------执行开始----------\n\r 0 %[->..................................................]0.00s\r 2 %[*->.................................................]0.10s"
     ]
    },
    {
     "name": "stdout",
     "output_type": "stream",
     "text": [
      "\r 4 %[**->................................................]0.21s\r 6 %[***->...............................................]0.31s"
     ]
    },
    {
     "name": "stdout",
     "output_type": "stream",
     "text": [
      "\r 8 %[****->..............................................]0.42s\r10 %[*****->.............................................]0.52s"
     ]
    },
    {
     "name": "stdout",
     "output_type": "stream",
     "text": [
      "\r12 %[******->............................................]0.63s\r14 %[*******->...........................................]0.73s"
     ]
    },
    {
     "name": "stdout",
     "output_type": "stream",
     "text": [
      "\r16 %[********->..........................................]0.83s\r18 %[*********->.........................................]0.93s"
     ]
    },
    {
     "name": "stdout",
     "output_type": "stream",
     "text": [
      "\r20 %[**********->........................................]1.04s\r22 %[***********->.......................................]1.14s"
     ]
    },
    {
     "name": "stdout",
     "output_type": "stream",
     "text": [
      "\r24 %[************->......................................]1.25s\r26 %[*************->.....................................]1.35s"
     ]
    },
    {
     "name": "stdout",
     "output_type": "stream",
     "text": [
      "\r28 %[**************->....................................]1.45s\r30 %[***************->...................................]1.55s"
     ]
    },
    {
     "name": "stdout",
     "output_type": "stream",
     "text": [
      "\r32 %[****************->..................................]1.66s\r34 %[*****************->.................................]1.76s"
     ]
    },
    {
     "name": "stdout",
     "output_type": "stream",
     "text": [
      "\r36 %[******************->................................]1.87s\r38 %[*******************->...............................]1.97s"
     ]
    },
    {
     "name": "stdout",
     "output_type": "stream",
     "text": [
      "\r40 %[********************->..............................]2.07s\r42 %[*********************->.............................]2.17s"
     ]
    },
    {
     "name": "stdout",
     "output_type": "stream",
     "text": [
      "\r44 %[**********************->............................]2.28s\r46 %[***********************->...........................]2.38s"
     ]
    },
    {
     "name": "stdout",
     "output_type": "stream",
     "text": [
      "\r48 %[************************->..........................]2.48s\r50 %[*************************->.........................]2.58s"
     ]
    },
    {
     "name": "stdout",
     "output_type": "stream",
     "text": [
      "\r52 %[**************************->........................]2.69s\r54 %[***************************->.......................]2.79s"
     ]
    },
    {
     "name": "stdout",
     "output_type": "stream",
     "text": [
      "\r56 %[****************************->......................]2.90s\r58 %[*****************************->.....................]3.00s"
     ]
    },
    {
     "name": "stdout",
     "output_type": "stream",
     "text": [
      "\r60 %[******************************->....................]3.10s\r62 %[*******************************->...................]3.20s"
     ]
    },
    {
     "name": "stdout",
     "output_type": "stream",
     "text": [
      "\r64 %[********************************->..................]3.31s\r66 %[*********************************->.................]3.41s"
     ]
    },
    {
     "name": "stdout",
     "output_type": "stream",
     "text": [
      "\r68 %[**********************************->................]3.52s\r70 %[***********************************->...............]3.62s"
     ]
    },
    {
     "name": "stdout",
     "output_type": "stream",
     "text": [
      "\r72 %[************************************->..............]3.72s\r74 %[*************************************->.............]3.83s"
     ]
    },
    {
     "name": "stdout",
     "output_type": "stream",
     "text": [
      "\r76 %[**************************************->............]3.93s\r78 %[***************************************->...........]4.03s"
     ]
    },
    {
     "name": "stdout",
     "output_type": "stream",
     "text": [
      "\r80 %[****************************************->..........]4.13s\r82 %[*****************************************->.........]4.24s"
     ]
    },
    {
     "name": "stdout",
     "output_type": "stream",
     "text": [
      "\r84 %[******************************************->........]4.34s\r86 %[*******************************************->.......]4.45s"
     ]
    },
    {
     "name": "stdout",
     "output_type": "stream",
     "text": [
      "\r88 %[********************************************->......]4.55s\r90 %[*********************************************->.....]4.65s"
     ]
    },
    {
     "name": "stdout",
     "output_type": "stream",
     "text": [
      "\r92 %[**********************************************->....]4.76s\r94 %[***********************************************->...]4.86s"
     ]
    },
    {
     "name": "stdout",
     "output_type": "stream",
     "text": [
      "\r96 %[************************************************->..]4.96s\r98 %[*************************************************->.]5.06s"
     ]
    },
    {
     "name": "stdout",
     "output_type": "stream",
     "text": [
      "\r100%[**************************************************->]5.17s\n-----------执行结束----------\n"
     ]
    }
   ],
   "source": [
    "import time\n",
    "scale = 50\n",
    "print(\"执行开始\".center(scale//2,'-'))\n",
    "start = time.perf_counter()\n",
    "for i in range(scale+1):\n",
    "    a = '*' * i\n",
    "    b = '.' * (scale - i)\n",
    "    c = (i/scale)*100\n",
    "    dur = time.perf_counter() - start\n",
    "    print(\"\\r{:^3.0f}%[{}->{}]{:.2f}s\".format(c,a,b,dur),end='')\n",
    "    time.sleep(0.1)\n",
    "print(\"\\n\"+\"执行结束\".center(scale//2,'-'))"
   ]
  },
  {
   "cell_type": "code",
   "execution_count": null,
   "metadata": {},
   "outputs": [],
   "source": []
  }
 ],
 "metadata": {
  "kernelspec": {
   "display_name": "Python 2",
   "language": "python",
   "name": "python2"
  },
  "language_info": {
   "codemirror_mode": {
    "name": "ipython",
    "version": 2
   },
   "file_extension": ".py",
   "mimetype": "text/x-python",
   "name": "python",
   "nbconvert_exporter": "python",
   "pygments_lexer": "ipython2",
   "version": "2.7.6"
  }
 },
 "nbformat": 4,
 "nbformat_minor": 0
}
