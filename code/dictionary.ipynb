{
 "cells": [
  {
   "cell_type": "markdown",
   "metadata": {},
   "source": [
    "# 字典\n",
    "* 序列是以连续的整数为索引，与此不同的是，字典以关键字为索引，关键字可以是任意不可变类型，通常用字符串或数值。\n",
    "* 理解字典的最佳方式是把它看做无序的键=>值对集合。在同一个字典之内，关键字必须是互不相同。\n",
    "* 字典是另一种可变容器模型，且可存储任意类型对象。\n",
    "* 字典的每个键值(key=>value)对用冒号(:)分割，每个对之间用逗号(,)分割，整个字典包括在花括号({})中键必须是唯一的，但值则不必。\n",
    "* 值可以取任何数据类型，但键必须是不可变的，如字符串，数字或元组。\n",
    "* 采用大括号{}和dict()创建，键值对用冒号: 表示{<键1>:<值1>, <键2>:<值2>, ... , <键n>:<值n>}"
   ]
  },
  {
   "cell_type": "code",
   "execution_count": 12,
   "metadata": {},
   "outputs": [
    {
     "name": "stdout",
     "output_type": "stream",
     "text": [
      "{'sape': 4139, 'guido': 4127, 'jack': 4098}\n{2: 4, 4: 16, 6: 36}\n{'sape': 4139, 'guido': 4127, 'jack': 4098}\n"
     ]
    }
   ],
   "source": [
    "# 构造函数 dict() 直接从键值对元组列表中构建字典。如果有固定的模式，列表推导式指定特定的键值对。\n",
    "print(dict([('sape', 4139), ('guido', 4127), ('jack', 4098)]))\n",
    "print({x: x ** 2 for x in (2, 4, 6)})\n",
    "print(dict(sape=4139, guido=4127, jack=4098))\n",
    "type(itel)  # 返回输入的变量类型，如果变量是字典就返回字典类型。"
   ]
  },
  {
   "cell_type": "markdown",
   "metadata": {},
   "source": [
    "## 键的特性\n",
    "\n",
    "字典值可以没有限制地取任何对象，既可以是标准的对象，也可以是用户定义的，但键不行。\n",
    "1. 不允许同一个键出现两次, 如果同一个键被赋值多次, 最后一个值会被记住.\n",
    "2. 键必须不可变, 所以可以用数字, 字符串或元组充当, 而用列表就不行."
   ]
  },
  {
   "cell_type": "code",
   "execution_count": 3,
   "metadata": {
    "collapsed": true
   },
   "outputs": [
    {
     "name": "stdout",
     "output_type": "stream",
     "text": [
      "dict['Name']:  小菜鸟\n"
     ]
    }
   ],
   "source": [
    "dict_b = {'Name': 'Runoob', 'Age': 7, 'Name': '小菜鸟'}\n",
    "print(\"dict['Name']: \", dict_b['Name'])\n",
    "\n",
    "# dict_a = {['Name']: 'Runoob', 'Age': 7}"
   ]
  },
  {
   "cell_type": "markdown",
   "metadata": {},
   "source": [
    "## 操作方法\n",
    "- del d[k]删除字典d中键k对应的数据值\n",
    "- k in d判断键k是否在字典d中，如果在返回True，否则False\n",
    "- d.keys()返回字典d中所有的键信息\n",
    "- d.values()返回字典d中所有的值信息\n",
    "- d.items()返回字典d中所有的键值对信息"
   ]
  },
  {
   "cell_type": "code",
   "execution_count": 17,
   "metadata": {
    "collapsed": true
   },
   "outputs": [
    {
     "name": "stdout",
     "output_type": "stream",
     "text": [
      "False False\ndict['Age']:  7\ndict_keys(['name', 'Age', 'Class']) dict_values(['rockgarden', 7, 'First'])\ndict['name']:  rockgarden\n"
     ]
    }
   ],
   "source": [
    "# 访问字典里的值\n",
    "# 如果用字典里没有的键访问数据，会输出错误\n",
    "dict = {'name': 'rockgarden', 'Age': 7, 'Class': 'First'}\n",
    "print(\"Name\" in dict, \"name\" not in dict)\n",
    "print(\"dict['Age']: \", dict['Age'])\n",
    "print(dict.keys(), dict.values())\n",
    "print(\"dict['name']: \", dict['name'])"
   ]
  },
  {
   "cell_type": "code",
   "execution_count": null,
   "metadata": {},
   "outputs": [],
   "source": [
    "# 修改字典\n",
    "# 向字典添加新内容的方法是增加新的键/值对，修改或删除已有键/值\n",
    "dict = {'Name': 'Runoob', 'Age': 7, 'Class': 'First'}\n",
    "\n",
    "dict['Age'] = 8  # 更新 Age\n",
    "dict['School'] = \"教程\"  # 添加键值对\n",
    "\n",
    "print(\"dict['Age']: \", dict['Age'])\n",
    "print(\"dict['School']: \", dict['School'])"
   ]
  },
  {
   "cell_type": "code",
   "execution_count": null,
   "metadata": {},
   "outputs": [],
   "source": [
    "# 删除字典元素\n",
    "# 能删单一的元素也能清空字典，清空只需一项操作。显示删除一个字典用del命令\n",
    "dict = {'Name': 'Runoob', 'Age': 7, 'Class': 'First'}\n",
    "\n",
    "del dict['Name']  # 删除键 'Name'\n",
    "print(dict)\n",
    "dict.clear()  # 删除字典\n",
    "del dict  # 删除字典"
   ]
  },
  {
   "cell_type": "markdown",
   "metadata": {},
   "source": [
    "## 内置函数\n",
    "- d.get(k, default=None)键k存在，则返回相应值，不在则返回 default 值\n",
    "- d.pop(k, default=None)键k存在，则取出相应值(删除item)，不在则返回 default值\n",
    "- d.popitem()随机从字典d中取出一个键值对，以元组形式返回(一般删除末尾对)\n",
    "- d.clear()删除所有的键值对\n",
    "- len(d)返回字典d中元素的个数\n",
    "- radiansdict.copy() 返回一个字典的浅复制\n",
    "- radiansdict.fromkeys()创建一个新字典，以序列seq中元素做字典的键，val为字典所有键对应的初始值\n",
    "- radiansdict.setdefault(key, default=None)和get()类似, 但如果键不存在于字典中，将会添加键并将值设为default\n",
    "- radiansdict.update(dict2)把字典dict2的键/值对更新到dict里"
   ]
  },
  {
   "cell_type": "code",
   "execution_count": 21,
   "metadata": {},
   "outputs": [
    {
     "name": "stdout",
     "output_type": "stream",
     "text": [
      "4\n{'中国': '北京', '美国': '华盛顿', '法国': '巴黎', '日本': '东京'}\n['中国', '美国', '法国', '日本']\n['中国', '日本', '法国', '美国']\n北京\n伊斯兰堡\n('日本', '东京')\n"
     ]
    }
   ],
   "source": [
    "d = {\"中国\": \"北京\", \"美国\": \"华盛顿\", \"法国\": \"巴黎\", \"日本\": \"东京\"}\n",
    "print(len(d))  # 计算字典元素个数，即键的总数。\n",
    "\n",
    "print(str(d))  # 输出字典，以可打印的字符串表示。\n",
    "\n",
    "print(list(d.keys()))\n",
    "print(sorted(d.keys()))\n",
    "\n",
    "print(d.get(\"中国\", \"伊斯兰堡\"))\n",
    "print(d.get(\"巴基斯坦\", \"伊斯兰堡\"))\n",
    "print(d.popitem())\n"
   ]
  },
  {
   "cell_type": "markdown",
   "metadata": {},
   "source": [
    "### 遍历\n",
    "- radiansdict.items()以列表返回可遍历的(键, 值) 元组数组"
   ]
  },
  {
   "cell_type": "code",
   "execution_count": null,
   "metadata": {},
   "outputs": [],
   "source": [
    "# 分行定义\n",
    "favorite_languages = {\n",
    "    'jen': 'python',\n",
    "    'sarah': 'c',\n",
    "    'edward': 'ruby',\n",
    "    'phil': 'python',\n",
    "    }\n",
    "\n",
    "for name, language in favorite_languages.items():\n",
    "    print(name.title() + \"'s favorite language is \" +\n",
    "        language.title() + \".\")"
   ]
  },
  {
   "cell_type": "code",
   "execution_count": 9,
   "metadata": {},
   "outputs": [
    {
     "name": "stdout",
     "output_type": "stream",
     "text": [
      "(0, 'jen')\n(1, 'sarah')\n(2, 'edward')\n(3, 'phil')\ndict_items([('jen', 'python'), ('sarah', 'c'), ('edward', 'ruby'), ('phil', 'python')])\n"
     ]
    }
   ],
   "source": [
    "for item in enumerate(favorite_languages):\n",
    "    print(item)\n",
    "# 在字典中遍历时，关键字和对应的值可以使用 items() 方法同时解读出来\n",
    "print(favorite_languages.items())"
   ]
  },
  {
   "cell_type": "code",
   "execution_count": 10,
   "metadata": {},
   "outputs": [
    {
     "name": "stdout",
     "output_type": "stream",
     "text": [
      "\nKey: jen\nValue: python\n\nKey: sarah\nValue: c\n\nKey: edward\nValue: ruby\n\nKey: phil\nValue: python\n\nKey: jen\n\nKey: sarah\n\nKey: edward\n\nKey: phil\n\nvalue: jen\n\nvalue: sarah\n\nvalue: edward\n\nvalue: phil\n"
     ]
    }
   ],
   "source": [
    "for key, value in favorite_languages.items():\n",
    "    print(\"\\nKey: \" + key)\n",
    "    print(\"Value: \" + value)\n",
    "    \n",
    "for key in favorite_languages.keys(): \n",
    "    print(\"\\nKey: \" + key)\n",
    "    \n",
    "for v in favorite_languages.keys(): \n",
    "    print(\"\\nvalue: \" + v)"
   ]
  },
  {
   "cell_type": "code",
   "execution_count": 11,
   "metadata": {},
   "outputs": [
    {
     "name": "stdout",
     "output_type": "stream",
     "text": [
      "Ruby\nPython\nC\n"
     ]
    }
   ],
   "source": [
    "# 用集合 set 去重\n",
    "for language in set(favorite_languages.values()):\n",
    "    print(language.title())"
   ]
  },
  {
   "cell_type": "heading",
   "metadata": {},
   "level": 1,
   "source": [
    "嵌套"
   ]
  },
  {
   "cell_type": "code",
   "execution_count": 15,
   "metadata": {},
   "outputs": [
    {
     "name": "stdout",
     "output_type": "stream",
     "text": [
      "30\n{'color': 'yellow', 'points': 10, 'speed': 'medium'}\n{'color': 'yellow', 'points': 10, 'speed': 'medium'}\n{'color': 'yellow', 'points': 10, 'speed': 'medium'}\n{'color': 'green', 'points': 5, 'speed': 'slow'}\n{'color': 'green', 'points': 5, 'speed': 'slow'}\n...\n"
     ]
    }
   ],
   "source": [
    "# Make an empty list for storing aliens.\n",
    "aliens = []\n",
    "\n",
    "# Make 30 green aliens.\n",
    "for alien_number in range(0, 30):\n",
    "    new_alien = {'color': 'green', 'points': 5, 'speed': 'slow'}\n",
    "    aliens.append(new_alien)\n",
    "\n",
    "print(str(len(aliens)))\n",
    "\n",
    "for alien in aliens[0:3]:\n",
    "    if alien['color'] == 'green':\n",
    "        alien['color'] = 'yellow'\n",
    "        alien['speed'] = 'medium'\n",
    "        alien['points'] = 10\n",
    "    elif alien['color'] == 'yellow':\n",
    "        alien['color'] = 'red'\n",
    "        alien['speed'] = 'fast'\n",
    "        alien['points'] = 15\n",
    "\n",
    "# Show the first 5 aliens:\n",
    "for alien in aliens[0:5]:\n",
    "    print(alien)\n",
    "print(\"...\")\n"
   ]
  },
  {
   "cell_type": "code",
   "execution_count": 20,
   "metadata": {},
   "outputs": [
    {
     "name": "stdout",
     "output_type": "stream",
     "text": [
      "\nUsername: aeinstein\n\tFull name: Albert Einstein\n\tLocation: Princeton\n\nUsername: mcurie\n\tFull name: Marie Curie\n\tLocation: Paris\n"
     ]
    }
   ],
   "source": [
    "# 储存字典\n",
    "users = {'aeinstein': {'first': 'albert',\n",
    "                       'last': 'einstein',\n",
    "                       'location': 'princeton'},\n",
    "         'mcurie': {'first': 'marie',\n",
    "                    'last': 'curie',\n",
    "                    'location': 'paris'},\n",
    "         }\n",
    "\n",
    "for username, user_info in users.items():\n",
    "    print(\"\\nUsername: \" + username)\n",
    "    full_name = user_info['first'] + \" \" + user_info['last']\n",
    "    location = user_info['location']\n",
    "\n",
    "    print(\"\\tFull name: \" + full_name.title())\n",
    "    print(\"\\tLocation: \" + location.title())\n"
   ]
  },
  {
   "cell_type": "heading",
   "metadata": {},
   "level": 1,
   "source": [
    "存储列表"
   ]
  },
  {
   "cell_type": "code",
   "execution_count": 16,
   "metadata": {},
   "outputs": [
    {
     "name": "stdout",
     "output_type": "stream",
     "text": [
      "You ordered a thick-crust pizza with the following toppings:\n\tmushrooms\n\textra cheese\n"
     ]
    }
   ],
   "source": [
    "# Store information about a pizza being ordered.\n",
    "pizza = {\n",
    "    'crust': 'thick',\n",
    "    'toppings': ['mushrooms', 'extra cheese'],\n",
    "    }\n",
    "\n",
    "# Summarize the order.\n",
    "print(\"You ordered a \" + pizza['crust'] + \"-crust pizza \" +\n",
    "      \"with the following toppings:\")\n",
    "\n",
    "for topping in pizza['toppings']:\n",
    "    print(\"\\t\" + topping)"
   ]
  },
  {
   "cell_type": "code",
   "execution_count": null,
   "metadata": {},
   "outputs": [
    {
     "name": "stdout",
     "output_type": "stream",
     "text": [
      "Jen's favorite language is C.\nSarah's favorite language is C.\nEdward's favorite language is C.\nPhil's favorite language is C.\n"
     ]
    }
   ],
   "source": [
    "favorite_languages_list = {\n",
    "    'jen': ['python', 'ruby'],\n",
    "    'sarah': ['c'],\n",
    "    'edward': ['ruby', 'go'],\n",
    "    'phil': ['python', 'haskell'],\n",
    "}\n",
    "\n",
    "for name, languages in favorite_languages_list .items():\n",
    "    print(\"\\n\" + name.title() + \"'s favorite language are: \")\n",
    "    for language in languages:\n",
    "        print(\"\\t\" + language.title())"
   ]
  },
  {
   "cell_type": "heading",
   "metadata": {},
   "level": 1,
   "source": [
    "词汇表"
   ]
  },
  {
   "cell_type": "code",
   "execution_count": 22,
   "metadata": {},
   "outputs": [
    {
     "name": "stdout",
     "output_type": "stream",
     "text": [
      "\nString: A series of characters.\n\nComment: A note in a program that the Python interpreter ignores.\n\nList: A collection of items in a particular order.\n\nLoop: Work through a collection of items, one at a time.\n\nDictionary: A collection of key-value pairs.\n\nString: A series of characters.\n\nComment: A note in a program that the Python interpreter ignores.\n\nList: A collection of items in a particular order.\n\nLoop: Work through a collection of items, one at a time.\n\nDictionary: A collection of key-value pairs.\n"
     ]
    }
   ],
   "source": [
    "# 字典可用于建模实际字典-glossary\n",
    "glossary = {\n",
    "    'string': 'A series of characters.',\n",
    "    'comment': 'A note in a program that the Python interpreter ignores.',\n",
    "    'list': 'A collection of items in a particular order.',\n",
    "    'loop': 'Work through a collection of items, one at a time.',\n",
    "    'dictionary': \"A collection of key-value pairs.\",\n",
    "    }\n",
    "\n",
    "word = 'string'\n",
    "print(\"\\n\" + word.title() + \": \" + glossary[word])\n",
    "\n",
    "word = 'comment'\n",
    "print(\"\\n\" + word.title() + \": \" + glossary[word])\n",
    "\n",
    "word = 'list'\n",
    "print(\"\\n\" + word.title() + \": \" + glossary[word])\n",
    "\n",
    "word = 'loop'\n",
    "print(\"\\n\" + word.title() + \": \" + glossary[word])\n",
    "\n",
    "word = 'dictionary'\n",
    "print(\"\\n\" + word.title() + \": \" + glossary[word])\n",
    "\n",
    "for word, definition in glossary.items():\n",
    "    print(\"\\n\" + word.title() + \": \" + definition)"
   ]
  },
  {
   "cell_type": "heading",
   "metadata": {},
   "level": 1,
   "source": [
    "Exercise"
   ]
  },
  {
   "cell_type": "code",
   "execution_count": 3,
   "metadata": {},
   "outputs": [
    {
     "name": "stdout",
     "output_type": "stream",
     "text": [
      "Original position: 0\nNew position: 2\n"
     ]
    }
   ],
   "source": [
    "alien_0 = {'x_position': 0, 'y_position': 25, 'speed': 'medium'}\n",
    "print(\"Original position: \" + str(alien_0['x_position']))\n",
    "\n",
    "# Move the alien to the right.\n",
    "# Figure out how far to move the alien based on its speed.\n",
    "if alien_0['speed'] == 'slow':\n",
    "    x_increment = 1\n",
    "elif alien_0['speed'] == 'medium':\n",
    "    x_increment = 2\n",
    "else:\n",
    "    # This must be a fast alien.\n",
    "    x_increment = 3\n",
    "\n",
    "# The new position is the old position plus the increment.\n",
    "alien_0['x_position'] = alien_0['x_position'] + x_increment\n",
    "\n",
    "print(\"New position: \" + str(alien_0['x_position']))"
   ]
  },
  {
   "cell_type": "code",
   "execution_count": 23,
   "metadata": {},
   "outputs": [
    {
     "name": "stdout",
     "output_type": "stream",
     "text": [
      "The Nile flows through Egypt.\nThe Mississippi flows through United States.\nThe Fraser flows through Canada.\nThe Kuskokwim flows through Alaska.\nThe Yangtze flows through China.\n\nThe following rivers are included in this data set:\n- Nile\n- Mississippi\n- Fraser\n- Kuskokwim\n- Yangtze\n\nThe following countries are included in this data set:\n- Egypt\n- United States\n- Canada\n- Alaska\n- China\n"
     ]
    }
   ],
   "source": [
    "rivers = {\n",
    "    'nile': 'egypt',\n",
    "    'mississippi': 'united states',\n",
    "    'fraser': 'canada',\n",
    "    'kuskokwim': 'alaska',\n",
    "    'yangtze': 'china',\n",
    "    }\n",
    "\n",
    "for river, country in rivers.items():\n",
    "    print(\"The \" + river.title() + \" flows through \" + country.title() + \".\")\n",
    "\n",
    "print(\"\\nThe following rivers are included in this data set:\")\n",
    "for river in rivers.keys():\n",
    "    print(\"- \" + river.title())\n",
    "\n",
    "print(\"\\nThe following countries are included in this data set:\")\n",
    "for country in rivers.values():\n",
    "    print(\"- \" + country.title())"
   ]
  },
  {
   "cell_type": "code",
   "execution_count": 24,
   "metadata": {},
   "outputs": [
    {
     "name": "stdout",
     "output_type": "stream",
     "text": [
      "Jen's favorite language is Python.\nSarah's favorite language is C.\nEdward's favorite language is Ruby.\nPhil's favorite language is Python.\n\n\nThank you for taking the poll, Phil!\nJosh, what's your favorite programming language?\nDavid, what's your favorite programming language?\nBecca, what's your favorite programming language?\nThank you for taking the poll, Sarah!\nMatt, what's your favorite programming language?\nDanielle, what's your favorite programming language?\n"
     ]
    }
   ],
   "source": [
    "# 轮询\n",
    "favorite_languages = {\n",
    "    'jen': 'python',\n",
    "    'sarah': 'c',\n",
    "    'edward': 'ruby',\n",
    "    'phil': 'python',\n",
    "    }\n",
    "\n",
    "for name, language in favorite_languages.items():\n",
    "    print(name.title() + \"'s favorite language is \" +\n",
    "        language.title() + \".\")\n",
    "\n",
    "print(\"\\n\")\n",
    "\n",
    "coders = ['phil', 'josh', 'david', 'becca', 'sarah', 'matt', 'danielle']\n",
    "for coder in coders:\n",
    "    if coder in favorite_languages.keys():\n",
    "        print(\"Thank you for taking the poll, \" + coder.title() + \"!\")\n",
    "    else:\n",
    "        print(coder.title() + \", what's your favorite programming language?\")"
   ]
  },
  {
   "cell_type": "code",
   "execution_count": 25,
   "metadata": {},
   "outputs": [
    {
     "name": "stdout",
     "output_type": "stream",
     "text": [
      "Eric Matthes, of Sitka, is 43 years old.\nEver Matthes, of Sitka, is 5 years old.\nWillie Matthes, of Sitka, is 8 years old.\n"
     ]
    }
   ],
   "source": [
    "# Make an empty list to store people in.\n",
    "people = []\n",
    "\n",
    "# Define some people, and add them to the list.\n",
    "person = {\n",
    "    'first_name': 'eric',\n",
    "    'last_name': 'matthes',\n",
    "    'age': 43,\n",
    "    'city': 'sitka',\n",
    "    }\n",
    "people.append(person)\n",
    "\n",
    "person = {\n",
    "    'first_name': 'ever',\n",
    "    'last_name': 'matthes',\n",
    "    'age': 5,\n",
    "    'city': 'sitka',\n",
    "    }\n",
    "people.append(person)\n",
    "\n",
    "person = {\n",
    "    'first_name': 'willie',\n",
    "    'last_name': 'matthes',\n",
    "    'age': 8,\n",
    "    'city': 'sitka',\n",
    "    }\n",
    "people.append(person)\n",
    "\n",
    "# Display all of the information in the dictionary.\n",
    "for person in people:\n",
    "    name = person['first_name'].title() + \" \" + person['last_name'].title()\n",
    "    age = str(person['age'])\n",
    "    city = person['city'].title()\n",
    "    \n",
    "    print(name + \", of \" + city + \", is \" + age + \" years old.\")"
   ]
  },
  {
   "cell_type": "code",
   "execution_count": 26,
   "metadata": {},
   "outputs": [
    {
     "name": "stdout",
     "output_type": "stream",
     "text": [
      "\nHere's what I know about John:\n\tanimal type: python\n\tname: john\n\towner: guido\n\tweight: 43\n\teats: bugs\n\nHere's what I know about Clarence:\n\tanimal type: chicken\n\tname: clarence\n\towner: tiffany\n\tweight: 2\n\teats: seeds\n\nHere's what I know about Peso:\n\tanimal type: dog\n\tname: peso\n\towner: eric\n\tweight: 37\n\teats: shoes\n"
     ]
    }
   ],
   "source": [
    "# Make an empty list to store the pets in.\n",
    "pets = []\n",
    "\n",
    "# Make individual pets, and store each one in the list.\n",
    "pet = {\n",
    "    'animal type': 'python',\n",
    "    'name': 'john',\n",
    "    'owner': 'guido',\n",
    "    'weight': 43,\n",
    "    'eats': 'bugs',\n",
    "}\n",
    "pets.append(pet)\n",
    "\n",
    "pet = {\n",
    "    'animal type': 'chicken',\n",
    "    'name': 'clarence',\n",
    "    'owner': 'tiffany',\n",
    "    'weight': 2,\n",
    "    'eats': 'seeds',\n",
    "}\n",
    "pets.append(pet)\n",
    "\n",
    "pet = {\n",
    "    'animal type': 'dog',\n",
    "    'name': 'peso',\n",
    "    'owner': 'eric',\n",
    "    'weight': 37,\n",
    "    'eats': 'shoes',\n",
    "}\n",
    "pets.append(pet)\n",
    "\n",
    "# Display information about each pet.\n",
    "for pet in pets:\n",
    "    print(\"\\nHere's what I know about \" + pet['name'].title() + \":\")\n",
    "    for key, value in pet.items():\n",
    "        print(\"\\t\" + key + \": \" + str(value))"
   ]
  },
  {
   "cell_type": "code",
   "execution_count": 27,
   "metadata": {},
   "outputs": [
    {
     "name": "stdout",
     "output_type": "stream",
     "text": [
      "\nEric likes the following places:\n- Bear Mountain\n- Death Valley\n- Tierra Del Fuego\n\nErin likes the following places:\n- Hawaii\n- Iceland\n\nEver likes the following places:\n- Mt. Verstovia\n- The Playground\n- South Carolina\n"
     ]
    }
   ],
   "source": [
    "favorite_places = {\n",
    "    'eric': ['bear mountain', 'death valley', 'tierra del fuego'],\n",
    "    'erin': ['hawaii', 'iceland'],\n",
    "    'ever': ['mt. verstovia', 'the playground', 'south carolina']\n",
    "    }\n",
    "\n",
    "for name, places in favorite_places.items():\n",
    "    print(\"\\n\" + name.title() + \" likes the following places:\")\n",
    "    for place in places:\n",
    "        print(\"- \" + place.title())"
   ]
  },
  {
   "cell_type": "code",
   "execution_count": 28,
   "metadata": {},
   "outputs": [
    {
     "name": "stdout",
     "output_type": "stream",
     "text": [
      "\nMandy likes the following numbers:\n  42\n  17\n\nMicah likes the following numbers:\n  42\n  39\n  56\n\nGus likes the following numbers:\n  7\n  12\n"
     ]
    }
   ],
   "source": [
    "favorite_numbers = {\n",
    "    'mandy': [42, 17],\n",
    "    'micah': [42, 39, 56],\n",
    "    'gus': [7, 12],\n",
    "    }\n",
    "\n",
    "for name, numbers in favorite_numbers.items():\n",
    "    print(\"\\n\" + name.title() + \" likes the following numbers:\")\n",
    "    for number in numbers:\n",
    "        print(\"  \" + str(number))"
   ]
  },
  {
   "cell_type": "code",
   "execution_count": 29,
   "metadata": {},
   "outputs": [
    {
     "name": "stdout",
     "output_type": "stream",
     "text": [
      "\nSantiago is in Chile.\n  It has a population of about 6158080.\n  The Andes mountains are nearby.\n\nTalkeetna is in Alaska.\n  It has a population of about 876.\n  The Alaska Range mountains are nearby.\n\nKathmandu is in Nepal.\n  It has a population of about 1003285.\n  The Himilaya mountains are nearby.\n"
     ]
    }
   ],
   "source": [
    "cities = {\n",
    "    'santiago': {\n",
    "        'country': 'chile',\n",
    "        'population': 6158080,\n",
    "        'nearby mountains': 'andes',\n",
    "    },\n",
    "    'talkeetna': {\n",
    "        'country': 'alaska',\n",
    "        'population': 876,\n",
    "        'nearby mountains': 'alaska range',\n",
    "    },\n",
    "    'kathmandu': {\n",
    "        'country': 'nepal',\n",
    "        'population': 1003285,\n",
    "        'nearby mountains': 'himilaya',\n",
    "    }\n",
    "}\n",
    "\n",
    "for city, city_info in cities.items():\n",
    "    country = city_info['country'].title()\n",
    "    population = city_info['population']\n",
    "    mountains = city_info['nearby mountains'].title()\n",
    "\n",
    "    print(\"\\n\" + city.title() + \" is in \" + country + \".\")\n",
    "    print(\"  It has a population of about \" + str(population) + \".\")\n",
    "    print(\"  The \" + mountains + \" mountains are nearby.\")\n"
   ]
  },
  {
   "cell_type": "code",
   "execution_count": null,
   "metadata": {},
   "outputs": [],
   "source": []
  }
 ],
 "metadata": {
  "kernelspec": {
   "display_name": "Python 2",
   "language": "python",
   "name": "python2"
  },
  "language_info": {
   "codemirror_mode": {
    "name": "ipython",
    "version": 2
   },
   "file_extension": ".py",
   "mimetype": "text/x-python",
   "name": "python",
   "nbconvert_exporter": "python",
   "pygments_lexer": "ipython2",
   "version": "2.7.6"
  }
 },
 "nbformat": 4,
 "nbformat_minor": 0
}
