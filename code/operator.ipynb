{
 "cells": [
  {
   "cell_type": "heading",
   "metadata": {
    "collapsed": true
   },
   "level": 1,
   "source": [
    ""
   ]
  },
  {
   "cell_type": "heading",
   "metadata": {},
   "level": 1,
   "source": [
    "算术运算符"
   ]
  },
  {
   "cell_type": "code",
   "execution_count": 1,
   "metadata": {},
   "outputs": [
    {
     "name": "stdout",
     "output_type": "stream",
     "text": [
      "1 - c 的值为： 31\n2 - c 的值为： 11\n3 - c 的值为： 210\n4 - c 的值为： 2.1\n1 , 2 , 0\n5 - c 的值为： 1\n6 - c 的值为： 8\n7 - c 的值为： 2\n"
     ]
    }
   ],
   "source": [
    "a = 21\n",
    "b = 10\n",
    "c = 0\n",
    "# +\t加 - 两个对象相加\ta + b 输出结果 31\n",
    "c = a + b\n",
    "print(\"1 - c 的值为：\", c)\n",
    "# -\t减 - 得到负数或是一个数减去另一个数\ta - b 输出结果 -11\n",
    "c = a - b\n",
    "print(\"2 - c 的值为：\", c)\n",
    "# *\t乘 - 两个数相乘或是返回一个被重复若干次的字符串\ta * b 输出结果 210\n",
    "c = a * b\n",
    "print(\"3 - c 的值为：\", c)\n",
    "# /\t除 - x 除以 y\tb / a 输出结果 2.1\n",
    "c = a / b\n",
    "print(\"4 - c 的值为：\", c)\n",
    "# %\t取模 - 返回除法的余数\tb % a 输出结果 1\n",
    "c = a % b\n",
    "print(\"5 - c 的值为：\", c)\n",
    "print(4 % 3, \",\", 5 % 3, \",\", 6 % 3)\n",
    "# **\t幂 - 返回x的y次幂\ta**b 为10的21次方\n",
    "# 修改变量 a 、b 、c\n",
    "a = 2\n",
    "b = 3\n",
    "c = a ** b\n",
    "print(\"6 - c 的值为：\", c)\n",
    "# //\t取整除 - 返回商的整数部分\t9//2 输出结果 4 , 9.0//2.0 输出结果 4.0\n",
    "a = 10\n",
    "b = 5\n",
    "c = a // b\n",
    "print(\"7 - c 的值为：\", c)\n"
   ]
  },
  {
   "cell_type": "heading",
   "metadata": {},
   "level": 1,
   "source": [
    "比较运算符"
   ]
  },
  {
   "cell_type": "code",
   "execution_count": 2,
   "metadata": {},
   "outputs": [
    {
     "name": "stdout",
     "output_type": "stream",
     "text": [
      "1 - a 不等于 b\n2 - a 不等于 b\n3 - a 大于等于 b\n4 - a 大于 b\n5 - a 小于等于 b\n6 - b 大于等于 a\n"
     ]
    }
   ],
   "source": [
    "a = 21\n",
    "b = 10\n",
    "c = 0\n",
    "# ==\t等于 - 比较对象是否相等\t(a == b) 返回 False。\n",
    "if a == b:\n",
    "    print(\"1 - a 等于 b\")\n",
    "else:\n",
    "    print(\"1 - a 不等于 b\")\n",
    "# !=\t不等于 - 比较两个对象是否不相等\t(a != b) 返回 True。\n",
    "if (a != b):\n",
    "    print(\"2 - a 不等于 b\")\n",
    "else:\n",
    "    print(\"2 - a 等于 b\")\n",
    "# <\t小于 - 返回x是否小于y。所有比较运算符返回1表示真，返回0表示假。这分别与特殊的变量True和False等价。注意，这些变量名的大写。\t(a < b) 返回 True。\n",
    "if (a < b):\n",
    "    print(\"3 - a 小于 b\")\n",
    "else:\n",
    "    print(\"3 - a 大于等于 b\")\n",
    "# >\t大于 - 返回x是否大于y\t(a > b) 返回 False。\n",
    "if (a > b):\n",
    "    print(\"4 - a 大于 b\")\n",
    "else:\n",
    "    print(\"4 - a 小于等于 b\")\n",
    "\n",
    "# 修改变量 a 和 b 的值\n",
    "a = 5\n",
    "b = 20\n",
    "# <=\t小于等于 - 返回x是否小于等于y。\t(a <= b) 返回 True。\n",
    "if (a <= b):\n",
    "    print(\"5 - a 小于等于 b\")\n",
    "else:\n",
    "    print(\"5 - a 大于  b\")\n",
    "# >=\t大于等于 - 返回x是否大于等于y。\t(a >= b) 返回 False。\n",
    "if (b >= a):\n",
    "    print(\"6 - b 大于等于 a\")\n",
    "else:\n",
    "    print(\"6 - b 小于 a\")\n"
   ]
  },
  {
   "cell_type": "heading",
   "metadata": {},
   "level": 1,
   "source": [
    "赋值运算符"
   ]
  },
  {
   "cell_type": "code",
   "execution_count": 4,
   "metadata": {},
   "outputs": [
    {
     "name": "stdout",
     "output_type": "stream",
     "text": [
      "= c 的值为： 31\n+= c 的值为： 52\n-= c 的值为： 31\n*= c 的值为： 651\n/=c 的值为： 31.0\n%= c 的值为： 2\n**= c 的值为： 2097152\n//= c 的值为： 99864\n"
     ]
    }
   ],
   "source": [
    "a = 21\n",
    "b = 10\n",
    "c = 0\n",
    "# =\t简单的赋值运算符\tc = a + b 将 a + b 的运算结果赋值为 c\n",
    "c = a + b\n",
    "print(\"= c 的值为：\", c)\n",
    "# +=\t加法赋值运算符\tc += a 等效于 c = c + a\n",
    "c += a\n",
    "print(\"+= c 的值为：\", c)\n",
    "# -=\t减法赋值运算符\tc -= a 等效于 c = c - a\n",
    "c -= a\n",
    "print(\"-= c 的值为：\", c)\n",
    "# *=\t乘法赋值运算符\tc *= a 等效于 c = c * a\n",
    "c *= a\n",
    "print(\"*= c 的值为：\", c)\n",
    "# /=\t除法赋值运算符\tc /= a 等效于 c = c / a\n",
    "c /= a\n",
    "print(\"/=c 的值为：\", c)\n",
    "# %=\t取模赋值运算符\tc %= a 等效于 c = c % a\n",
    "c = 2\n",
    "c %= a\n",
    "print(\"%= c 的值为：\", c)\n",
    "# **=\t幂赋值运算符\tc **= a 等效于 c = c ** a\n",
    "c **= a\n",
    "print(\"**= c 的值为：\", c)\n",
    "# //=\t取整除赋值运算符\tc //= a 等效于 c = c // a\n",
    "c //= a\n",
    "print(\"//= c 的值为：\", c)"
   ]
  },
  {
   "cell_type": "heading",
   "metadata": {},
   "level": 1,
   "source": [
    "位运算符"
   ]
  },
  {
   "cell_type": "code",
   "execution_count": 5,
   "metadata": {},
   "outputs": [
    {
     "name": "stdout",
     "output_type": "stream",
     "text": [
      "位与 - c 的值为： 12\n位或 - c 的值为： 61\n位异 - c 的值为： 49\n位取 - c 的值为： -61\n左移 - c 的值为： 240\n右移 - c 的值为： 15\n"
     ]
    }
   ],
   "source": [
    "a = 60  # 60 = 0011 1100\n",
    "b = 13  # 13 = 0000 1101\n",
    "c = 0\n",
    "# &\t按位与运算符：参与运算的两个值,如果两个相应位都为1,则该位的结果为1,否则为0。\n",
    "c = a & b;  # 12 = 0000 1100\n",
    "print(\"位与 - c 的值为：\", c)\n",
    "# |\t按位或运算符：只要对应的二个二进位有一个为1时，结果位就为1。\n",
    "c = a | b;  # 61 = 0011 1101\n",
    "print(\"位或 - c 的值为：\", c)\n",
    "# ^\t按位异或运算符：当两对应的二进位相异时，结果为1。\n",
    "c = a ^ b;  # 49 = 0011 0001\n",
    "print(\"位异 - c 的值为：\", c)\n",
    "# ~\t按位取反运算符：对数据的每个二进制位取反,即把1变为0,把0变为1。~x 类似于 -x-1\t(~a ) 输出结果 -61 ，二进制解释： 1100 0011， 在一个有符号二进制数的补码形式。\n",
    "c = ~a;  # -61 = 1100 0011\n",
    "print(\"位取 - c 的值为：\", c)\n",
    "# <<\t左移动运算符：运算数的各二进位全部左移若干位，由\"<<\"右边的数指定移动的位数，高位丢弃，低位补0。\t\n",
    "c = a << 2;  # 240 = 1111 0000\n",
    "print(\"左移 - c 的值为：\", c)\n",
    "# >>\t右移动运算符：把\">>\"左边的运算数的各二进位全部右移若干位，\">>\"右边的数指定移动的位数。\n",
    "c = a >> 2;  # 15 = 0000 1111\n",
    "print(\"右移 - c 的值为：\", c)"
   ]
  },
  {
   "cell_type": "heading",
   "metadata": {},
   "level": 1,
   "source": [
    "逻辑运算符"
   ]
  },
  {
   "cell_type": "code",
   "execution_count": 21,
   "metadata": {},
   "outputs": [
    {
     "name": "stdout",
     "output_type": "stream",
     "text": [
      "and - 变量 a 和 b 都为 true\nand - 变量 a 和 b 有一个不为 true\nor - 变量 a 和 b 都不为 true\nor - 变量 a 和 b 都为 true，或其中一个变量为 true\nnot - 变量 a 和 b 都为 true\nnot - 变量 a 和 b 都为 false，或其中一个变量为 false\n"
     ]
    }
   ],
   "source": [
    "# and\tx and y\t布尔\"与\" - 如果 x 为 False，x and y 返回 False，否则它返回 y 的计算值。\t(a and b) 返回 20。\n",
    "#     and 从左到右计算表达式，若所有值均为真，则返回最后一个值，若存在假，返回第一个假值.\n",
    "def and_test(a, b):\n",
    "    if a and b:\n",
    "        print(\"and - 变量 a 和 b 都为 true\")\n",
    "    else:\n",
    "        print(\"and - 变量 a 和 b 有一个不为 true\")\n",
    "and_test(1, 1)\n",
    "and_test(1, 0)\n",
    "\n",
    "# or\tx or y\t布尔\"或\" - 如果 x 是 True，它返回 x 的值，否则它返回 y 的计算值。\t(a or b) 返回 10。\n",
    "#     or 也是从左到有计算表达式，返回第一个为真的值.\n",
    "def or_test(a, b):\n",
    "    if a or b:\n",
    "        print(\"or - 变量 a 和 b 都为 true，或其中一个变量为 true\")\n",
    "    else:\n",
    "        print(\"or - 变量 a 和 b 都不为 true\")\n",
    "or_test(0, 0)\n",
    "or_test(1, 0)\n",
    "\n",
    "# not\tnot x\t布尔\"非\" - 如果 x 为 True，返回 False 。如果 x 为 False，它返回 True。\tnot(a and b) 返回 False\n",
    "def not_test(a, b):\n",
    "    if not (a and b):\n",
    "        print(\"not - 变量 a 和 b 都为 false，或其中一个变量为 false\")\n",
    "    else:\n",
    "        print(\"not - 变量 a 和 b 都为 true\")\n",
    "not_test(1, 1)\n",
    "not_test(1, 0)\n",
    "        "
   ]
  },
  {
   "cell_type": "heading",
   "metadata": {},
   "level": 1,
   "source": [
    "成员运算符"
   ]
  },
  {
   "cell_type": "code",
   "execution_count": 1,
   "metadata": {},
   "outputs": [
    {
     "name": "stdout",
     "output_type": "stream",
     "text": [
      "1 - 变量 a 不在给定的列表中 list 中\n2 - 变量 b 不在给定的列表中 list 中\n3 - 变量 a 在给定的列表中 list 中\n"
     ]
    }
   ],
   "source": [
    "a = 10\n",
    "b = 20\n",
    "list = [1, 2, 3, 4, 5];\n",
    "# in\t如果在指定的序列中找到值返回 True，否则返回 False。\tx 在 y 序列中 , 如果 x 在 y 序列中返回 True。\n",
    "# not in\t如果在指定的序列中没有找到值返回 True，否则返回 False。\tx 不在 y 序列中 , 如果 x 不在 y 序列中返回 True。\n",
    "if (a in list):\n",
    "    print(\"变量 a 在给定的列表中 list 中\")\n",
    "else:\n",
    "    print(\"变量 a 不在给定的列表中 list 中\")\n",
    "\n",
    "if (b not in list):\n",
    "    print(\"变量 b 不在给定的列表中 list 中\")\n",
    "else:\n",
    "    print(\"变量 b 在给定的列表中 list 中\")\n",
    "\n",
    "# 修改变量 a 的值\n",
    "a = 2\n",
    "if (a in list):\n",
    "    print(\"变量 a 在给定的列表中 list 中\")\n",
    "else:\n",
    "    print(\"变量 a 不在给定的列表中 list 中\")\n"
   ]
  },
  {
   "cell_type": "heading",
   "metadata": {},
   "level": 1,
   "source": [
    "身份运算符"
   ]
  },
  {
   "cell_type": "code",
   "execution_count": 3,
   "metadata": {},
   "outputs": [
    {
     "name": "stdout",
     "output_type": "stream",
     "text": [
      "1 - a 和 b 有相同的标识\n2 - a 和 b 有相同的标识\n3 - a 和 b 没有相同的标识\n4 - a 和 b 没有相同的标识\nTrue\nTrue\nFalse\nTrue\n"
     ]
    }
   ],
   "source": [
    "# is 是判断两个标识符是不是引用自一个对象\tx is y, 类似 id(x) == id(y) , 如果引用的是同一个对象则返回 True，否则返回 False\n",
    "# is not 是判断两个标识符是不是引用自不同对象\tx is not y ， 类似 id(a) != id(b)。如果引用的不是同一个对象则返回结果 True，否则返回 False。\n",
    "# 注： id() 函数用于获取对象内存地址。\n",
    "a = 20\n",
    "b = 20\n",
    "\n",
    "if (a is b):\n",
    "    print(\"1 - a 和 b 有相同的标识\")\n",
    "else:\n",
    "    print(\"1 - a 和 b 没有相同的标识\")\n",
    "\n",
    "if (id(a) == id(b)):\n",
    "    print(\"2 - a 和 b 有相同的标识\")\n",
    "else:\n",
    "    print(\"2 - a 和 b 没有相同的标识\")\n",
    "\n",
    "# 修改变量 b 的值\n",
    "b = 30\n",
    "if (a is b):\n",
    "    print(\"3 - a 和 b 有相同的标识\")\n",
    "else:\n",
    "    print(\"3 - a 和 b 没有相同的标识\")\n",
    "\n",
    "if (a is not b):\n",
    "    print(\"4 - a 和 b 没有相同的标识\")\n",
    "else:\n",
    "    print(\"4 - a 和 b 有相同的标识\")\n",
    "\n",
    "# is 与 == 区别：\n",
    "# is 用于判断两个变量引用对象是否为同一个， == 用于判断引用变量的值是否相等。\n",
    "a = [1, 2, 3]\n",
    "b = a\n",
    "print(b is a)\n",
    "print(b == a)\n",
    "\n",
    "b = a[:]\n",
    "print(b is a)\n",
    "print(b == a)"
   ]
  },
  {
   "cell_type": "heading",
   "metadata": {},
   "level": 1,
   "source": [
    "运算符优先级"
   ]
  },
  {
   "cell_type": "code",
   "execution_count": 6,
   "metadata": {},
   "outputs": [
    {
     "name": "stdout",
     "output_type": "stream",
     "text": [
      "(a + b) * c / d 运算结果为： 90.0\n((a + b) * c) / d 运算结果为： 90.0\n(a + b) * (c / d) 运算结果为： 90.0\na + (b * c) / d 运算结果为： 50.0\n0.2 1.2\n"
     ]
    }
   ],
   "source": [
    "# **\t指数 (最高优先级)\n",
    "# ~ + -\t按位翻转, 一元加号和减号 (最后两个的方法名为 +@ 和 -@)\n",
    "# * / % //\t乘，除，取模和取整除\n",
    "# + -\t加法减法\n",
    "# >> <<\t右移，左移运算符\n",
    "# &\t位 'AND'\n",
    "# ^ |\t位运算符\n",
    "# <= < > >=\t比较运算符\n",
    "# <> == !=\t等于运算符\n",
    "# = %= /= //= -= += *= **=\t赋值运算符\n",
    "# is is not\t身份运算符\n",
    "# in not in\t成员运算符\n",
    "# not or and\t逻辑运算符\n",
    "\n",
    "a = 20\n",
    "b = 10\n",
    "c = 15\n",
    "d = 5\n",
    "e = 0\n",
    "\n",
    "e = (a + b) * c / d  # ( 30 * 15 ) / 5\n",
    "print(\"(a + b) * c / d 运算结果为：\", e)\n",
    "\n",
    "e = ((a + b) * c) / d  # (30 * 15 ) / 5\n",
    "print(\"((a + b) * c) / d 运算结果为：\", e)\n",
    "\n",
    "e = (a + b) * (c / d);  # (30) * (15/5)\n",
    "print(\"(a + b) * (c / d) 运算结果为：\", e)\n",
    "\n",
    "e = a + (b * c) / d;  # 20 + (150/5)\n",
    "print(\"a + (b * c) / d 运算结果为：\", e)\n",
    "\n",
    "# 浮点数\n",
    "a = 0.1 + 0.1\n",
    "b = 0.3 * 4\n",
    "print(a, b)"
   ]
  },
  {
   "cell_type": "code",
   "execution_count": null,
   "metadata": {},
   "outputs": [],
   "source": []
  }
 ],
 "metadata": {
  "kernelspec": {
   "display_name": "Python 2",
   "language": "python",
   "name": "python2"
  },
  "language_info": {
   "codemirror_mode": {
    "name": "ipython",
    "version": 2
   },
   "file_extension": ".py",
   "mimetype": "text/x-python",
   "name": "python",
   "nbconvert_exporter": "python",
   "pygments_lexer": "ipython2",
   "version": "2.7.6"
  }
 },
 "nbformat": 4,
 "nbformat_minor": 0
}
