{
 "cells": [
  {
   "cell_type": "markdown",
   "metadata": {
    "collapsed": true
   },
   "source": [
    "面向对象技术简介\n",
    "- 类(Class): 用来描述具有相同的属性和方法的对象的集合。它定义了该集合中每个对象所共有的属性和方法。对象是类的实例。\n",
    "- 类变量：类变量在整个实例化的对象中是公用的。类变量定义在类中且在函数体之外。类变量通常不作为实例变量使用。\n",
    "- 数据成员：类变量或者实例变量用于处理类及其实例对象的相关的数据。\n",
    "- 方法重写：如果从父类继承的方法不能满足子类的需求，可以对其进行改写，这个过程叫方法的覆盖（override），也称为方法的重写。\n",
    "- 实例变量：定义在方法中的变量，只作用于当前实例的类。\n",
    "- 继承：即一个派生类（derived class）继承基类（base class）的字段和方法。继承也允许把一个派生类的对象作为一个基类对象对待。例如，有这样一个设计：一个Dog类型的对象派生自Animal类，这是模拟\"是一个（is-a）\"关系（例图，Dog是一个Animal）。\n",
    "- 实例化：创建一个类的实例，类的具体对象。\n",
    "- 方法：类中定义的函数。\n",
    "- 对象：通过类定义的数据结构实例。对象包括两个数据成员（类变量和实例变量）和方法。\n",
    "\n",
    "Python中的类提供了面向对象编程的所有基本功能：类的继承机制允许多个基类，派生类可以覆盖基类中的任何方法，方法中可以调用基类中的同名方法。\n",
    "对象可以包含任意数量和类型的数据。"
   ]
  },
  {
   "cell_type": "markdown",
   "metadata": {},
   "source": [
    "类对象\n",
    "- 类对象支持两种操作：属性引用和实例化。\n",
    "- 所有的属性引用一样的标准语法：obj.name。\n",
    "- 类对象创建后，类命名空间中所有的命名都是有效属性名。"
   ]
  },
  {
   "cell_type": "code",
   "execution_count": 1,
   "metadata": {},
   "outputs": [
    {
     "name": "stdout",
     "output_type": "stream",
     "text": [
      "MyClass 类的属性 i 为： 12345\nMyClass 类的方法 f 输出为： hello world\n"
     ]
    }
   ],
   "source": [
    "class MyClass:\n",
    "    \"\"\"一个简单的类实例\"\"\"\n",
    "    i = 12345\n",
    "    def f(self):\n",
    "        return 'hello world'\n",
    "\n",
    "# 实例化类\n",
    "x = MyClass()\n",
    "# 访问类的属性和方法\n",
    "print(\"MyClass 类的属性 i 为：\", x.i)\n",
    "print(\"MyClass 类的方法 f 输出为：\", x.f())"
   ]
  },
  {
   "cell_type": "code",
   "execution_count": 2,
   "metadata": {},
   "outputs": [
    {
     "name": "stdout",
     "output_type": "stream",
     "text": [
      "3.0 -4.5\n"
     ]
    }
   ],
   "source": [
    "# 很多类都倾向于将对象创建为有初始状态的。因此类可定义一个名为 __init__() 构造方法\n",
    "# 类定义了 __init__() 方法的话，类的实例化操作会自动调用 __init__() 方法\n",
    "class Complex:\n",
    "    def __init__(self, realpart, imagpart):\n",
    "        self.r = realpart\n",
    "        self.i = imagpart\n",
    "\n",
    "x = Complex(3.0, -4.5)\n",
    "print(x.r, x.i)  # 输出结果：3.0 -4.5"
   ]
  },
  {
   "cell_type": "code",
   "execution_count": 1,
   "metadata": {},
   "outputs": [
    {
     "name": "stdout",
     "output_type": "stream",
     "text": [
      "<__main__.Test object at 0x106dba128>\n<class '__main__.Test'>\n<__main__.Test object at 0x106ceef60>\n<class '__main__.Test'>\n"
     ]
    }
   ],
   "source": [
    "# self代表类的实例，而非类\n",
    "# 类的方法与普通的函数只有一个特别的区别——它们必须有一个额外的第一个参数名称, 按照惯例它的名称是self。\n",
    "class Test:\n",
    "    def prt(self):\n",
    "        print(self)\n",
    "        print(self.__class__)\n",
    "\n",
    "\n",
    "t = Test()\n",
    "t.prt()\n",
    "\n",
    "\n",
    "# self 不是 python 关键字，我们把他换成 runoob 也是可以正常执行\n",
    "class Test:\n",
    "    def prt(xx):\n",
    "        print(xx)\n",
    "        print(xx.__class__)\n",
    "\n",
    "\n",
    "t = Test()\n",
    "t.prt()\n"
   ]
  },
  {
   "cell_type": "code",
   "execution_count": null,
   "metadata": {},
   "outputs": [],
   "source": [
    "'''\n",
    "类属性与方法\n",
    "类的私有属性\n",
    "__private_attrs：两个下划线开头，声明该属性为私有，不能在类地外部被使用或直接访问。在类内部的方法中使用时 self.__private_attrs。\n",
    "类的方法\n",
    "在类地内部，使用 def 关键字来定义一个方法，与一般函数定义不同，类方法必须包含参数 self，且为第一个参数，self 代表的是类的实例。\n",
    "self 的名字并不是规定死的，也可以使用 this，但是最好还是按照约定是用 self。\n",
    "类的私有方法\n",
    "__private_method：两个下划线开头，声明该方法为私有方法，只能在类的内部调用 ，不能在类地外部调用。self.__private_methods。\n",
    "'''"
   ]
  },
  {
   "cell_type": "code",
   "execution_count": 20,
   "metadata": {},
   "outputs": [
    {
     "name": "stdout",
     "output_type": "stream",
     "text": [
      "1\n2\n2\nname  :  菜鸟教程\nurl :  www.runoob.com\n这是公共方法\n这是私有方法\n"
     ]
    }
   ],
   "source": [
    "class JustCounter:\n",
    "    __secretCount = 0  # 私有变量\n",
    "    publicCount = 0  # 公开变量\n",
    "\n",
    "    def count(self):\n",
    "        self.__secretCount += 1\n",
    "        self.publicCount += 1\n",
    "        print(self.__secretCount)\n",
    "\n",
    "\n",
    "counter = JustCounter()\n",
    "counter.count()\n",
    "counter.count()\n",
    "print(counter.publicCount)\n",
    "\n",
    "\n",
    "# print(counter.__secretCount)  # 报错，实例不能访问私有变量\n",
    "\n",
    "\n",
    "class Site:\n",
    "    def __init__(self, name, url):\n",
    "        self.name = name  # public\n",
    "        self.__url = url  # private\n",
    "\n",
    "    def who(self):\n",
    "        print('name  : ', self.name)\n",
    "        print('url : ', self.__url)\n",
    "\n",
    "    def __foo(self):  # 私有方法\n",
    "        print('这是私有方法')\n",
    "\n",
    "    def foo(self):  # 公共方法\n",
    "        print('这是公共方法')\n",
    "        self.__foo()\n",
    "\n",
    "\n",
    "x = Site('菜鸟教程', 'www.runoob.com')\n",
    "x.who()  # 正常输出\n",
    "x.foo()  # 正常输出\n",
    "# x.__foo()  # 报错\n"
   ]
  },
  {
   "cell_type": "code",
   "execution_count": 19,
   "metadata": {},
   "outputs": [
    {
     "name": "stdout",
     "output_type": "stream",
     "text": [
      "wangkan 说: 我 30 岁, 重 60 公斤。\n"
     ]
    }
   ],
   "source": [
    "# 类的方法\n",
    "# 在类地内部，使用 def 关键字来定义一个方法，与一般函数定义不同，类方法必须包含参数 self, 且为第一个参数，self 代表的是类的实例。\n",
    "class people:\n",
    "    # 定义基本属性\n",
    "    name = ''\n",
    "    age = 0\n",
    "    # 定义私有属性,私有属性在类外部无法直接进行访问\n",
    "    __weight = 0\n",
    "\n",
    "    # 定义构造方法\n",
    "    def __init__(self, n, a, w):\n",
    "        self.name = n\n",
    "        self.age = a\n",
    "        self.__weight = w\n",
    "\n",
    "    def speak(self):\n",
    "        print(\"%s 说: 我 %d 岁, 重 %d 公斤。\" % (self.name, self.age, self.__weight))\n",
    "\n",
    "\n",
    "# 实例化类\n",
    "p = people('wangkan', 30, 60)\n",
    "p.speak()"
   ]
  },
  {
   "cell_type": "heading",
   "metadata": {},
   "level": 1,
   "source": [
    "继承"
   ]
  },
  {
   "cell_type": "code",
   "execution_count": 13,
   "metadata": {},
   "outputs": [
    {
     "name": "stdout",
     "output_type": "stream",
     "text": [
      "zhou 说: 我 10 岁了，我在读 3 年级\n"
     ]
    }
   ],
   "source": [
    "'''\n",
    "class DerivedClassName(BaseClassName1):\n",
    "    <statement-1>\n",
    "    .\n",
    "    .\n",
    "    .\n",
    "    <statement-N>\n",
    "需要注意圆括号中基类的顺序，若是基类中有相同的方法名，而在子类使用时未指定，python从左至右搜索 即方法在子类中未找到时，从左到右查找基类中是否包含方法。\n",
    "BaseClassName（示例中的基类名）必须与派生类定义在一个作用域内。除了类，还可以用表达式，基类定义在另一个模块中时这一点非常有用\n",
    "'''\n",
    "\n",
    "# 单继承示例\n",
    "class student(people):\n",
    "    grade = ''\n",
    "\n",
    "    def __init__(self, n, a, w, g):\n",
    "        # 调用父类的构函\n",
    "        people.__init__(self, n, a, w)\n",
    "        self.grade = g\n",
    "\n",
    "    # 覆写父类的方法\n",
    "    def speak(self):\n",
    "        print(\"%s 说: 我 %d 岁了，我在读 %d 年级\" % (self.name, self.age, self.grade))\n",
    "\n",
    "\n",
    "s = student('zhou', 10, 60, 3)\n",
    "s.speak()"
   ]
  },
  {
   "cell_type": "heading",
   "metadata": {},
   "level": 1,
   "source": [
    "多继承"
   ]
  },
  {
   "cell_type": "code",
   "execution_count": 18,
   "metadata": {},
   "outputs": [
    {
     "name": "stdout",
     "output_type": "stream",
     "text": [
      "我叫 Tim，我是一个演说家，我演讲的主题是 Python\n"
     ]
    }
   ],
   "source": [
    "'''\n",
    "Python同样有限的支持多继承形式。多继承的类定义形如下例:\n",
    "class DerivedClassName(Base1, Base2, Base3):\n",
    "    <statement-1>\n",
    "    .\n",
    "    .\n",
    "    .\n",
    "    <statement-N>\n",
    "需要注意圆括号中父类的顺序，若是父类中有相同的方法名，而在子类使用时未指定，python从左至右搜索 即方法在子类中未找到时，从左到右查找父类中是否包含方法。\n",
    "'''\n",
    "\n",
    "\n",
    "class speaker():\n",
    "    topic = ''\n",
    "    name = ''\n",
    "\n",
    "    def __init__(self, n, t):\n",
    "        self.name = n\n",
    "        self.topic = t\n",
    "\n",
    "    def speak(self):\n",
    "        print(\"我叫 %s，我是一个演说家，我演讲的主题是 %s\" % (self.name, self.topic))\n",
    "\n",
    "\n",
    "# 多重继承\n",
    "class sample(speaker, student):\n",
    "    a = ''\n",
    "\n",
    "    def __init__(self, n, a, w, g, t):\n",
    "        student.__init__(self, n, a, w, g)\n",
    "        speaker.__init__(self, n, t)\n",
    "\n",
    "\n",
    "test = sample(\"Tim\", 25, 80, 4, \"Python\")\n",
    "test.speak()  # 方法名同，默认调用的是在括号中排前地父类的方法\n"
   ]
  },
  {
   "cell_type": "code",
   "execution_count": 17,
   "metadata": {},
   "outputs": [
    {
     "name": "stdout",
     "output_type": "stream",
     "text": [
      "调用子类方法\n"
     ]
    }
   ],
   "source": [
    "# 方法重写\n",
    "class Parent:  # 定义父类\n",
    "    def myMethod(self):\n",
    "        print('调用父类方法')\n",
    "\n",
    "\n",
    "class Child(Parent):  # 定义子类\n",
    "    def myMethod(self):\n",
    "        print('调用子类方法')\n",
    "\n",
    "\n",
    "c = Child()  # 子类实例\n",
    "c.myMethod()  # 子类调用重写方法"
   ]
  },
  {
   "cell_type": "code",
   "execution_count": 21,
   "metadata": {},
   "outputs": [
    {
     "name": "stdout",
     "output_type": "stream",
     "text": [
      "这个人的名字是孙悟空,已经有999岁了！\nVector (7, 8)\n"
     ]
    }
   ],
   "source": [
    "'''\n",
    "类的专有方法：\n",
    "__init__ : 构造函数，在生成对象时调用\n",
    "__del__ : 析构函数，释放对象时使用\n",
    "__repr__ : 打印，转换\n",
    "__setitem__ : 按照索引赋值\n",
    "__getitem__: 按照索引获取值\n",
    "__len__: 获得长度\n",
    "__cmp__: 比较运算\n",
    "__call__: 函数调用\n",
    "__add__: 加运算\n",
    "__sub__: 减运算\n",
    "__mul__: 乘运算\n",
    "__div__: 除运算\n",
    "__mod__: 求余运算\n",
    "__pow__: 乘方\n",
    "__str__\n",
    "'''\n",
    "\n",
    "\n",
    "class people:\n",
    "    def __init__(self, name, age):\n",
    "        self.name = name\n",
    "        self.age = age\n",
    "\n",
    "    def __str__(self):\n",
    "        return '这个人的名字是%s,已经有%d岁了！' % (self.name, self.age)\n",
    "\n",
    "\n",
    "a = people('孙悟空', 999)\n",
    "print(a)\n",
    "\n",
    "\n",
    "# 运算符重载\n",
    "class Vector:\n",
    "    def __init__(self, a, b):\n",
    "        self.a = a\n",
    "        self.b = b\n",
    "\n",
    "    def __str__(self):\n",
    "        return 'Vector (%d, %d)' % (self.a, self.b)\n",
    "\n",
    "    def __add__(self, other):\n",
    "        return Vector(self.a + other.a, self.b + other.b)\n",
    "\n",
    "\n",
    "v1 = Vector(2, 10)\n",
    "v2 = Vector(5, -2)\n",
    "print(v1 + v2)\n"
   ]
  },
  {
   "cell_type": "heading",
   "metadata": {},
   "level": 1,
   "source": [
    "Exercise"
   ]
  },
  {
   "cell_type": "code",
   "execution_count": 1,
   "metadata": {},
   "outputs": [
    {
     "name": "stdout",
     "output_type": "stream",
     "text": [
      "My dog's name is Willie.\nMy dog is 6 years old.\nWillie is now sitting.\n"
     ]
    }
   ],
   "source": [
    "class Dog():\n",
    "    \"\"\"A simple attempt to model a dog.\"\"\"\n",
    "    \n",
    "    def __init__(self, name, age):  # self 自动传入的实参，指向实例本身的引用\n",
    "        \"\"\"Initialize name and age attributes.\"\"\"\n",
    "        self.name = name\n",
    "        self.age = age\n",
    "        \n",
    "    def sit(self):\n",
    "        \"\"\"Simulate a dog sitting in response to a command.\"\"\"\n",
    "        print(self.name.title() + \" is now sitting.\")\n",
    "\n",
    "    def roll_over(self):\n",
    "        \"\"\"Simulate rolling over in response to a command.\"\"\"\n",
    "        print(self.name.title() + \" rolled over!\")\n",
    "        \n",
    "\n",
    "my_dog = Dog('willie', 6)\n",
    "\n",
    "print(\"My dog's name is \" + my_dog.name.title() + \".\")\n",
    "print(\"My dog is \" + str(my_dog.age) + \" years old.\")\n",
    "my_dog.sit()"
   ]
  },
  {
   "cell_type": "code",
   "execution_count": 7,
   "metadata": {},
   "outputs": [
    {
     "name": "stdout",
     "output_type": "stream",
     "text": [
      "2013 Subaru Outback\nThis car has 243700 miles on it.\nThis car has 244021 miles on it.\n"
     ]
    }
   ],
   "source": [
    "from car import Car\n",
    "\n",
    "my_used_car = Car('subaru', 'outback', 2013)\n",
    "print(my_used_car.get_descriptive_name())\n",
    "my_used_car.update_odometer(243700)\n",
    "my_used_car.read_odometer()\n",
    "my_used_car.increment_odometer(321)\n",
    "my_used_car.read_odometer()"
   ]
  },
  {
   "cell_type": "code",
   "execution_count": null,
   "metadata": {},
   "outputs": [
    {
     "name": "stdout",
     "output_type": "stream",
     "text": [
      "2016 Tesla Model S\nThis car has a 60-kWh battery.\n"
     ]
    }
   ],
   "source": [
    "from car import ElectricCar\n",
    "my_tesla = ElectricCar('tesla', 'model s', 2016)"
   ]
  },
  {
   "cell_type": "code",
   "execution_count": 7,
   "metadata": {},
   "outputs": [
    {
     "name": "stdout",
     "output_type": "stream",
     "text": [
      "2015 Audi A4\nThis car has 23 miles on it.\n"
     ]
    }
   ],
   "source": [
    "from car import Car\n",
    "\n",
    "my_new_car = Car('audi', 'a4', 2015)\n",
    "print(my_new_car.get_descriptive_name())\n",
    "\n",
    "my_new_car.odometer_reading = 23\n",
    "my_new_car.read_odometer()"
   ]
  },
  {
   "cell_type": "code",
   "execution_count": 6,
   "metadata": {},
   "outputs": [
    {
     "name": "stdout",
     "output_type": "stream",
     "text": [
      "2015 Volkswagen Beetle\n2015 Tesla Roadster\n"
     ]
    }
   ],
   "source": [
    "from car import Car, ElectricCar\n",
    "\n",
    "my_beetle = Car('volkswagen', 'beetle', 2015)\n",
    "print(my_beetle.get_descriptive_name())\n",
    "\n",
    "my_tesla = ElectricCar('tesla', 'roadster', 2015)\n",
    "print(my_tesla.get_descriptive_name())"
   ]
  },
  {
   "cell_type": "code",
   "execution_count": 4,
   "metadata": {},
   "outputs": [
    {
     "name": "stdout",
     "output_type": "stream",
     "text": [
      "2015 Volkswagen Beetle\n2015 Tesla Roadster\nThis car has a 60-kWh battery.\n\nUpgrade the battery, and check it again:\nUpgraded the battery to 85 kWh.\nThis car has a 85-kWh battery.\n\nTry upgrading the battery a second time.\nThe battery is already upgraded.\nThis car has a 85-kWh battery.\n"
     ]
    }
   ],
   "source": [
    "import car\n",
    "my_beetle = car.Car('volkswagen', 'beetle', 2015)\n",
    "print(my_beetle.get_descriptive_name())\n",
    "\n",
    "my_tesla = car.ElectricCar('tesla', 'roadster', 2015)\n",
    "print(my_tesla.get_descriptive_name())\n",
    "my_tesla.battery.describe_battery()\n",
    "\n",
    "print(\"\\nUpgrade the battery, and check it again:\")\n",
    "my_tesla.battery.upgrade_battery()\n",
    "my_tesla.battery.describe_battery()\n",
    "\n",
    "print(\"\\nTry upgrading the battery a second time.\")\n",
    "my_tesla.battery.upgrade_battery()\n",
    "my_tesla.battery.describe_battery()\n"
   ]
  },
  {
   "cell_type": "code",
   "execution_count": 6,
   "metadata": {},
   "outputs": [
    {
     "name": "stdout",
     "output_type": "stream",
     "text": [
      "Jen's favorite language is Python.\nSarah's favorite language is C.\nEdward's favorite language is Ruby.\nPhil's favorite language is Python.\n\nString: A series of characters.\n\nComment: A note in a program that the Python interpreter ignores.\n\nList: A collection of items in a particular order.\n\nLoop: Work through a collection of items, one at a time.\n\nDictionary: A collection of key-value pairs.\n\nKey: The first item in a key-value pair in a dictionary.\n\nValue: An item associated with a key in a dictionary.\n\nConditional Test: A comparison between two values.\n\nFloat: A numerical value with a decimal component.\n\nBoolean Expression: An expression that evaluates to True or False.\n"
     ]
    }
   ],
   "source": [
    "# 标准库 - 有序字典 OrderedDict\n",
    "from collections import OrderedDict\n",
    "\n",
    "favorite_languages = OrderedDict()\n",
    "\n",
    "favorite_languages['jen'] = 'python'\n",
    "favorite_languages['sarah'] = 'c'\n",
    "favorite_languages['edward'] = 'ruby'\n",
    "favorite_languages['phil'] = 'python'\n",
    "\n",
    "for name, language in favorite_languages.items():\n",
    "    print(name.title() + \"'s favorite language is \" +\n",
    "        language.title() + \".\")\n",
    "\n",
    "glossary = OrderedDict()\n",
    "\n",
    "glossary['string'] = 'A series of characters.'\n",
    "glossary['comment'] = 'A note in a program that the Python interpreter ignores.'\n",
    "glossary['list'] = 'A collection of items in a particular order.'\n",
    "glossary['loop'] = 'Work through a collection of items, one at a time.'\n",
    "glossary['dictionary'] = \"A collection of key-value pairs.\"\n",
    "glossary['key'] = 'The first item in a key-value pair in a dictionary.'\n",
    "glossary['value'] = 'An item associated with a key in a dictionary.'\n",
    "glossary['conditional test'] = 'A comparison between two values.'\n",
    "glossary['float'] = 'A numerical value with a decimal component.'\n",
    "glossary['boolean expression'] = 'An expression that evaluates to True or False.'\n",
    "\n",
    "for word, definition in glossary.items():\n",
    "    print(\"\\n\" + word.title() + \": \" + definition)"
   ]
  },
  {
   "cell_type": "code",
   "execution_count": 2,
   "metadata": {},
   "outputs": [
    {
     "name": "stdout",
     "output_type": "stream",
     "text": [
      "\nEric Matthes\n  Username: e_matthes\n  Email: e_matthes@example.com\n  Location: Alaska\n\nWelcome back, e_matthes!\n\nWillie Burger\n  Username: willieburger\n  Email: wb@example.com\n  Location: Alaska\n\nWelcome back, willieburger!\n\nMaking 3 login attempts...\n  Login attempts: 3\nResetting login attempts...\n  Login attempts: 0\n\nEric Matthes\n  Username: e_matthes\n  Email: e_matthes@example.com\n  Location: Alaska\n\nPrivileges:\n- can reset passwords\n- can moderate discussions\n- can suspend accounts\n"
     ]
    }
   ],
   "source": [
    "from user import User, Admin\n",
    "\n",
    "eric = User('eric', 'matthes', 'e_matthes', 'e_matthes@example.com', 'alaska')\n",
    "eric.describe_user()\n",
    "eric.greet_user()\n",
    "\n",
    "willie = User('willie', 'burger', 'willieburger', 'wb@example.com', 'alaska')\n",
    "willie.describe_user()\n",
    "willie.greet_user()\n",
    "\n",
    "print(\"\\nMaking 3 login attempts...\")\n",
    "eric.increment_login_attempts()\n",
    "eric.increment_login_attempts()\n",
    "eric.increment_login_attempts()\n",
    "print(\"  Login attempts: \" + str(eric.login_attempts))\n",
    "\n",
    "print(\"Resetting login attempts...\")\n",
    "eric.reset_login_attempts()\n",
    "print(\"  Login attempts: \" + str(eric.login_attempts))\n",
    "\n",
    "eric = Admin('eric', 'matthes', 'e_matthes', 'e_matthes@example.com', 'alaska')\n",
    "eric.describe_user()\n",
    "\n",
    "# eric.privileges = [\n",
    "#     'can reset passwords',\n",
    "#     'can moderate discussions',\n",
    "#     'can suspend accounts',\n",
    "#     ]\n",
    "# \n",
    "# eric.show_privileges()\n",
    "\n",
    "eric.privileges.show_privileges()\n",
    "\n",
    "print(\"\\nAdding privileges...\")\n",
    "eric_privileges = [\n",
    "    'can reset passwords',\n",
    "    'can moderate discussions',\n",
    "    'can suspend accounts',\n",
    "]\n",
    "eric.privileges.privileges = eric_privileges\n",
    "eric.privileges.show_privileges()"
   ]
  },
  {
   "cell_type": "code",
   "execution_count": 5,
   "metadata": {},
   "outputs": [
    {
     "name": "stdout",
     "output_type": "stream",
     "text": [
      "\nThe Mean Queen serves wonderful pizza.\n\nNumber served: 0\nNumber served: 430\nNumber served: 1257\nNumber served: 1496\n\nThe Big One serves wonderful ice_cream.\n\nWe have the following flavors available:\n- Vanilla\n- Chocolate\n- Black Cherry\n\nThe Channel Club serves wonderful steak and seafood.\n\nThe Channel Club is open. Come on in!\n"
     ]
    }
   ],
   "source": [
    "from restaurant import Restaurant, IceCreamStand\n",
    "restaurant = Restaurant('the mean queen', 'pizza')\n",
    "restaurant.describe_restaurant()\n",
    "\n",
    "print(\"\\nNumber served: \" + str(restaurant.number_served))\n",
    "restaurant.number_served = 430\n",
    "print(\"Number served: \" + str(restaurant.number_served))\n",
    "\n",
    "restaurant.set_number_served(1257)\n",
    "print(\"Number served: \" + str(restaurant.number_served))\n",
    "\n",
    "restaurant.increment_number_served(239)\n",
    "print(\"Number served: \" + str(restaurant.number_served))\n",
    "\n",
    "big_one = IceCreamStand('The Big One')\n",
    "big_one.flavors = ['vanilla', 'chocolate', 'black cherry']\n",
    "\n",
    "big_one.describe_restaurant()\n",
    "big_one.show_flavors()\n",
    "\n",
    "channel_club = Restaurant('the channel club', 'steak and seafood')\n",
    "channel_club.describe_restaurant()\n",
    "channel_club.open_restaurant()"
   ]
  },
  {
   "cell_type": "code",
   "execution_count": 7,
   "metadata": {},
   "outputs": [
    {
     "name": "stdout",
     "output_type": "stream",
     "text": [
      "10 rolls of a 6-sided die:\n[2, 3, 1, 5, 3, 1, 3, 5, 2, 1]\n\n10 rolls of a 10-sided die:\n[8, 4, 2, 2, 8, 10, 5, 4, 8, 7]\n\n10 rolls of a 20-sided die:\n[13, 3, 8, 16, 6, 4, 13, 4, 16, 13]\n"
     ]
    }
   ],
   "source": [
    "# Make a 6-sided die, and show the results of 10 rolls.\n",
    "from die import Die\n",
    "d6 = Die()\n",
    "\n",
    "results = []\n",
    "for roll_num in range(10):\n",
    "    result = d6.roll_die()\n",
    "    results.append(result)\n",
    "print(\"10 rolls of a 6-sided die:\")\n",
    "print(results)\n",
    "\n",
    "# Make a 10-sided die, and show the results of 10 rolls.\n",
    "d10 = Die(sides=10)\n",
    "\n",
    "results = []\n",
    "for roll_num in range(10):\n",
    "    result = d10.roll_die()\n",
    "    results.append(result)\n",
    "print(\"\\n10 rolls of a 10-sided die:\")\n",
    "print(results)\n",
    "\n",
    "# Make a 20-sided die, and show the results of 10 rolls.\n",
    "d20 = Die(sides=20)\n",
    "\n",
    "results = []\n",
    "for roll_num in range(10):\n",
    "    result = d20.roll_die()\n",
    "    results.append(result)\n",
    "print(\"\\n10 rolls of a 20-sided die:\")\n",
    "print(results)"
   ]
  },
  {
   "cell_type": "code",
   "execution_count": null,
   "metadata": {},
   "outputs": [],
   "source": []
  }
 ],
 "metadata": {
  "kernelspec": {
   "display_name": "Python 2",
   "language": "python",
   "name": "python2"
  },
  "language_info": {
   "codemirror_mode": {
    "name": "ipython",
    "version": 2
   },
   "file_extension": ".py",
   "mimetype": "text/x-python",
   "name": "python",
   "nbconvert_exporter": "python",
   "pygments_lexer": "ipython2",
   "version": "2.7.6"
  }
 },
 "nbformat": 4,
 "nbformat_minor": 0
}
