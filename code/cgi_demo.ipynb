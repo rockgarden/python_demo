{
 "cells": [
  {
   "cell_type": "markdown",
   "metadata": {
    "collapsed": true
   },
   "source": [
    "# CGI\n",
    "- CGI 目前由NCSA维护，NCSA定义CGI如下：\n",
    "- CGI(Common Gateway Interface),通用网关接口,它是一段程序,运行在服务器上。\n",
    "- 如：HTTP服务器，提供同客户端HTML页面的接口。\n",
    "- 为了更好的了解CGI是如何工作的，我们可以从在网页上点击一个链接或URL的流程：\n",
    "- 1、使用你的浏览器访问URL并连接到HTTP web 服务器。\n",
    "- 2、Web服务器接收到请求信息后会解析URL，并查找访问的文件在服务器上是否存在，如果存在返回文件的内容，否则返回错误信息。\n",
    "- 3、浏览器从服务器上接收信息，并显示接收的文件或者错误信息。\n",
    "- CGI程序可以是Python脚本，PERL脚本，SHELL脚本，C或者C++程序等。"
   ]
  },
  {
   "cell_type": "markdown",
   "metadata": {},
   "source": [
    "# Web服务器支持及配置\n",
    "- 在你进行CGI编程前，确保您的Web服务器支持CGI及已经配置了CGI的处理程序。\n",
    "- Apache 支持CGI 配置：\n",
    "- 设置好CGI目录：\n",
    "- ScriptAlias /cgi-bin/ /var/www/cgi-bin/\n",
    "- 所有的HTTP服务器执行CGI程序都保存在一个预先配置的目录。这个目录被称为CGI目录，并按照惯例，它被命名为/var/www/cgi-bin目录。\n",
    "- CGI文件的扩展名为.cgi，python也可以使用.py扩展名。\n",
    "- 默认情况下，Linux服务器配置运行的cgi-bin目录中为/var/www。\n",
    "- 如果你想指定其他运行CGI脚本的目录，可以修改httpd.conf配置文件，如下所示：\n",
    "- <Directory \"/var/www/cgi-bin\">\n",
    "-    AllowOverride None\n",
    "-    Options +ExecCGI\n",
    "-    Order allow,deny\n",
    "-    Allow from all\n",
    "- </Directory>\n",
    "- 在 AddHandler 中添加 .py 后缀，这样我们就可以访问 .py 结尾的 python 脚本文件：\n",
    "- AddHandler cgi-script .cgi .pl .py"
   ]
  },
  {
   "cell_type": "markdown",
   "metadata": {},
   "source": [
    "# CGI环境变量\n",
    "# 所有的CGI程序都接收以下的环境变量，这些变量在CGI程序中发挥了重要的作用：\n",
    "# 变量名\t描述\n",
    "# CONTENT_TYPE\t这个环境变量的值指示所传递来的信息的MIME类型。目前，环境变量CONTENT_TYPE一般都是：application/x-www-form-urlencoded,他表示数据来自于HTML表单。\n",
    "# CONTENT_LENGTH\t如果服务器与CGI程序信息的传递方式是POST，这个环境变量即使从标准输入STDIN中可以读到的有效数据的字节数。这个环境变量在读取所输入的数据时必须使用。\n",
    "# HTTP_COOKIE\t客户机内的 COOKIE 内容。\n",
    "# HTTP_USER_AGENT\t提供包含了版本数或其他专有数据的客户浏览器信息。\n",
    "# PATH_INFO\t这个环境变量的值表示紧接在CGI程序名之后的其他路径信息。它常常作为CGI程序的参数出现。\n",
    "# QUERY_STRING\t如果服务器与CGI程序信息的传递方式是GET，这个环境变量的值即使所传递的信息。这个信息经跟在CGI程序名的后面，两者中间用一个问号'?'分隔。\n",
    "# REMOTE_ADDR\t这个环境变量的值是发送请求的客户机的IP地址，例如上面的192.168.1.67。这个值总是存在的。而且它是Web客户机需要提供给Web服务器的唯一标识，可以在CGI程序中用它来区分不同的Web客户机。\n",
    "# REMOTE_HOST\t这个环境变量的值包含发送CGI请求的客户机的主机名。如果不支持你想查询，则无需定义此环境变量。\n",
    "# REQUEST_METHOD\t提供脚本被调用的方法。对于使用 HTTP/1.0 协议的脚本，仅 GET 和 POST 有意义。\n",
    "# SCRIPT_FILENAME\tCGI脚本的完整路径\n",
    "# SCRIPT_NAME\tCGI脚本的的名称\n",
    "# SERVER_NAME\t这是你的 WEB 服务器的主机名、别名或IP地址。\n",
    "# SERVER_SOFTWARE\t这个环境变量的值包含了调用CGI程序的HTTP服务器的名称和版本号。例如，上面的值为Apache/2.2.14(Unix)"
   ]
  },
  {
   "cell_type": "code",
   "execution_count": 1,
   "metadata": {},
   "outputs": [
    {
     "name": "stdout",
     "output_type": "stream",
     "text": [
      "Content-type: text/html\n\n<meta charset=\"utf-8\">\n<b>环境变量</b><br>\n<ul>\n<li><span style='color:green'>                          PATH </span> : /Library/Frameworks/Python.framework/Versions/3.6/bin:/usr/local/bin:/usr/bin:/bin:/usr/sbin:/sbin:/Users/wangkan/.rvm/bin </li>\n<li><span style='color:green'>                  _system_arch </span> : x86_64 </li>\n<li><span style='color:green'>                  rvm_bin_path </span> : /Users/wangkan/.rvm/bin </li>\n<li><span style='color:green'>                    rvm_prefix </span> : /Users/wangkan </li>\n<li><span style='color:green'>               rvm_loaded_flag </span> : 1 </li>\n<li><span style='color:green'>      VERSIONER_PYTHON_VERSION </span> : 2.7 </li>\n<li><span style='color:green'>                       LOGNAME </span> : wangkan </li>\n<li><span style='color:green'>                   rvm_version </span> : 1.29.3 (latest) </li>\n<li><span style='color:green'>              XPC_SERVICE_NAME </span> : com.jetbrains.pycharm.12448 </li>\n<li><span style='color:green'>                           PWD </span> : /Users/wangkan/PycharmProjects/python_demo </li>\n<li><span style='color:green'>                PYCHARM_HOSTED </span> : 1 </li>\n<li><span style='color:green'>                    PYTHONPATH </span> : /Users/wangkan/PycharmProjects/python_demo:/Users/wangkan/PycharmProjects/python_demo/code/modules:/Users/wangkan/PycharmProjects/python_demo/game/modules:/Users/wangkan/PycharmProjects/python_demo/matplotlib/modules </li>\n<li><span style='color:green'>         rvm_user_install_flag </span> : 1 </li>\n<li><span style='color:green'>                         SHELL </span> : /bin/bash </li>\n<li><span style='color:green'>                  _system_type </span> : Darwin </li>\n<li><span style='color:green'>              PYTHONIOENCODING </span> : UTF-8 </li>\n<li><span style='color:green'>               _system_version </span> : 10.13 </li>\n<li><span style='color:green'>VERSIONER_PYTHON_PREFER_32_BIT </span> : no </li>\n<li><span style='color:green'>                          USER </span> : wangkan </li>\n<li><span style='color:green'>                      rvm_path </span> : /Users/wangkan/.rvm </li>\n<li><span style='color:green'>                        TMPDIR </span> : /var/folders/fh/bvtsh1jx5vgd1289jst7c_j00000gn/T/ </li>\n<li><span style='color:green'>              rvm_stored_umask </span> : 0022 </li>\n<li><span style='color:green'>                 SSH_AUTH_SOCK </span> : /private/tmp/com.apple.launchd.SQsC1QEOVm/Listeners </li>\n<li><span style='color:green'>                     XPC_FLAGS </span> : 0x0 </li>\n<li><span style='color:green'>              PYTHONUNBUFFERED </span> : 1 </li>\n<li><span style='color:green'>                  _system_name </span> : OSX </li>\n<li><span style='color:green'>       __CF_USER_TEXT_ENCODING </span> : 0x1F5:0x19:0x34 </li>\n<li><span style='color:green'>    Apple_PubSub_Socket_Render </span> : /private/tmp/com.apple.launchd.OJkelCMehd/Render </li>\n<li><span style='color:green'>                      LC_CTYPE </span> : zh_CN.UTF-8 </li>\n<li><span style='color:green'>                          HOME </span> : /Users/wangkan </li>\n<li><span style='color:green'>           __PYVENV_LAUNCHER__ </span> : /usr/local/bin/python3.6 </li>\n<li><span style='color:green'>                JPY_PARENT_PID </span> : 6728 </li>\n<li><span style='color:green'>                          TERM </span> : xterm-color </li>\n<li><span style='color:green'>                      CLICOLOR </span> : 1 </li>\n<li><span style='color:green'>                         PAGER </span> : cat </li>\n<li><span style='color:green'>                     GIT_PAGER </span> : cat </li>\n<li><span style='color:green'>                    MPLBACKEND </span> : module://ipykernel.pylab.backend_inline </li>\n</ul>\n"
     ]
    }
   ],
   "source": [
    "import os\n",
    "\n",
    "print (\"Content-type: text/html\")\n",
    "print ()\n",
    "print (\"<meta charset=\\\"utf-8\\\">\")\n",
    "print (\"<b>环境变量</b><br>\")\n",
    "print (\"<ul>\")\n",
    "for key in os.environ.keys():\n",
    "    print (\"<li><span style='color:green'>%30s </span> : %s </li>\" % (key,os.environ[key]))\n",
    "print (\"</ul>\")"
   ]
  },
  {
   "cell_type": "markdown",
   "metadata": {},
   "source": [
    "# GET和POST方法\n",
    "# 浏览器客户端通过两种方法向服务器传递信息，这两种方法就是 GET 方法和 POST 方法。\n",
    "# 使用GET方法传输数据\n",
    "# GET方法发送编码后的用户信息到服务端，数据信息包含在请求页面的URL上，以\"?\"号分割, 如下所示：\n",
    "# http://www.test.com/cgi-bin/hello.py?key1=value1&key2=value2 有关 GET 请求的其他一些注释：\n",
    "# GET 请求可被缓存\n",
    "# GET 请求保留在浏览器历史记录中\n",
    "# GET 请求可被收藏为书签\n",
    "# GET 请求不应在处理敏感数据时使用\n",
    "# GET 请求有长度限制\n",
    "# GET 请求只应当用于取回数据\n",
    "# 简单的url实例：GET方法\n",
    "# 以下是一个简单的URL，使用GET方法向hello_get.py程序发送两个参数：\n",
    "# /cgi-bin/pizza.py?name=菜鸟教程&url=http://www.runoob.com"
   ]
  }
 ],
 "metadata": {
  "kernelspec": {
   "display_name": "Python 2",
   "language": "python",
   "name": "python2"
  },
  "language_info": {
   "codemirror_mode": {
    "name": "ipython",
    "version": 2
   },
   "file_extension": ".py",
   "mimetype": "text/x-python",
   "name": "python",
   "nbconvert_exporter": "python",
   "pygments_lexer": "ipython2",
   "version": "2.7.6"
  }
 },
 "nbformat": 4,
 "nbformat_minor": 0
}
