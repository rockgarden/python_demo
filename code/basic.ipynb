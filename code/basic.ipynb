{
 "cells": [
  {
   "cell_type": "markdown",
   "metadata": {},
   "source": [
    "# 基础语法"
   ]
  },
  {
   "cell_type": "code",
   "execution_count": null,
   "metadata": {},
   "outputs": [],
   "source": [
    "# 编码\n",
    "# 源码文件以 UTF - 8, 编码，所有字符串都是 unicode 字符串。 当然你也可以为源码文件指定不同的编码：\n",
    "# -*- coding: cp-1252 -*-"
   ]
  },
  {
   "cell_type": "code",
   "execution_count": null,
   "metadata": {},
   "outputs": [],
   "source": [
    "# 标识符\n",
    "# 第一个字符必须是字母表中字母或下划线 '_'。\n",
    "# 标识符的其他的部分有字母、数字和下划线组成。\n",
    "# 标识符对大小写敏感。\n",
    "# 在Python 3 中，非 - ASCII 标识符也是允许的了。"
   ]
  },
  {
   "cell_type": "markdown",
   "metadata": {},
   "source": [
    ""
   ]
  },
  {
   "cell_type": "code",
   "execution_count": null,
   "metadata": {},
   "outputs": [],
   "source": [
    "# 保留字\n",
    "# 即关键字，不能把它们用作任何标识符名称。\n",
    "# 标准库提供了一个 keyword 模块，可以输出当前版本的所有关键字。\n",
    "import keyword\n",
    "keyword.kwlist"
   ]
  },
  {
   "cell_type": "code",
   "execution_count": 6,
   "metadata": {},
   "outputs": [
    {
     "name": "stdout",
     "output_type": "stream",
     "text": [
      "True\n"
     ]
    }
   ],
   "source": [
    "# 行与缩进\n",
    "# python 使用缩进来表示代码块，不需要使用大括号({})。\n",
    "# 缩进的空格数是可变的，但是同一个代码块的语句必须包含相同的缩进空格数。\n",
    "# 代码最后一行语句缩进数的空格数不一致，会导致运行错误.\n",
    "if True:\n",
    "    print(\"True\")\n",
    "else:\n",
    "    print(\"False\")"
   ]
  },
  {
   "cell_type": "code",
   "execution_count": 7,
   "metadata": {},
   "outputs": [
    {
     "name": "stdout",
     "output_type": "stream",
     "text": [
      "item_oneitem_twoitem_three\n['item_one', 'item_two', 'item_three', 'item_four', 'item_five']\n"
     ]
    }
   ],
   "source": [
    "# 多行语句\n",
    "# 通常是一行写完一条语句，但如果语句很长，我们可以使用反斜杠(\\)来实现多行语句，例如：\n",
    "total = \"item_one\" + \\\n",
    "        \"item_two\" + \\\n",
    "        \"item_three\"\n",
    "print(total)\n",
    "# 在[], {}, 或() 中的多行语句，不需要使用反斜杠(\\)：\n",
    "total = ['item_one', 'item_two', 'item_three',\n",
    "         'item_four', 'item_five']\n",
    "print(total)"
   ]
  },
  {
   "cell_type": "markdown",
   "metadata": {},
   "source": [
    "## 声明变量\n",
    "- Python 中的变量不需要声明类型，变量的类型由赋予它的值来动态决定。\n",
    "- 每个变量在使用前都必须赋值，变量赋值以后该变量才会被创建。\n",
    "- 在 Python 中，变量就是变量，它没有类型，我们所说的\"类型\"是变量所指的内存中对象的类型。\n",
    "- 等号（=）用来给变量赋值；等号运算符左边是一个变量名,等号运算符右边是存储在变量中的值。"
   ]
  },
  {
   "cell_type": "code",
   "execution_count": 2,
   "metadata": {},
   "outputs": [
    {
     "name": "stdout",
     "output_type": "stream",
     "text": [
      "python\n100 1000.0 moon\n"
     ]
    }
   ],
   "source": [
    "a = 1\n",
    "a = 1.001\n",
    "a = \"python\"\n",
    "print(a)\n",
    "\n",
    "counter = 100  # 整型变量\n",
    "miles = 1000.0  # 浮点型变量\n",
    "name = \"moon\"  # 字符串\n",
    "\n",
    "print(counter, miles, name)"
   ]
  },
  {
   "cell_type": "code",
   "execution_count": 3,
   "metadata": {},
   "outputs": [],
   "source": [
    "# 多个变量赋值\n",
    "# Python允许你同时为多个变量赋值。\n",
    "a = b = c = 1\n",
    "# 以上实例，创建一个整型对象，值为1，三个变量被分配到相同的内存空间上。\n",
    "# 可以为多个对象指定多个变量。\n",
    "a, b, c = 1, 2, \"cat\""
   ]
  },
  {
   "cell_type": "markdown",
   "metadata": {},
   "source": [
    "## 数字类型及操作"
   ]
  },
  {
   "cell_type": "markdown",
   "metadata": {},
   "source": [
    "### 整数类型\n",
    "与数学中整数的概念一致-可正可负，没有取值范围限制.\n",
    "\n",
    "进制表示形式：\n",
    "- 十进制：1010, 99, -217\n",
    "- 二进制，以0b或0B开头：0b010, -0B101\n",
    "- 八进制，以0o或0O开头：0o123, -0O456\n",
    "- 十六进制，以0x或0X开头：0x9a, -0X89"
   ]
  },
  {
   "cell_type": "code",
   "execution_count": 5,
   "metadata": {},
   "outputs": [
    {
     "data": {
      "text/plain": [
       "179769313486231590772930519078902473361797697894230657273430081157732675805500963132708477322407536021120113879871393357658789768814416622492847430639474124377767893424865485276302219601246094119453082952085005768838150682342462881473913110540827237163350510684586298239947245938479716304835356329624224137216"
      ]
     },
     "execution_count": 5,
     "metadata": {},
     "output_type": "execute_result"
    }
   ],
   "source": [
    "pow(2, pow(2, 10))  # 计算2的2的15次幂"
   ]
  },
  {
   "cell_type": "markdown",
   "metadata": {},
   "source": [
    "### 浮点数类型\n",
    "与数学中实数的概念一致\n",
    "- 带有小数点及小数的数字\n",
    "- 浮点数取值范围和小数精度都存在限制，但常规计算可忽略\n",
    "- 取值范围数量级约-10的308幂至10的308幂，精度数量级10的-16幂"
   ]
  },
  {
   "cell_type": "code",
   "execution_count": 6,
   "metadata": {},
   "outputs": [
    {
     "name": "stdout",
     "output_type": "stream",
     "text": [
      "False\nTrue\n"
     ]
    }
   ],
   "source": [
    "# 浮点数间运算存在不确定尾数；所以浮点数间运算及比较用round()函数辅助。\n",
    "print(0.1 + 0.2 == 0.3)\n",
    "print(round(0.1+0.2, 1) == 0.3)"
   ]
  },
  {
   "cell_type": "code",
   "execution_count": 7,
   "metadata": {},
   "outputs": [
    {
     "data": {
      "text/plain": [
       "960000.0"
      ]
     },
     "execution_count": 7,
     "metadata": {},
     "output_type": "execute_result"
    }
   ],
   "source": [
    "# 浮点数可以采用科学计数法表示-使用字母e或E作为幂的符号，以10为基数，格式：<a>e<b> \n",
    "4.3e-3\n",
    "9.6E5"
   ]
  },
  {
   "cell_type": "markdown",
   "metadata": {},
   "source": [
    "### 复数类型\n",
    "与数学中复数的概念一致"
   ]
  },
  {
   "cell_type": "code",
   "execution_count": 9,
   "metadata": {},
   "outputs": [
    {
     "data": {
      "text/plain": [
       "5.6e+89"
      ]
     },
     "execution_count": 9,
     "metadata": {},
     "output_type": "execute_result"
    }
   ],
   "source": [
    "z = 1.23e-4 + 5.6e+89j\n",
    "z.real  # 实部\n",
    "z.imag  # 虚部"
   ]
  },
  {
   "cell_type": "markdown",
   "metadata": {},
   "source": [
    "## 运算操作符\n",
    "- x+y加，x与y之和\n",
    "- x–y减，x与y之差\n",
    "- x*y乘，x与y之积\n",
    "- x/y除，x与y之商10/3结果是3.3333333333333335\n",
    "- x//y整数除，x与y之整数商10//3结果是3\n",
    "- +x x本身\n",
    "- -x x的负值x\n",
    "- x%y余数，模运算10%3结果是1\n",
    "- x**y幂运算，x的y次幂，xy当y是小数时，开方运算\n",
    "\n",
    "增强赋值操作符\n",
    "- x op= y 即 x = x op y，其中，op为二元操作符\n",
    "- x +=y    x -=y     x *=y   x /=y  x //=y    x %=y    x **=y"
   ]
  },
  {
   "cell_type": "code",
   "execution_count": 12,
   "metadata": {},
   "outputs": [
    {
     "name": "stdout",
     "output_type": "stream",
     "text": [
      "31.003533398375005\n"
     ]
    }
   ],
   "source": [
    "x = 3.1415\n",
    "x **= 3\n",
    "print(x)"
   ]
  },
  {
   "cell_type": "markdown",
   "metadata": {},
   "source": [
    "### 混合运算\n",
    "类型间可进行混合运算，生成结果为\"最宽\"类型-三种类型存在一种逐渐\"扩展\"或\"变宽\"的关系：整数->浮点数->复数"
   ]
  },
  {
   "cell_type": "code",
   "execution_count": 15,
   "metadata": {},
   "outputs": [
    {
     "data": {
      "text/plain": [
       "127.0"
      ]
     },
     "execution_count": 15,
     "metadata": {},
     "output_type": "execute_result"
    }
   ],
   "source": [
    "123 + 4.0 # 整数+浮点数=浮点数\n"
   ]
  },
  {
   "cell_type": "markdown",
   "metadata": {},
   "source": [
    "## 数值运算函数\n",
    "- abs(x)绝对值，x的绝对值\n",
    "- divmod(x,y)商余，(x//y, x%y)，同时输出商和余数\n",
    "- pow(x, y[, z])幂余，(x**y)%z，[..]表示参数z可省略\n",
    "- round(x[,d]) 四舍五入，d是保留小数位数，默认值为0\n",
    "- max(x1,x2, ... ,xn)最大值，返回x1,x2, ... ,xn中的最大值，n不限\n",
    "- min(x1,x2, ... ,xn)最小值，返回x1,x2, ... ,xn中的最小值，n不限\n",
    "- int(x)将x变成整数，舍弃小数部分\n",
    "- float(x)将x变成浮点数，增加小数部分\n",
    "- complex(x)将x变成复数，增加虚数部分"
   ]
  },
  {
   "cell_type": "code",
   "execution_count": 18,
   "metadata": {},
   "outputs": [
    {
     "name": "stdout",
     "output_type": "stream",
     "text": [
      "-10.12\n9\n123\n12.0\n(4+0j)\n"
     ]
    }
   ],
   "source": [
    "abs(-10.01)\n",
    "divmod(10, 3)\n",
    "pow(3, pow(3, 99), 10000)  # 显示后四位\n",
    "print(round(-10.123, 2))\n",
    "print(max(1, 9, 5, 4, 3))\n",
    "print(int(123.45))\n",
    "print(float(12))\n",
    "print(complex(4))"
   ]
  },
  {
   "cell_type": "markdown",
   "metadata": {},
   "source": [
    "## Exercise"
   ]
  },
  {
   "cell_type": "code",
   "execution_count": 23,
   "metadata": {},
   "outputs": [
    {
     "name": "stdout",
     "output_type": "stream",
     "text": [
      "向上：1.44，向下：0.69\n向上：37.78，向下：0.03\n"
     ]
    }
   ],
   "source": [
    "dayup = pow(1.001, 365)\n",
    "daydown = pow(0.999, 365)\n",
    "print(\"向上：{:.2f}，向下：{:.2f}\".format(dayup, daydown))\n",
    "\n",
    "dayfactor = 0.01\n",
    "dayup = pow(1 + dayfactor, 365)\n",
    "daydown = pow(1 - dayfactor, 365)\n",
    "print(\"向上：{:.2f}，向下：{:.2f}\".format(dayup, daydown))\n"
   ]
  },
  {
   "cell_type": "code",
   "execution_count": 22,
   "metadata": {},
   "outputs": [
    {
     "name": "stdout",
     "output_type": "stream",
     "text": [
      "工作日的力量：4.63 \n"
     ]
    }
   ],
   "source": [
    "dayup = 1.0\n",
    "dayfactor = 0.01\n",
    "for i in range(365):\n",
    "    if i % 7 in [6, 0]:\n",
    "        dayup = dayup * (1 - dayfactor)\n",
    "    else:\n",
    "        dayup = dayup * (1 + dayfactor)\n",
    "print(\"工作日的力量：{:.2f} \".format(dayup))"
   ]
  },
  {
   "cell_type": "code",
   "execution_count": 24,
   "metadata": {},
   "outputs": [
    {
     "name": "stdout",
     "output_type": "stream",
     "text": [
      "工作日的努力参数是：0.019 \n"
     ]
    }
   ],
   "source": [
    "def dayUP(df):\n",
    "    dayup = 1\n",
    "    for i in range(365):\n",
    "        if i % 7 in [6, 0]:\n",
    "            dayup = dayup * (1 - 0.01)\n",
    "        else:\n",
    "            dayup = dayup * (1 + df)\n",
    "    return dayup\n",
    "dayfactor = 0.01\n",
    "while dayUP(dayfactor) < 37.78:\n",
    "    dayfactor += 0.001\n",
    "print(\"工作日的努力参数是：{:.3f} \".format(dayfactor))\n"
   ]
  },
  {
   "cell_type": "code",
   "execution_count": null,
   "metadata": {},
   "outputs": [],
   "source": []
  }
 ],
 "metadata": {
  "kernelspec": {
   "display_name": "Python 3",
   "language": "python",
   "name": "python3"
  },
  "language_info": {
   "codemirror_mode": {
    "name": "ipython",
    "version": 3
   },
   "file_extension": ".py",
   "mimetype": "text/x-python",
   "name": "python",
   "nbconvert_exporter": "python",
   "pygments_lexer": "ipython3",
   "version": "3.6.2"
  }
 },
 "nbformat": 4,
 "nbformat_minor": 2
}
