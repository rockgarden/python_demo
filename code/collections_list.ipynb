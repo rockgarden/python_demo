{
 "cells": [
  {
   "cell_type": "markdown",
   "metadata": {
    "collapsed": true
   },
   "source": [
    "# 列表 list\n",
    "- Python中列表是可变的，这是它区别于字符串和元组的最重要的特点，一句话概括即：列表可以修改，而字符串和元组不能。\n",
    "\n",
    "### 主要方法+描述\n",
    "- list.append(x)\t把一个元素添加到列表的结尾，相当于 a[len(a):] = [x]。\n",
    "- list.extend(L)\t通过添加指定列表的所有元素来扩充列表，相当于 a[len(a):] = L。\n",
    "- list.insert(i, x)\t在指定位置插入一个元素。第一个参数是准备插入到其前面的那个元素的索引，例如 a.insert(0, x)会插入到整个列表之前，而 a.insert(len(a), x) 相当于 a.append(x) 。\n",
    "- list.remove(x)\t删除列表中值为 x 的第一个元素。如果没有这样的元素，就会返回一个错误。\n",
    "- list.pop([i])\t从列表的指定位置删除元素，并将其返回。如果没有指定索引，a.pop()返回最后一个元素。元素随即从列表中被删除。（方法中 i 两边的方括号表示这个参数是可选的，而不是要求你输入一对方括号，\n",
    "- list.clear()\t移除列表中的所有项，等于del a[:]。\n",
    "- list.index(x)\t返回列表中第一个值为 x 的元素的索引。如果没有匹配的元素就会返回一个错误。\n",
    "- list.count(x)\t返回 x 在列表中出现的次数。\n",
    "- list.sort()\t对列表中的元素进行排序。\n",
    "- list.reverse()\t倒排列表中的元素。\n",
    "- list.copy()\t返回列表的浅复制，等于a[:]。注意：类似 insert, remove 或 sort 等修改列表的方法没有返回值。"
   ]
  },
  {
   "cell_type": "code",
   "execution_count": 9,
   "metadata": {},
   "outputs": [
    {
     "name": "stdout",
     "output_type": "stream",
     "text": [
      "My first bicycle was a Trek.\ntre\n['trek', 'cannondale', 'redline']\n"
     ]
    }
   ],
   "source": [
    "bicycles = ['trek', 'cannondale', 'redline', 'specialized']\n",
    "message = \"My first bicycle was a \" + bicycles[0].title() + \".\"\n",
    "print(message)\n",
    "print(bicycles[0][:-1])  # - 去除末尾元素\n",
    "print(bicycles[:-1])  # 输出末尾元素, 安全的取法"
   ]
  },
  {
   "cell_type": "code",
   "execution_count": null,
   "metadata": {},
   "outputs": [],
   "source": [
    "banned_users = ['andrew', 'carolina', 'david']\n",
    "user = 'marie'\n",
    "\n",
    "if user not in banned_users:\n",
    "    print(user.title() + \", you can post a response if you wish.\")"
   ]
  },
  {
   "cell_type": "code",
   "execution_count": 5,
   "metadata": {},
   "outputs": [
    {
     "name": "stdout",
     "output_type": "stream",
     "text": [
      "[[1, 5, 9], [2, 6, 10], [3, 7, 11], [4, 8, 12]]\n[1, 2, 3]\n[[1, 5, 9], [2, 6, 10], [3, 7, 11], [4, 8, 12]]\n[[1, 5, 9], [2, 6, 10], [3, 7, 11], [4, 8, 12]]\n"
     ]
    }
   ],
   "source": [
    "# 嵌套列表解析\n",
    "# Python的列表还可以嵌套。\n",
    "matrix = [\n",
    "    [1, 2, 3, 4],\n",
    "    [5, 6, 7, 8],\n",
    "    [9, 10, 11, 12],\n",
    "]\n",
    "print([[row[i] for row in matrix] for i in range(4)])\n",
    "print(matrix[0][0:3])\n",
    "\n",
    "transposed = []\n",
    "for i in range(4):\n",
    "    transposed.append([row[i] for row in matrix])\n",
    "print(transposed)\n",
    "\n",
    "transposed = []\n",
    "for i in range(4):\n",
    "    # the following 3 lines implement the nested listcomp\n",
    "    transposed_row = []\n",
    "    for row in matrix:\n",
    "        transposed_row.append(row[i])\n",
    "    transposed.append(transposed_row)\n",
    "print(transposed)\n"
   ]
  },
  {
   "cell_type": "code",
   "execution_count": null,
   "metadata": {},
   "outputs": [],
   "source": []
  }
 ],
 "metadata": {
  "kernelspec": {
   "display_name": "Python 2",
   "language": "python",
   "name": "python2"
  },
  "language_info": {
   "codemirror_mode": {
    "name": "ipython",
    "version": 2
   },
   "file_extension": ".py",
   "mimetype": "text/x-python",
   "name": "python",
   "nbconvert_exporter": "python",
   "pygments_lexer": "ipython2",
   "version": "2.7.6"
  }
 },
 "nbformat": 4,
 "nbformat_minor": 0
}
