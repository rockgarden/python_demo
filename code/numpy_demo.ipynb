{
 "cells": [
  {
   "cell_type": "code",
   "execution_count": 1,
   "metadata": {
    "collapsed": true
   },
   "outputs": [
    {
     "name": "stdout",
     "output_type": "stream",
     "text": [
      "[125 217 347 521 745]\n"
     ]
    }
   ],
   "source": [
    "import numpy as np\n",
    "\n",
    "def np_sum():\n",
    "    a = np.array([0, 1, 2, 3, 4])\n",
    "    b = np.array([5, 6, 7, 8, 9])\n",
    "\n",
    "    c = a ** 2 + b ** 3\n",
    "    return c\n",
    "\n",
    "print(np_sum())\n"
   ]
  },
  {
   "cell_type": "code",
   "execution_count": null,
   "metadata": {},
   "outputs": [],
   "source": []
  }
 ],
 "metadata": {
  "kernelspec": {
   "display_name": "Python 2",
   "language": "python",
   "name": "python2"
  },
  "language_info": {
   "codemirror_mode": {
    "name": "ipython",
    "version": 2
   },
   "file_extension": ".py",
   "mimetype": "text/x-python",
   "name": "python",
   "nbconvert_exporter": "python",
   "pygments_lexer": "ipython2",
   "version": "2.7.6"
  }
 },
 "nbformat": 4,
 "nbformat_minor": 0
}
