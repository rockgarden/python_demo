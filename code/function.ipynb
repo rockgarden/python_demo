{
 "cells": [
  {
   "cell_type": "markdown",
   "metadata": {
    "collapsed": true
   },
   "source": [
    "# 函数\n",
    "- 函数代码块以 def 关键词开头，后接函数标识符名称和圆括号 ()。\n",
    "- 任何传入参数和自变量必须放在圆括号中间，圆括号之间可以用于定义参数。\n",
    "- 默认情况下，参数值和参数名称是按函数声明中定义的的顺序匹配起来的。\n",
    "- 函数的第一行语句可以选择性地使用文档字符串—用于存放函数说明。\n",
    "- 函数内容以冒号起始，并且缩进。\n",
    "- return [表达式] 结束函数，选择性地返回一个值给调用方。不带表达式的return相当于返回 None。"
   ]
  },
  {
   "cell_type": "code",
   "execution_count": 8,
   "metadata": {},
   "outputs": [
    {
     "data": {
      "text/plain": [
       "6"
      ]
     },
     "execution_count": 8,
     "metadata": {},
     "output_type": "execute_result"
    }
   ],
   "source": [
    "# 阶乘\n",
    "def fact(n):\n",
    "    s = 1\n",
    "    for i in range(1, n+1):\n",
    "        s *= i\n",
    "    return s\n",
    "    \n",
    "fact(3)"
   ]
  },
  {
   "cell_type": "code",
   "execution_count": 12,
   "metadata": {},
   "outputs": [
    {
     "name": "stdout",
     "output_type": "stream",
     "text": [
      "width = 4  height = 5  area = 20\n"
     ]
    }
   ],
   "source": [
    "# 计算面积函数\n",
    "def area(width, height):\n",
    "    return width * height\n",
    "w = 4\n",
    "h = 5\n",
    "print(\"width =\", w, \" height =\", h, \" area =\", area(w, h))"
   ]
  },
  {
   "cell_type": "code",
   "execution_count": 13,
   "metadata": {},
   "outputs": [
    {
     "name": "stdout",
     "output_type": "stream",
     "text": [
      "Hello, Jesse!\n"
     ]
    }
   ],
   "source": [
    "def greet_user(username):\n",
    "    \"\"\"Display a simple greeting.\"\"\"\n",
    "    print(\"Hello, \" + username.title() + \"!\")\n",
    "greet_user('jesse')"
   ]
  },
  {
   "cell_type": "markdown",
   "metadata": {},
   "source": [
    "## 参数\n",
    "以下是调用函数时可使用的正式参数类型：\n",
    "- 必需参数:必需参数须以正确的顺序传入函数。调用时的数量必须和声明时的一样。\n",
    "- 关键字参数\n",
    "- 默认参数\n",
    "- 不定长参数"
   ]
  },
  {
   "cell_type": "code",
   "execution_count": 9,
   "metadata": {},
   "outputs": [
    {
     "data": {
      "text/plain": [
       "725760"
      ]
     },
     "execution_count": 9,
     "metadata": {},
     "output_type": "execute_result"
    }
   ],
   "source": [
    "# 默认值让实参可选, 可选在必需参数后面\n",
    "def fact(n, m=1):\n",
    "    s = 1\n",
    "    for i in range(1, n + 1):\n",
    "        s *= i\n",
    "    return s // m\n",
    "\n",
    "fact(10, 5)"
   ]
  },
  {
   "cell_type": "code",
   "execution_count": 11,
   "metadata": {},
   "outputs": [
    {
     "name": "stdout",
     "output_type": "stream",
     "text": [
      "\nMaking a 16-inch pizza with the following toppings:\n- pepperoni\n\nMaking a 12-inch pizza with the following toppings:\n- mushrooms\n- green peppers\n- extra cheese\n"
     ]
    }
   ],
   "source": [
    "# 不定长参数-传递任意数量实参\n",
    "def make_pizza(size, *toppings):\n",
    "    \"\"\"Summarize the pizza we are about to make.\"\"\"\n",
    "    print(\"\\nMaking a \" + str(size) +\n",
    "          \"-inch pizza with the following toppings:\")\n",
    "    for topping in toppings:\n",
    "        print(\"- \" + topping)\n",
    "        \n",
    "make_pizza(16, 'pepperoni')\n",
    "make_pizza(12, 'mushrooms', 'green peppers', 'extra cheese')"
   ]
  },
  {
   "cell_type": "code",
   "execution_count": null,
   "metadata": {},
   "outputs": [],
   "source": [
    "# 任意数量的关键字实参\n",
    "def build_profile(first, last, **user_info):\n",
    "    \"\"\"Build a dictionary containing everything we know about a user.\"\"\"\n",
    "    profile = {}\n",
    "    profile['first_name'] = first\n",
    "    profile['last_name'] = last\n",
    "    for key, value in user_info.items():\n",
    "        profile[key] = value\n",
    "    return profile\n",
    "\n",
    "user_profile = build_profile('albert', 'einstein',\n",
    "                             location='princeton',\n",
    "                             field='physics')\n",
    "print(user_profile)"
   ]
  },
  {
   "cell_type": "code",
   "execution_count": 3,
   "metadata": {},
   "outputs": [
    {
     "name": "stdout",
     "output_type": "stream",
     "text": [
      "\nI have a dog.\nMy dog's name is Willie.\n\nI have a dog.\nMy dog's name is Willie.\n\nI have a hamster.\nMy hamster's name is Harry.\n\nI have a hamster.\nMy hamster's name is Harry.\n\nI have a hamster.\nMy hamster's name is Harry.\n"
     ]
    }
   ],
   "source": [
    "# 按名称传递参数\n",
    "def describe_pet(pet_name, animal_type='dog'):  # 默认值\n",
    "    \"\"\"Display information about a pet.\"\"\"\n",
    "    print(\"\\nI have a \" + animal_type + \".\")\n",
    "    print(\"My \" + animal_type + \"'s name is \" + pet_name.title() + \".\")\n",
    "\n",
    "# A dog named Willie.\n",
    "describe_pet('willie')\n",
    "describe_pet(pet_name='willie')\n",
    "\n",
    "# A hamster named Harry.\n",
    "describe_pet('harry', 'hamster')\n",
    "describe_pet(pet_name='harry', animal_type='hamster')  # 可忽略顺序\n",
    "describe_pet(animal_type='hamster', pet_name='harry')"
   ]
  },
  {
   "cell_type": "markdown",
   "metadata": {},
   "source": [
    "## 返回值\n",
    "- return [表达式] 语句用于退出函数，选择性地向调用方返回一个表达式。\n",
    "- 不带参数值的return语句返回None。"
   ]
  },
  {
   "cell_type": "code",
   "execution_count": 15,
   "metadata": {},
   "outputs": [
    {
     "name": "stdout",
     "output_type": "stream",
     "text": [
      "3628800 10 362880\n"
     ]
    }
   ],
   "source": [
    "# 多个返回值-元组\n",
    "def fact(n, m=1):\n",
    "    s = 1\n",
    "    for i in range(1, n + 1):\n",
    "        s *= i\n",
    "    return s, m, s // m\n",
    "\n",
    "fact(10, 10)\n",
    "s, m, r = fact(10, 10)\n",
    "print(s, m, r)"
   ]
  },
  {
   "cell_type": "code",
   "execution_count": 5,
   "metadata": {},
   "outputs": [
    {
     "name": "stdout",
     "output_type": "stream",
     "text": [
      "Jimi Hendrix\nJohn Lee Hooker\n"
     ]
    }
   ],
   "source": [
    "def get_formatted_name(first_name, last_name, middle_name=''):\n",
    "    \"\"\"Return a full name, neatly formatted.\"\"\"\n",
    "    if middle_name:\n",
    "        full_name = first_name + ' ' + middle_name + ' ' + last_name\n",
    "    else:\n",
    "        full_name = first_name + ' ' + last_name\n",
    "    return full_name.title()\n",
    "\n",
    "musician = get_formatted_name('jimi', 'hendrix')\n",
    "print(musician)\n",
    "\n",
    "musician = get_formatted_name('john', 'hooker', 'lee')\n",
    "print(musician)\n"
   ]
  },
  {
   "cell_type": "markdown",
   "metadata": {},
   "source": [
    "## 全局变量和局部变量\n",
    "- 定义在函数内部的变量拥有一个局部作用域，定义在函数外的拥有全局作用域。\n",
    "- 局部变量只能在其被声明的函数内部访问, 外部不能访问; 而全局变量可以在整个程序范围内访问。\n",
    "- 调用函数时，所有在函数内声明的变量名称都将被加入到作用域中。"
   ]
  },
  {
   "cell_type": "code",
   "execution_count": 17,
   "metadata": {},
   "outputs": [
    {
     "name": "stdout",
     "output_type": "stream",
     "text": [
      "函数内是局部变量 :  30\n函数外是全局变量 :  0\n"
     ]
    }
   ],
   "source": [
    "total = 0;  # 这是一个全局变量\n",
    "\n",
    "# 可写函数说明\n",
    "def sum(arg1, arg2):\n",
    "    # 返回2个参数的和.\"\n",
    "    total = arg1 + arg2;  # total在这里是局部变量.\n",
    "    print(\"函数内是局部变量 : \", total)\n",
    "    return total;\n",
    "\n",
    "\n",
    "# 调用sum函数\n",
    "sum(10, 20);\n",
    "print(\"函数外是全局变量 : \", total)"
   ]
  },
  {
   "cell_type": "code",
   "execution_count": null,
   "metadata": {},
   "outputs": [],
   "source": [
    "'''\n",
    "global 和 nonlocal关键字\n",
    "当内部作用域想修改外部作用域的变量时，就要用到global和nonlocal关键字了。\n",
    "'''\n",
    "num = 1\n",
    "\n",
    "def fun1():\n",
    "    global num  # 需要使用 global 关键字声明\n",
    "    print(num)\n",
    "    num = 123\n",
    "    print(num)\n",
    "\n",
    "fun1()\n",
    "'''\n",
    "如果要修改嵌套作用域（enclosing\n",
    "作用域，外层非全局作用域）中的变量则需要\n",
    "nonlocal 关键字了.\n",
    "'''\n",
    "\n",
    "def outer():\n",
    "    num = 10\n",
    "\n",
    "    def inner():\n",
    "        nonlocal num  # nonlocal关键字声明\n",
    "        num = 100\n",
    "        print(num)\n",
    "\n",
    "    inner()\n",
    "    print(num)\n",
    "\n",
    "\n",
    "outer()"
   ]
  },
  {
   "cell_type": "code",
   "execution_count": 21,
   "metadata": {},
   "outputs": [
    {
     "name": "stdout",
     "output_type": "stream",
     "text": [
      "['F', 'f', 'C']\n"
     ]
    }
   ],
   "source": [
    "# 局部变量为组合数据类型且未创建，默认为全局变量\n",
    "ls = [\"F\", \"f\"]\n",
    "def func(a):\n",
    "    ls.append(a)\n",
    "    return\n",
    "\n",
    "func(\"C\")\n",
    "print(ls)\n"
   ]
  },
  {
   "cell_type": "markdown",
   "metadata": {},
   "source": [
    "## 匿名函数\n",
    "python 使用 lambda 来创建匿名函数。\n",
    "\n",
    "所谓匿名，意即不再使用 def 语句这样标准的形式定义一个函数。\n",
    "- lambda 只是一个表达式，函数体比 def 简单很多。\n",
    "- lambda的主体是一个表达式，而不是一个代码块。仅仅能在lambda表达式中封装有限的逻辑进去。\n",
    "- lambda 函数拥有自己的命名空间，且不能访问自有参数列表之外或全局命名空间里的参数。\n",
    "- 虽然lambda函数看起来只能写一行，却不等同于C或C++的内联函数，后者的目的是调用小函数时不占用栈内存从而增加运行效率。\n",
    "\n",
    "语法\n",
    "- lambda 函数的语法只包含一个语句，如下：lambda [arg1 [,arg2,.....argn]]:expression"
   ]
  },
  {
   "cell_type": "code",
   "execution_count": 23,
   "metadata": {},
   "outputs": [
    {
     "name": "stdout",
     "output_type": "stream",
     "text": [
      "相加后的值为 :  30\n13\n9\n"
     ]
    }
   ],
   "source": [
    "sum_lambda = lambda arg1, arg2: arg1 + arg2\n",
    "\n",
    "# 调用sum函数\n",
    "print(\"相加后的值为 : \", sum_lambda(10, 20))\n",
    "\n",
    "# 匿名函数也是可以使用\"关键字参数\"进行参数传递\n",
    "g_lambda = lambda x, y: print(x ** 2 + y ** 2)\n",
    "g_lambda(y=3, x=2)\n",
    "\n",
    "# lambda 匿名函数也可以设定默认值\n",
    "g_lambda = lambda x=0, y=0: print(x ** 2 + y ** 2)\n",
    "g_lambda(y=3)\n",
    "\n",
    "# 注意：如果只打算给其中一部分参数设定默认值，那么应当将其放在靠后的位置，否则会报错(可选参数在后)。"
   ]
  },
  {
   "cell_type": "code",
   "execution_count": 16,
   "metadata": {},
   "outputs": [
    {
     "name": "stdout",
     "output_type": "stream",
     "text": [
      "{'first': 'jimi', 'last': 'hendrix', 'age': 27}\n{'first': 'wang', 'last': 'kan'}\n"
     ]
    }
   ],
   "source": [
    "def build_person(first_name, last_name, age=''):\n",
    "    \"\"\"Return a dictionary of information about a person.\"\"\"\n",
    "    person = {'first': first_name, 'last': last_name}\n",
    "    if age:\n",
    "        person['age'] = age\n",
    "    return person\n",
    "\n",
    "musician = build_person('jimi', 'hendrix', age=27)\n",
    "print(musician)\n",
    "writer = build_person('wang', 'kan')\n",
    "print(writer)"
   ]
  },
  {
   "cell_type": "code",
   "execution_count": 1,
   "metadata": {},
   "outputs": [
    {
     "name": "stdout",
     "output_type": "stream",
     "text": [
      "Hello, Hannah!\nHello, Ty!\nHello, Margot!\n"
     ]
    }
   ],
   "source": [
    "# 传递列表\n",
    "def greet_users(names):\n",
    "    \"\"\"Print a simple greeting to each user in the list.\"\"\"\n",
    "    for name in names:\n",
    "        msg = \"Hello, \" + name.title() + \"!\"\n",
    "        print(msg)\n",
    "\n",
    "user_names = ['hannah', 'ty', 'margot']\n",
    "greet_users(user_names)"
   ]
  },
  {
   "cell_type": "code",
   "execution_count": 15,
   "metadata": {},
   "outputs": [
    {
     "name": "stdout",
     "output_type": "stream",
     "text": [
      "Printing model: dodecahedron\nPrinting model: robot pendant\nPrinting model: iphone case\n\nThe following models have been printed:\ndodecahedron\nrobot pendant\niphone case\n\nThe following models have been printed:\n"
     ]
    }
   ],
   "source": [
    "def print_models(unprinted_designs, completed_models):\n",
    "    \"\"\"\n",
    "    Simulate printing each design, until there are none left.\n",
    "    Move each design to completed_models after printing.\n",
    "    \"\"\"\n",
    "    while unprinted_designs:\n",
    "        current_design = unprinted_designs.pop()\n",
    "    \n",
    "        # Simulate creating a 3d print from the design.\n",
    "        print(\"Printing model: \" + current_design)\n",
    "        completed_models.append(current_design)\n",
    "        \n",
    "def show_completed_models(completed_models):\n",
    "    \"\"\"Show all the models that were printed.\"\"\"\n",
    "    print(\"\\nThe following models have been printed:\")\n",
    "    for completed_model in completed_models:\n",
    "        print(completed_model)\n",
    "        \n",
    "        \n",
    "unprinted_designs = ['iphone case', 'robot pendant', 'dodecahedron']\n",
    "completed_models = []\n",
    "\n",
    "print_models(unprinted_designs, completed_models)\n",
    "show_completed_models(completed_models)"
   ]
  },
  {
   "cell_type": "code",
   "execution_count": 12,
   "metadata": {},
   "outputs": [
    {
     "name": "stdout",
     "output_type": "stream",
     "text": [
      "Printing model: dodecahedron\nPrinting model: robot pendant\nPrinting model: iphone case\n\nThe following models have been printed:\niphone case\nrobot pendant\ndodecahedron\n"
     ]
    }
   ],
   "source": [
    "# 传递列表副本[:]，避免修改原列表\n",
    "unprinted_designs = ['iphone case', 'robot pendant', 'dodecahedron']\n",
    "completed_models = []\n",
    "\n",
    "print_models(unprinted_designs[:], completed_models)\n",
    "show_completed_models(unprinted_designs)"
   ]
  },
  {
   "cell_type": "markdown",
   "metadata": {},
   "source": [
    "## Exercise"
   ]
  },
  {
   "cell_type": "code",
   "execution_count": 1,
   "metadata": {},
   "outputs": [
    {
     "name": "stdout",
     "output_type": "stream",
     "text": [
      "{'artist': 'Metallica', 'title': 'Ride The Lightning'}\n{'artist': 'Beethoven', 'title': 'Ninth Symphony'}\n{'artist': 'Willie Nelson', 'title': 'Red-Headed Stranger'}\n{'artist': 'Iron Maiden', 'title': 'Piece Of Mind', 'tracks': 8}\n"
     ]
    }
   ],
   "source": [
    "def make_album(artist, title, tracks=0):\n",
    "    \"\"\"Build a dictionary containing information about an album.\"\"\"\n",
    "    album_dict = {\n",
    "        'artist': artist.title(),\n",
    "        'title': title.title(),\n",
    "        }\n",
    "    if tracks:\n",
    "        album_dict['tracks'] = tracks\n",
    "    return album_dict\n",
    "\n",
    "album = make_album('metallica', 'ride the lightning')\n",
    "print(album)\n",
    "\n",
    "album = make_album('beethoven', 'ninth symphony')\n",
    "print(album)\n",
    "\n",
    "album = make_album('willie nelson', 'red-headed stranger')\n",
    "print(album)\n",
    "\n",
    "album = make_album('iron maiden', 'piece of mind', tracks=8)\n",
    "print(album)"
   ]
  },
  {
   "cell_type": "code",
   "execution_count": 3,
   "metadata": {},
   "outputs": [
    {
     "name": "stdout",
     "output_type": "stream",
     "text": [
      "Harry Houdini\nDavid Blaine\nTeller\n\n\nTeller the Great\nDavid Blaine the Great\nHarry Houdini the Great\n"
     ]
    }
   ],
   "source": [
    "# Great Magicians\n",
    "def show_magicians(magicians):\n",
    "    \"\"\"Print the name of each magician in the list.\"\"\"\n",
    "    for magician in magicians:\n",
    "        print(magician)\n",
    "\n",
    "def make_great(magicians):\n",
    "    \"\"\"Add 'the Great!' to each magician's name.\"\"\"\n",
    "    # Build a new list to hold the great musicians.\n",
    "    great_magicians = []\n",
    "\n",
    "    # Make each magician great, and add it to great_magicians.\n",
    "    while magicians:\n",
    "        magician = magicians.pop()\n",
    "        great_magician = magician + ' the Great'\n",
    "        great_magicians.append(great_magician)\n",
    "\n",
    "    # Add the great magicians back into magicians.\n",
    "    for great_magician in great_magicians:\n",
    "        magicians.append(great_magician)\n",
    "\n",
    "magicians = ['Harry Houdini', 'David Blaine', 'Teller']\n",
    "show_magicians(magicians)\n",
    "\n",
    "print(\"\\n\")\n",
    "make_great(magicians)\n",
    "show_magicians(magicians)"
   ]
  },
  {
   "cell_type": "code",
   "execution_count": 5,
   "metadata": {},
   "outputs": [
    {
     "name": "stdout",
     "output_type": "stream",
     "text": [
      "{'manufacturer': 'Subaru', 'model': 'Outback', 'color': 'blue', 'tow_package': True}\n{'manufacturer': 'Honda', 'model': 'Accord', 'year': 1991, 'color': 'white', 'headlights': 'popup'}\n"
     ]
    }
   ],
   "source": [
    "def make_car(manufacturer, model, **options):\n",
    "    \"\"\"Make a dictionary representing a car.\"\"\"\n",
    "    car_dict = {\n",
    "        'manufacturer': manufacturer.title(),\n",
    "        'model': model.title(),\n",
    "    }\n",
    "    for option, value in options.items():\n",
    "        car_dict[option] = value\n",
    "\n",
    "    return car_dict\n",
    "\n",
    "my_outback = make_car('subaru', 'outback', color='blue', tow_package=True)\n",
    "print(my_outback)\n",
    "\n",
    "my_accord = make_car('honda', 'accord', year=1991, color='white',\n",
    "                     headlights='popup')\n",
    "print(my_accord)\n"
   ]
  },
  {
   "cell_type": "code",
   "execution_count": 4,
   "metadata": {},
   "outputs": [
    {
     "name": "stdout",
     "output_type": "stream",
     "text": [
      "\nMaking a 16-inch pizza with the following toppings:\n- pepperoni\n\nMaking a 12-inch pizza with the following toppings:\n- mushrooms\n- green peppers\n- extra cheese\n\nMaking a 16-inch pizza with the following toppings:\n- pepperoni\n\nMaking a 12-inch pizza with the following toppings:\n- mushrooms\n- green peppers\n- extra cheese\nPrinting model: dodecahedron\nPrinting model: robot pendant\nPrinting model: iphone case\n\nThe following models have been printed:\ndodecahedron\nrobot pendant\niphone case\n"
     ]
    }
   ],
   "source": [
    "# 指定模块别名\n",
    "import pizza as p\n",
    "p.make_pizza(16, 'pepperoni')\n",
    "p.make_pizza(12, 'mushrooms', 'green peppers', 'extra cheese')\n",
    "\n",
    "# 指定方法别名\n",
    "from pizza import make_pizza as mp\n",
    "mp(16, 'pepperoni')\n",
    "mp(12, 'mushrooms', 'green peppers', 'extra cheese')\n",
    "\n",
    "import printing as pf\n",
    "unprinted_designs = ['iphone case', 'robot pendant', 'dodecahedron']\n",
    "completed_models = []\n",
    "pf.print_models(unprinted_designs, completed_models)\n",
    "pf.show_completed_models(completed_models)"
   ]
  },
  {
   "cell_type": "markdown",
   "metadata": {},
   "source": [
    "### 七段数码管绘制"
   ]
  },
  {
   "cell_type": "code",
   "execution_count": 2,
   "metadata": {},
   "outputs": [
    {
     "name": "stdout",
     "output_type": "stream",
     "text": [
      "2018-06=20+\n"
     ]
    }
   ],
   "source": [
    "# 七段数码管绘制\n",
    "import time\n",
    "import turtle\n",
    "\n",
    "def draw_gap():\n",
    "    \"\"\"\n",
    "    # 绘制数码管间隔\n",
    "    \"\"\"\n",
    "    turtle.penup()\n",
    "    turtle.fd(5)\n",
    "\n",
    "\n",
    "def draw_line(draw):\n",
    "    \"\"\"\n",
    "    # 绘制单段数码管\n",
    "    :param draw: 是否真实绘制, true pendow民\n",
    "    \"\"\"\n",
    "    draw_gap()\n",
    "    turtle.pendown() if draw else turtle.penup()\n",
    "    turtle.fd(40)\n",
    "    draw_gap()\n",
    "    turtle.right(90)\n",
    "\n",
    "\n",
    "def draw_digit(d):\n",
    "    \"\"\"\n",
    "    # 根据数字绘制七段数码管\n",
    "    :param d:\n",
    "    \"\"\"\n",
    "    draw_line(True) if d in [2, 3, 4, 5, 6, 8, 9] else draw_line(False)\n",
    "    draw_line(True) if d in [0, 1, 3, 4, 5, 6, 7, 8, 9] else draw_line(False)\n",
    "    draw_line(True) if d in [0, 2, 3, 5, 6, 8, 9] else draw_line(False)\n",
    "    draw_line(True) if d in [0, 2, 6, 8] else draw_line(False)\n",
    "    turtle.left(90)\n",
    "    draw_line(True) if d in [0, 4, 5, 6, 8, 9] else draw_line(False)\n",
    "    draw_line(True) if d in [0, 2, 3, 5, 6, 7, 8, 9] else draw_line(False)\n",
    "    draw_line(True) if d in [0, 1, 2, 3, 4, 7, 8, 9] else draw_line(False)\n",
    "    turtle.left(180)\n",
    "    turtle.penup()\n",
    "    turtle.fd(20)\n",
    "\n",
    "\n",
    "def draw_date(date):\n",
    "    turtle.pencolor(\"red\")\n",
    "    print(date)\n",
    "    for i in date:\n",
    "        if i == '-':\n",
    "            turtle.write('年', font=(\"Arial\", 18, \"normal\"))\n",
    "            turtle.pencolor(\"green\")\n",
    "            turtle.fd(40)\n",
    "        elif i == '=':\n",
    "            turtle.write('月', font=(\"Arial\", 18, \"normal\"))\n",
    "            turtle.pencolor(\"blue\")\n",
    "            turtle.fd(40)\n",
    "        elif i == '+':\n",
    "            turtle.write('日', font=(\"Arial\", 18, \"normal\"))\n",
    "        else:\n",
    "            draw_digit(eval(i))  # 通过eval()函数将数字变为整数\n",
    "\n",
    "\n",
    "def main():\n",
    "    turtle.setup(800, 350, 200, 200)\n",
    "    turtle.penup()\n",
    "    turtle.fd(-350)\n",
    "    turtle.pensize(5)\n",
    "    draw_date(time.strftime('%Y-%m=%d+', time.gmtime()))  # gmtime()获取系统时间\n",
    "    turtle.hideturtle()  # 隐藏箭头显示\n",
    "    turtle.done()\n",
    "\n",
    "\n",
    "if __name__ == '__main__':\n",
    "    main()\n"
   ]
  },
  {
   "cell_type": "markdown",
   "metadata": {},
   "source": [
    "### 函数递归"
   ]
  },
  {
   "cell_type": "code",
   "execution_count": 5,
   "metadata": {},
   "outputs": [
    {
     "name": "stdout",
     "output_type": "stream",
     "text": [
      "120\n"
     ]
    }
   ],
   "source": [
    "def fact(n):\n",
    "    if n == 0:\n",
    "        return 1\n",
    "    else:\n",
    "        return n * fact(n - 1)\n",
    "\n",
    "print(fact(5))"
   ]
  },
  {
   "cell_type": "code",
   "execution_count": 15,
   "metadata": {},
   "outputs": [
    {
     "name": "stdout",
     "output_type": "stream",
     "text": [
      "nedragkcor\nnedragkcor\n"
     ]
    }
   ],
   "source": [
    "def rvs(s):\n",
    "    if s == \"\":\n",
    "        return s\n",
    "    else:\n",
    "        return rvs(s[1:]) + s[0]\n",
    "\n",
    "s = \"rockgarden\"\n",
    "print(rvs(s))  # s[::-1]\n",
    "print(s[::-1])"
   ]
  },
  {
   "cell_type": "code",
   "execution_count": 12,
   "metadata": {},
   "outputs": [],
   "source": [
    "# 斐波那契数列\n",
    "def f(n):\n",
    "    if n == 1 or n == 2:\n",
    "        return 1\n",
    "    else:\n",
    "        return f(n - 1) + f(n - 2)\n"
   ]
  },
  {
   "cell_type": "code",
   "execution_count": 18,
   "metadata": {},
   "outputs": [
    {
     "name": "stdout",
     "output_type": "stream",
     "text": [
      "1:A->C\n2:A->B\n1:C->B\n3:A->C\n1:B->A\n2:B->C\n1:A->C\n7\n"
     ]
    }
   ],
   "source": [
    "# 汉诺塔\n",
    "count = 0\n",
    "def hanoi(n, src, dst, mid):\n",
    "    global count\n",
    "    if n == 1:\n",
    "        print(\"{}:{}->{}\".format(1, src, dst))\n",
    "        count += 1\n",
    "    else:\n",
    "        hanoi(n - 1, src, mid, dst)\n",
    "        print(\"{}:{}->{}\".format(n, src, dst))\n",
    "        count += 1\n",
    "        hanoi(n - 1, mid, dst, src)\n",
    "        \n",
    "hanoi(3, \"A\", \"C\", \"B\")\n",
    "print(count)"
   ]
  },
  {
   "cell_type": "code",
   "execution_count": 21,
   "metadata": {},
   "outputs": [],
   "source": [
    "# 科赫雪花\n",
    "import turtle\n",
    "\n",
    "def koch(size, n):\n",
    "    \"\"\"\n",
    "\n",
    "    :param size: \n",
    "    :param n: \n",
    "    \"\"\"\n",
    "    if n == 0:\n",
    "        turtle.fd(size)\n",
    "    else:\n",
    "        for angle in [0, 60, -120, 60]:\n",
    "            turtle.left(angle)\n",
    "            koch(size / 3, n - 1)\n",
    "            \n",
    "            \n",
    "def main():\n",
    "    turtle.setup(600, 600)\n",
    "    turtle.penup()\n",
    "    turtle.goto(-200, 100)\n",
    "    turtle.pendown()\n",
    "    turtle.pensize(2)\n",
    "    level = 4  # 3阶科赫雪花，阶数\n",
    "    koch(400, level)\n",
    "    turtle.right(120)\n",
    "    koch(400, level)\n",
    "    turtle.right(120)\n",
    "    koch(400, level)\n",
    "    turtle.hideturtle()\n",
    "    \n",
    "if __name__ == '__main__':\n",
    "    main()\n"
   ]
  },
  {
   "cell_type": "markdown",
   "metadata": {},
   "source": [
    "# 内置函数"
   ]
  },
  {
   "cell_type": "code",
   "execution_count": 1,
   "metadata": {},
   "outputs": [
    {
     "name": "stdout",
     "output_type": "stream",
     "text": [
      "Hello\n"
     ]
    }
   ],
   "source": [
    "# 评估函数eval()\n",
    "# 去掉参数最外侧引号并执行余下语句的函数\n",
    "eval('print(\"Hello\")')"
   ]
  },
  {
   "cell_type": "code",
   "execution_count": null,
   "metadata": {},
   "outputs": [],
   "source": []
  }
 ],
 "metadata": {
  "kernelspec": {
   "display_name": "Python 2",
   "language": "python",
   "name": "python2"
  },
  "language_info": {
   "codemirror_mode": {
    "name": "ipython",
    "version": 2
   },
   "file_extension": ".py",
   "mimetype": "text/x-python",
   "name": "python",
   "nbconvert_exporter": "python",
   "pygments_lexer": "ipython2",
   "version": "2.7.6"
  }
 },
 "nbformat": 4,
 "nbformat_minor": 0
}
