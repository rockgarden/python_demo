{
 "cells": [
  {
   "cell_type": "markdown",
   "metadata": {
    "collapsed": true
   },
   "source": [
    "函数使\n",
    "- 函数代码块以 def 关键词开头，后接函数标识符名称和圆括号 ()。\n",
    "- 任何传入参数和自变量必须放在圆括号中间，圆括号之间可以用于定义参数。\n",
    "- 默认情况下，参数值和参数名称是按函数声明中定义的的顺序匹配起来的。\n",
    "- 函数的第一行语句可以选择性地使用文档字符串—用于存放函数说明。\n",
    "- 函数内容以冒号起始，并且缩进。\n",
    "- return [表达式] 结束函数，选择性地返回一个值给调用方。不带表达式的return相当于返回 None。"
   ]
  },
  {
   "cell_type": "code",
   "execution_count": 1,
   "metadata": {},
   "outputs": [
    {
     "name": "stdout",
     "output_type": "stream",
     "text": [
      "Hello, Jesse!\n"
     ]
    }
   ],
   "source": [
    "def greet_user(username):\n",
    "    \"\"\"Display a simple greeting.\"\"\"\n",
    "    print(\"Hello, \" + username.title() + \"!\")\n",
    "greet_user('jesse')\n"
   ]
  },
  {
   "cell_type": "code",
   "execution_count": 2,
   "metadata": {},
   "outputs": [
    {
     "name": "stdout",
     "output_type": "stream",
     "text": [
      "width = 4  height = 5  area = 20\n"
     ]
    }
   ],
   "source": [
    "# 计算面积函数\n",
    "def area(width, height):\n",
    "    return width * height\n",
    "w = 4\n",
    "h = 5\n",
    "print(\"width =\", w, \" height =\", h, \" area =\", area(w, h))"
   ]
  },
  {
   "cell_type": "code",
   "execution_count": 3,
   "metadata": {},
   "outputs": [
    {
     "name": "stdout",
     "output_type": "stream",
     "text": [
      "\nI have a dog.\nMy dog's name is Willie.\n\nI have a dog.\nMy dog's name is Willie.\n\nI have a hamster.\nMy hamster's name is Harry.\n\nI have a hamster.\nMy hamster's name is Harry.\n\nI have a hamster.\nMy hamster's name is Harry.\n"
     ]
    }
   ],
   "source": [
    "def describe_pet(pet_name, animal_type='dog'):  # 默认值\n",
    "    \"\"\"Display information about a pet.\"\"\"\n",
    "    print(\"\\nI have a \" + animal_type + \".\")\n",
    "    print(\"My \" + animal_type + \"'s name is \" + pet_name.title() + \".\")\n",
    "\n",
    "# A dog named Willie.\n",
    "describe_pet('willie')\n",
    "describe_pet(pet_name='willie')\n",
    "\n",
    "# A hamster named Harry.\n",
    "describe_pet('harry', 'hamster')\n",
    "describe_pet(pet_name='harry', animal_type='hamster')  # 可忽略顺序\n",
    "describe_pet(animal_type='hamster', pet_name='harry')"
   ]
  },
  {
   "cell_type": "code",
   "execution_count": 5,
   "metadata": {},
   "outputs": [
    {
     "name": "stdout",
     "output_type": "stream",
     "text": [
      "Jimi Hendrix\nJohn Lee Hooker\n"
     ]
    }
   ],
   "source": [
    "# 返回值\n",
    "def get_formatted_name(first_name, last_name, middle_name=''):  # 默认值让实参可选\n",
    "    \"\"\"Return a full name, neatly formatted.\"\"\"\n",
    "    if middle_name:\n",
    "        full_name = first_name + ' ' + middle_name + ' ' + last_name\n",
    "    else:\n",
    "        full_name = first_name + ' ' + last_name\n",
    "    return full_name.title()\n",
    "\n",
    "musician = get_formatted_name('jimi', 'hendrix')\n",
    "print(musician)\n",
    "\n",
    "musician = get_formatted_name('john', 'hooker', 'lee')\n",
    "print(musician)\n"
   ]
  },
  {
   "cell_type": "code",
   "execution_count": 8,
   "metadata": {},
   "outputs": [
    {
     "name": "stdout",
     "output_type": "stream",
     "text": [
      "{'first': 'jimi', 'last': 'hendrix', 'age': 27}\n{'first': 'wang', 'last': 'kan'}\n"
     ]
    }
   ],
   "source": [
    "def build_person(first_name, last_name, age=''):\n",
    "    \"\"\"Return a dictionary of information about a person.\"\"\"\n",
    "    person = {'first': first_name, 'last': last_name}\n",
    "    if age:\n",
    "        person['age'] = age\n",
    "    return person\n",
    "\n",
    "musician = build_person('jimi', 'hendrix', age=27)\n",
    "print(musician)\n",
    "writer = build_person('wang', 'kan')\n",
    "print(writer)"
   ]
  },
  {
   "cell_type": "code",
   "execution_count": 9,
   "metadata": {},
   "outputs": [
    {
     "name": "stdout",
     "output_type": "stream",
     "text": [
      "Hello, Hannah!\nHello, Ty!\nHello, Margot!\n"
     ]
    }
   ],
   "source": [
    "# 传递列表\n",
    "def greet_users(names):\n",
    "    \"\"\"Print a simple greeting to each user in the list.\"\"\"\n",
    "    for name in names:\n",
    "        msg = \"Hello, \" + name.title() + \"!\"\n",
    "        print(msg)\n",
    "\n",
    "usernames = ['hannah', 'ty', 'margot']\n",
    "greet_users(usernames)"
   ]
  },
  {
   "cell_type": "code",
   "execution_count": 15,
   "metadata": {},
   "outputs": [
    {
     "name": "stdout",
     "output_type": "stream",
     "text": [
      "Printing model: dodecahedron\nPrinting model: robot pendant\nPrinting model: iphone case\n\nThe following models have been printed:\ndodecahedron\nrobot pendant\niphone case\n\nThe following models have been printed:\n"
     ]
    }
   ],
   "source": [
    "def print_models(unprinted_designs, completed_models):\n",
    "    \"\"\"\n",
    "    Simulate printing each design, until there are none left.\n",
    "    Move each design to completed_models after printing.\n",
    "    \"\"\"\n",
    "    while unprinted_designs:\n",
    "        current_design = unprinted_designs.pop()\n",
    "    \n",
    "        # Simulate creating a 3d print from the design.\n",
    "        print(\"Printing model: \" + current_design)\n",
    "        completed_models.append(current_design)\n",
    "        \n",
    "def show_completed_models(completed_models):\n",
    "    \"\"\"Show all the models that were printed.\"\"\"\n",
    "    print(\"\\nThe following models have been printed:\")\n",
    "    for completed_model in completed_models:\n",
    "        print(completed_model)\n",
    "        \n",
    "        \n",
    "unprinted_designs = ['iphone case', 'robot pendant', 'dodecahedron']\n",
    "completed_models = []\n",
    "\n",
    "print_models(unprinted_designs, completed_models)\n",
    "show_completed_models(completed_models)"
   ]
  },
  {
   "cell_type": "code",
   "execution_count": 12,
   "metadata": {},
   "outputs": [
    {
     "name": "stdout",
     "output_type": "stream",
     "text": [
      "Printing model: dodecahedron\nPrinting model: robot pendant\nPrinting model: iphone case\n\nThe following models have been printed:\niphone case\nrobot pendant\ndodecahedron\n"
     ]
    }
   ],
   "source": [
    "# 传递列表副本[:]，避免修改原列表\n",
    "unprinted_designs = ['iphone case', 'robot pendant', 'dodecahedron']\n",
    "completed_models = []\n",
    "\n",
    "print_models(unprinted_designs[:], completed_models)\n",
    "show_completed_models(unprinted_designs)"
   ]
  },
  {
   "cell_type": "code",
   "execution_count": 16,
   "metadata": {},
   "outputs": [
    {
     "name": "stdout",
     "output_type": "stream",
     "text": [
      "\nMaking a 16-inch pizza with the following toppings:\n- pepperoni\n\nMaking a 12-inch pizza with the following toppings:\n- mushrooms\n- green peppers\n- extra cheese\n"
     ]
    }
   ],
   "source": [
    "# 传递任意数量实参\n",
    "def make_pizza(size, *toppings):\n",
    "    \"\"\"Summarize the pizza we are about to make.\"\"\"\n",
    "    print(\"\\nMaking a \" + str(size) +\n",
    "          \"-inch pizza with the following toppings:\")\n",
    "    for topping in toppings:\n",
    "        print(\"- \" + topping)\n",
    "        \n",
    "make_pizza(16, 'pepperoni')\n",
    "make_pizza(12, 'mushrooms', 'green peppers', 'extra cheese')"
   ]
  },
  {
   "cell_type": "code",
   "execution_count": 17,
   "metadata": {},
   "outputs": [
    {
     "name": "stdout",
     "output_type": "stream",
     "text": [
      "{'first_name': 'albert', 'last_name': 'einstein', 'location': 'princeton', 'field': 'physics'}\n"
     ]
    }
   ],
   "source": [
    "# 任意数量的关键字实参\n",
    "def build_profile(first, last, **user_info):\n",
    "    \"\"\"Build a dictionary containing everything we know about a user.\"\"\"\n",
    "    profile = {}\n",
    "    profile['first_name'] = first\n",
    "    profile['last_name'] = last\n",
    "    for key, value in user_info.items():\n",
    "        profile[key] = value\n",
    "    return profile\n",
    "\n",
    "user_profile = build_profile('albert', 'einstein',\n",
    "                             location='princeton',\n",
    "                             field='physics')\n",
    "print(user_profile)\n"
   ]
  },
  {
   "cell_type": "heading",
   "metadata": {},
   "level": 1,
   "source": [
    "Exercise"
   ]
  },
  {
   "cell_type": "code",
   "execution_count": 1,
   "metadata": {},
   "outputs": [
    {
     "name": "stdout",
     "output_type": "stream",
     "text": [
      "{'artist': 'Metallica', 'title': 'Ride The Lightning'}\n{'artist': 'Beethoven', 'title': 'Ninth Symphony'}\n{'artist': 'Willie Nelson', 'title': 'Red-Headed Stranger'}\n{'artist': 'Iron Maiden', 'title': 'Piece Of Mind', 'tracks': 8}\n"
     ]
    }
   ],
   "source": [
    "def make_album(artist, title, tracks=0):\n",
    "    \"\"\"Build a dictionary containing information about an album.\"\"\"\n",
    "    album_dict = {\n",
    "        'artist': artist.title(),\n",
    "        'title': title.title(),\n",
    "        }\n",
    "    if tracks:\n",
    "        album_dict['tracks'] = tracks\n",
    "    return album_dict\n",
    "\n",
    "album = make_album('metallica', 'ride the lightning')\n",
    "print(album)\n",
    "\n",
    "album = make_album('beethoven', 'ninth symphony')\n",
    "print(album)\n",
    "\n",
    "album = make_album('willie nelson', 'red-headed stranger')\n",
    "print(album)\n",
    "\n",
    "album = make_album('iron maiden', 'piece of mind', tracks=8)\n",
    "print(album)"
   ]
  },
  {
   "cell_type": "code",
   "execution_count": 3,
   "metadata": {},
   "outputs": [
    {
     "name": "stdout",
     "output_type": "stream",
     "text": [
      "Harry Houdini\nDavid Blaine\nTeller\n\n\nTeller the Great\nDavid Blaine the Great\nHarry Houdini the Great\n"
     ]
    }
   ],
   "source": [
    "# Great Magicians\n",
    "def show_magicians(magicians):\n",
    "    \"\"\"Print the name of each magician in the list.\"\"\"\n",
    "    for magician in magicians:\n",
    "        print(magician)\n",
    "\n",
    "def make_great(magicians):\n",
    "    \"\"\"Add 'the Great!' to each magician's name.\"\"\"\n",
    "    # Build a new list to hold the great musicians.\n",
    "    great_magicians = []\n",
    "\n",
    "    # Make each magician great, and add it to great_magicians.\n",
    "    while magicians:\n",
    "        magician = magicians.pop()\n",
    "        great_magician = magician + ' the Great'\n",
    "        great_magicians.append(great_magician)\n",
    "\n",
    "    # Add the great magicians back into magicians.\n",
    "    for great_magician in great_magicians:\n",
    "        magicians.append(great_magician)\n",
    "\n",
    "magicians = ['Harry Houdini', 'David Blaine', 'Teller']\n",
    "show_magicians(magicians)\n",
    "\n",
    "print(\"\\n\")\n",
    "make_great(magicians)\n",
    "show_magicians(magicians)"
   ]
  },
  {
   "cell_type": "code",
   "execution_count": 5,
   "metadata": {},
   "outputs": [
    {
     "name": "stdout",
     "output_type": "stream",
     "text": [
      "{'manufacturer': 'Subaru', 'model': 'Outback', 'color': 'blue', 'tow_package': True}\n{'manufacturer': 'Honda', 'model': 'Accord', 'year': 1991, 'color': 'white', 'headlights': 'popup'}\n"
     ]
    }
   ],
   "source": [
    "def make_car(manufacturer, model, **options):\n",
    "    \"\"\"Make a dictionary representing a car.\"\"\"\n",
    "    car_dict = {\n",
    "        'manufacturer': manufacturer.title(),\n",
    "        'model': model.title(),\n",
    "    }\n",
    "    for option, value in options.items():\n",
    "        car_dict[option] = value\n",
    "\n",
    "    return car_dict\n",
    "\n",
    "my_outback = make_car('subaru', 'outback', color='blue', tow_package=True)\n",
    "print(my_outback)\n",
    "\n",
    "my_accord = make_car('honda', 'accord', year=1991, color='white',\n",
    "                     headlights='popup')\n",
    "print(my_accord)\n"
   ]
  },
  {
   "cell_type": "code",
   "execution_count": null,
   "metadata": {},
   "outputs": [],
   "source": []
  }
 ],
 "metadata": {
  "kernelspec": {
   "display_name": "Python 2",
   "language": "python",
   "name": "python2"
  },
  "language_info": {
   "codemirror_mode": {
    "name": "ipython",
    "version": 2
   },
   "file_extension": ".py",
   "mimetype": "text/x-python",
   "name": "python",
   "nbconvert_exporter": "python",
   "pygments_lexer": "ipython2",
   "version": "2.7.6"
  }
 },
 "nbformat": 4,
 "nbformat_minor": 0
}
