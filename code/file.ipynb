{
 "cells": [
  {
   "cell_type": "heading",
   "metadata": {
    "collapsed": true
   },
   "level": 1,
   "source": [
    "读文件"
   ]
  },
  {
   "cell_type": "code",
   "execution_count": 2,
   "metadata": {},
   "outputs": [
    {
     "name": "stdout",
     "output_type": "stream",
     "text": [
      "['3.1415926535', '8979323846', '2643383279']\n3.1415926535\n  8979323846\n  2643383279\n"
     ]
    }
   ],
   "source": [
    "# 用相对路径 python_work 下读取文件，linux中用/，windows中用\\\n",
    "filename = 'code/assets/pi_digits.txt'\n",
    "with open(filename) as file_object:\n",
    "    contents = file_object.read()\n",
    "    print(contents.rsplit())\n",
    "    \n",
    "# 用绝对路径读取文件\n",
    "file_path = '/Volumes/Data/GitHub/python_demo/code/assets/pi_digits.txt'\n",
    "with open(file_path) as file_object:\n",
    "    lines = file_object.readlines()\n",
    "    for line in lines:\n",
    "        print(line.rstrip())"
   ]
  },
  {
   "cell_type": "code",
   "execution_count": 13,
   "metadata": {},
   "outputs": [
    {
     "name": "stdout",
     "output_type": "stream",
     "text": [
      "3.1415926535  8979323846  2643383279\n36\n"
     ]
    }
   ],
   "source": [
    "filename = 'code/assets/pi_digits.txt'\n",
    "with open(filename) as file_object:\n",
    "    lines = file_object.readlines()\n",
    "pi_string = ''\n",
    "for line in lines:\n",
    "    pi_string += line.rstrip()\n",
    "print(pi_string + \"\\n\" + str(len(pi_string)))  "
   ]
  },
  {
   "cell_type": "heading",
   "metadata": {},
   "level": 1,
   "source": [
    "写文件"
   ]
  },
  {
   "cell_type": "code",
   "execution_count": 5,
   "metadata": {},
   "outputs": [],
   "source": [
    "filename = 'code/assets/programming.txt'\n",
    "\n",
    "with open(filename, 'w') as file_object:  # w 为清空 \n",
    "    file_object.write(\"I love programming.\\n\")\n",
    "    file_object.write(\"I love creating apps new games.\\n\")\n",
    "\n",
    "with open(filename, 'a') as file_object:  # a 为附加 r 只读 r+ 读取/写入\n",
    "    file_object.write(\"I also love finding meaning in large datasets.\\n\")\n",
    "    file_object.write(\"I love creating apps that can run in a browser.\\n\")"
   ]
  },
  {
   "cell_type": "code",
   "execution_count": 3,
   "metadata": {},
   "outputs": [
    {
     "name": "stdout",
     "output_type": "stream",
     "text": [
      "In Python you can store as much information as you want.\nIn Python you can connect pieces of information.\nIn Python you can model real-world situations.\n"
     ]
    }
   ],
   "source": [
    "# file.replace\n",
    "filename = 'code/assets/learning_python.txt'\n",
    "\n",
    "with open(filename) as f:\n",
    "    lines = f.readlines()\n",
    "\n",
    "for line in lines:\n",
    "    # Get rid of newline, then replace Python with C.\n",
    "    print(line.rstrip().replace('C', 'Python'))"
   ]
  },
  {
   "cell_type": "code",
   "execution_count": null,
   "metadata": {},
   "outputs": [],
   "source": []
  }
 ],
 "metadata": {
  "kernelspec": {
   "display_name": "Python 2",
   "language": "python",
   "name": "python2"
  },
  "language_info": {
   "codemirror_mode": {
    "name": "ipython",
    "version": 2
   },
   "file_extension": ".py",
   "mimetype": "text/x-python",
   "name": "python",
   "nbconvert_exporter": "python",
   "pygments_lexer": "ipython2",
   "version": "2.7.6"
  }
 },
 "nbformat": 4,
 "nbformat_minor": 0
}
