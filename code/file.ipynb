{
 "cells": [
  {
   "cell_type": "code",
   "execution_count": 5,
   "metadata": {},
   "outputs": [
    {
     "name": "stdout",
     "output_type": "stream",
     "text": [
      "文件名为:  code/assets/runoob.txt\n文件描述符为:  56\n返回值 :  False\n"
     ]
    }
   ],
   "source": [
    "# open()\n",
    "# 打开文件，不存在时创建或覆盖\n",
    "fo = open(\"code/assets/runoob.txt\", \"wb\")\n",
    "print(\"文件名为: \", fo.name)\n",
    "\n",
    "# flush()\n",
    "# 刷新文件内部缓冲，直接把内部缓冲区的数据立刻写入文件, 而不是被动的等待输出缓冲区写入。\n",
    "fo.flush()\n",
    "\n",
    "# fileno()\n",
    "# 返回一个整型的文件描述符(file descriptor FD 整型), 可以用在如os模块的read方法等一些底层操作上。\n",
    "fid = fo.fileno()\n",
    "print(\"文件描述符为: \", fid)\n",
    "\n",
    "# isatty()\n",
    "# 如果文件连接到一个终端设备返回 True，否则返回 False。\n",
    "ret = fo.isatty()\n",
    "print(\"返回值 : \", ret)\n",
    "\n",
    "# close()\n",
    "# 关闭文件。关闭后文件不能再进行读写操作。\n",
    "fo.close()\n"
   ]
  },
  {
   "cell_type": "code",
   "execution_count": 25,
   "metadata": {
    "collapsed": true
   },
   "outputs": [
    {
     "name": "stdout",
     "output_type": "stream",
     "text": [
      "文件名为:  code/assets/test_file.txt\n第 0 行 - www.test.com 1\n\n读取的字符串: www.test.c\n文件名为:  code/assets/test_file.txt\n读取第一行 www.test.com 1\n\n读取的字符串为: www.t\n读取的数据为: est.com 2\n读取的数据为: www.test.com 3\n读取的数据为: www.test.com 4\n读取的数据为: www.test.com 5\n读取的数据为: www.test.com 1\n\n当前位置: 15\n读取行: ['www.test.com 2\\n', 'www.test.com 3\\n', 'www.test.com 4\\n', 'www.test.com 5\\n']\n读取数据: \n文件名:  code/assets/test_file.txt\n文件行号 0 - www.test.com 1\n\n文件行号 1 - www.test.com 2\n\n文件行号 2 - www.test.com 3\n\n文件名为:  code/assets/test_file.txt\n文件行号 0 - www.test.com 1\n\n文件行号 1 - www.test.com 2\n\n文件行号 2 - www.test.com 3\n\n文件行号 3 - www.test.com 4\n\n文件名为:  code/assets/test_file.txt\n读取数据: www.test.c\n"
     ]
    }
   ],
   "source": [
    "filename = \"code/assets/test_file.txt\"\n",
    "\n",
    "fr = open(filename)\n",
    "print(\"文件名为: \", fr.name)\n",
    "for index in range(1):  # 不可越界\n",
    "    # next()\n",
    "    # 返回文件下一行。\n",
    "    line = next(fr)\n",
    "    print(\"第 %d 行 - %s\" % (index, line))\n",
    "line1 = fr.read(10)\n",
    "print(\"读取的字符串: %s\" % (line1))\n",
    "fr.close()\n",
    "\n",
    "# 打开文件\n",
    "fo = open(filename, \"r+\")\n",
    "print(\"文件名为: \", fo.name)\n",
    "\n",
    "line = fo.readline()\n",
    "print(\"读取第一行 %s\" % (line))\n",
    "\n",
    "line = fo.readline(5)  # 中文也为一个字符\n",
    "print(\"读取的字符串为: %s\" % (line))\n",
    "\n",
    "for line in fo.readlines():  # 依次读取每行\n",
    "    line = line.strip()  # 去掉每行头尾空白\n",
    "    print(\"读取的数据为: %s\" % (line))\n",
    "\n",
    "# seek(offset[, whence])\n",
    "# 设置文件当前位置\n",
    "# 重新设置文件读取指针到开头\n",
    "fo.seek(0, 0)\n",
    "line = fo.readline()\n",
    "print(\"读取的数据为: %s\" % (line))\n",
    "\n",
    "# tell()\n",
    "# 返回文件当前位置。\n",
    "pos = fo.tell()\n",
    "print(\"当前位置: %d\" % (pos))\n",
    "\n",
    "# 循环读取文件\n",
    "fo.truncate()\n",
    "# readlines([sizeint])\n",
    "# 读取所有行并返回列表\n",
    "# 若给定sizeint>0，返回总和大约为sizeint字节的行, 实际读取值可能比 sizeint 较大, 因为需要填充缓冲区。\n",
    "line = fo.readlines()\n",
    "print(\"读取行: %s\" % (line))\n",
    "\n",
    "str = fo.read()\n",
    "print(\"读取数据: %s\" % (str))\n",
    "# read([size])\n",
    "# 从文件读取指定的字节数，如果未给定或为负则读取所有。\n",
    "\n",
    "# 关闭文件\n",
    "fo.close()\n",
    "\n",
    "# 打开文件\n",
    "fo = open(filename, \"r+\")\n",
    "print(\"文件名: \", fo.name)\n",
    "\n",
    "str = \"\\n6:www.test.com\"\n",
    "# 在文件末尾写入一行\n",
    "fo.seek(0, 2)\n",
    "# write(str)\n",
    "# 将字符串写入文件，没有返回值。\n",
    "line = fo.write(str)\n",
    "\n",
    "# 读取文件所有内容\n",
    "fo.seek(0, 0)\n",
    "for index in range(3):\n",
    "    line = next(fo)\n",
    "    print(\"文件行号 %d - %s\" % (index, line))\n",
    "\n",
    "# 关闭文件\n",
    "fo.close()\n",
    "\n",
    "# python 中文件打开操作的mode中没有“wr”\n",
    "fo = open(filename, 'w+')\n",
    "print(\"文件名为: \", fo.name)\n",
    "\n",
    "# writelines(sequence)\n",
    "# 向文件写入一个序列字符串列表，如果需要换行则要自己加入每行的换行符。\n",
    "seq = [\"www.test.com 1\\n\", \"www.test.com 2\\n\", \"www.test.com 3\\n\", \"www.test.com 4\\n\", \"www.test.com 5\\n\"]\n",
    "fo.writelines(seq)\n",
    "\n",
    "# 读取文件所有内容\n",
    "fo.seek(0, 0)\n",
    "for index in range(4):\n",
    "    line = next(fo)\n",
    "    print(\"文件行号 %d - %s\" % (index, line))\n",
    "\n",
    "# 关闭文件\n",
    "fo.close()\n",
    "\n",
    "# 打开文件\n",
    "fo = open(filename, \"r+\")\n",
    "print(\"文件名为: \", fo.name)\n",
    "\n",
    "# truncate([size])\n",
    "# 从文件的首行首字符开始截断，截断文件为 size 个字符，无 size 表示从当前位置截断；\n",
    "# 截断之后后面的所有字符被删除；\n",
    "# 注意：Widnows 系统下的换行代表2个字符大小。\n",
    "# 截取10个字节\n",
    "fo.truncate(10)\n",
    "\n",
    "str = fo.read()\n",
    "print(\"读取数据: %s\" % (str))\n",
    "\n",
    "# 关闭文件\n",
    "fo.close()\n"
   ]
  },
  {
   "cell_type": "code",
   "execution_count": 2,
   "metadata": {},
   "outputs": [
    {
     "name": "stdout",
     "output_type": "stream",
     "text": [
      "['3.1415926535', '8979323846', '2643383279']\n3.1415926535\n  8979323846\n  2643383279\n"
     ]
    }
   ],
   "source": [
    "# 用相对路径 python_work 下读取文件，linux中用/，windows中用\\\n",
    "filename = 'code/assets/pi_digits.txt'\n",
    "with open(filename) as file_object:\n",
    "    contents = file_object.read()\n",
    "    print(contents.rsplit())\n",
    "    \n",
    "# 用绝对路径读取文件\n",
    "file_path = '/Volumes/Data/GitHub/python_demo/code/assets/pi_digits.txt'\n",
    "with open(file_path) as file_object:\n",
    "    lines = file_object.readlines()\n",
    "    for line in lines:\n",
    "        print(line.rstrip())"
   ]
  },
  {
   "cell_type": "code",
   "execution_count": 13,
   "metadata": {},
   "outputs": [
    {
     "name": "stdout",
     "output_type": "stream",
     "text": [
      "3.1415926535  8979323846  2643383279\n36\n"
     ]
    }
   ],
   "source": [
    "filename = 'code/assets/pi_digits.txt'\n",
    "with open(filename) as file_object:\n",
    "    lines = file_object.readlines()\n",
    "pi_string = ''\n",
    "for line in lines:\n",
    "    pi_string += line.rstrip()\n",
    "print(pi_string + \"\\n\" + str(len(pi_string)))  "
   ]
  },
  {
   "cell_type": "heading",
   "metadata": {},
   "level": 1,
   "source": [
    "写文件"
   ]
  },
  {
   "cell_type": "code",
   "execution_count": 5,
   "metadata": {},
   "outputs": [],
   "source": [
    "filename = 'code/assets/programming.txt'\n",
    "\n",
    "with open(filename, 'w') as file_object:  # w 为清空 \n",
    "    file_object.write(\"I love programming.\\n\")\n",
    "    file_object.write(\"I love creating apps new games.\\n\")\n",
    "\n",
    "with open(filename, 'a') as file_object:  # a 为附加 r 只读 r+ 读取/写入\n",
    "    file_object.write(\"I also love finding meaning in large datasets.\\n\")\n",
    "    file_object.write(\"I love creating apps that can run in a browser.\\n\")"
   ]
  },
  {
   "cell_type": "code",
   "execution_count": 3,
   "metadata": {},
   "outputs": [
    {
     "name": "stdout",
     "output_type": "stream",
     "text": [
      "In Python you can store as much information as you want.\nIn Python you can connect pieces of information.\nIn Python you can model real-world situations.\n"
     ]
    }
   ],
   "source": [
    "# file.replace\n",
    "filename = 'code/assets/learning_python.txt'\n",
    "\n",
    "with open(filename) as f:\n",
    "    lines = f.readlines()\n",
    "\n",
    "for line in lines:\n",
    "    # Get rid of newline, then replace Python with C.\n",
    "    print(line.rstrip().replace('C', 'Python'))"
   ]
  },
  {
   "cell_type": "code",
   "execution_count": null,
   "metadata": {},
   "outputs": [],
   "source": []
  }
 ],
 "metadata": {
  "kernelspec": {
   "display_name": "Python 2",
   "language": "python",
   "name": "python2"
  },
  "language_info": {
   "codemirror_mode": {
    "name": "ipython",
    "version": 2
   },
   "file_extension": ".py",
   "mimetype": "text/x-python",
   "name": "python",
   "nbconvert_exporter": "python",
   "pygments_lexer": "ipython2",
   "version": "2.7.6"
  }
 },
 "nbformat": 4,
 "nbformat_minor": 0
}
