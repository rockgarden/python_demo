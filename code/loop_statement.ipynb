{
 "cells": [
  {
   "cell_type": "markdown",
   "metadata": {
    "collapsed": true
   },
   "source": [
    "# 循环语句\n",
    "- 循环语句有 for 和 while。\n",
    "- 在Python中没有do..while循环。\n",
    "## while 循环语句和 for 循环语句使用 else 的区别：\n",
    "- 1.如果 else 语句和 while 循环语句一起使用，则当条件变为 False 时，则执行 else 语句。\n",
    "- 2.如果 else 语句和 for 循环语句一起使用，else 语句块只在 for 循环正常终止时执行。"
   ]
  },
  {
   "cell_type": "heading",
   "metadata": {},
   "level": 1,
   "source": []
  },
  {
   "cell_type": "code",
   "execution_count": 1,
   "metadata": {},
   "outputs": [
    {
     "name": "stdout",
     "output_type": "stream",
     "text": [
      "1 到 100 之和为: 5050\n"
     ]
    }
   ],
   "source": [
    "n = 100\n",
    "sum = 0\n",
    "counter = 1\n",
    "while counter <= n:\n",
    "    sum = sum + counter\n",
    "    counter += 1\n",
    "print(\"1 到 %d 之和为: %d\" % (n, sum))"
   ]
  },
  {
   "cell_type": "code",
   "execution_count": 8,
   "metadata": {},
   "outputs": [
    {
     "name": "stdout",
     "output_type": "stream",
     "text": [
      "5050\n"
     ]
    }
   ],
   "source": [
    "n = 0\n",
    "sum = 0\n",
    "for n in range(0, 101):  # n 范围 0-100\n",
    "    sum += n\n",
    "print(sum)"
   ]
  },
  {
   "cell_type": "code",
   "execution_count": 1,
   "metadata": {},
   "outputs": [
    {
     "name": "stdout",
     "output_type": "stream",
     "text": [
      "Good bye!\n"
     ]
    }
   ],
   "source": [
    "# 无限循环\n",
    "# 在服务器上客户端的实时请求非常有用。\n",
    "flag = 0  # =1 无限循环\n",
    "while (flag):\n",
    "    print('欢迎访问菜鸟教程!')\n",
    "print(\"Good bye!\")\n",
    "# TODO: 无法用 CTRL+C 来退出当前的无限循环。"
   ]
  },
  {
   "cell_type": "code",
   "execution_count": 2,
   "metadata": {},
   "outputs": [
    {
     "name": "stdout",
     "output_type": "stream",
     "text": [
      "0  小于 5\n1  小于 5\n2  小于 5\n3  小于 5\n4  小于 5\n5  大于或等于 5\n"
     ]
    }
   ],
   "source": [
    "# while 循环使用 else 语句\n",
    "count = 0\n",
    "while count < 5:\n",
    "    print(count, \" 小于 5\")\n",
    "    count = count + 1\n",
    "else:\n",
    "    print(count, \" 大于或等于 5\")"
   ]
  },
  {
   "cell_type": "code",
   "execution_count": 4,
   "metadata": {},
   "outputs": [
    {
     "name": "stdout",
     "output_type": "stream",
     "text": [
      "C\nC++\nPerl\nPython\n"
     ]
    }
   ],
   "source": [
    "# for 语句\n",
    "languages = [\"C\", \"C++\", \"Perl\", \"Python\"]\n",
    "for x in languages:\n",
    "    print(x)"
   ]
  },
  {
   "cell_type": "code",
   "execution_count": 3,
   "metadata": {},
   "outputs": [
    {
     "name": "stdout",
     "output_type": "stream",
     "text": [
      "循环数据 Baidu\n循环数据 Google\n菜鸟教程!\n完成循环!\n"
     ]
    }
   ],
   "source": [
    "# for 实例中使用了 break 语句，break 语句用于跳出当前循环体\n",
    "sites = [\"Baidu\", \"Google\", \"Runoob\", \"Taobao\"]\n",
    "for site in sites:\n",
    "    if site == \"Runoob\":\n",
    "        print(\"菜鸟教程!\")\n",
    "        break\n",
    "    print(\"循环数据 \" + site)\n",
    "else:\n",
    "    print(\"没有循环数据!\")\n",
    "print(\"完成循环!\")"
   ]
  },
  {
   "cell_type": "code",
   "execution_count": 5,
   "metadata": {},
   "outputs": [
    {
     "name": "stdout",
     "output_type": "stream",
     "text": [
      "0\n1\n2\n3\n4\n5\n6\n7\n8\n0\n3\n6\n9\n-10\n-40\n-70\n0 Google\n1 Baidu\n2 Runoob\n3 Taobao\n4 QQ\n"
     ]
    }
   ],
   "source": [
    "# range()函数\n",
    "for i in range(5):\n",
    "    print(i)\n",
    "# range指定区间\n",
    "for i in range(5, 9):\n",
    "    print(i)\n",
    "# range以指定数字开始并指定不同的增量(甚至可以是负数，有时这也叫做'步长')\n",
    "for i in range(0, 10, 3):\n",
    "    print(i)\n",
    "for i in range(-10, -100, -30):\n",
    "    print(i)\n",
    "# 结合range()和len()函数以遍历一个序列的索引\n",
    "a = ['Google', 'Baidu', 'Runoob', 'Taobao', 'QQ']\n",
    "for i in range(len(a)):\n",
    "    print(i, a[i])"
   ]
  },
  {
   "cell_type": "heading",
   "metadata": {},
   "level": 2,
   "source": [
    "break 语句"
   ]
  },
  {
   "cell_type": "code",
   "execution_count": 12,
   "metadata": {},
   "outputs": [
    {
     "name": "stdout",
     "output_type": "stream",
     "text": [
      "当前字母为 : R\n当前字母为 : u\n当前字母为 : n\n当期变量值为 : 10\n当期变量值为 : 9\n当期变量值为 : 8\n当期变量值为 : 7\n当期变量值为 : 6\n"
     ]
    }
   ],
   "source": [
    "# break 语句可以跳出 for 和 while 的循环体。如果你从 for 或 while 循环中终止，任何对应的循环 else 块将不执行。\n",
    "for letter in 'Runoob':  # 第一个实例\n",
    "    if letter == 'o':\n",
    "        break\n",
    "    print('当前字母为 :', letter)\n",
    "\n",
    "var = 10  # 第二个实例\n",
    "while var > 0:\n",
    "    print('当期变量值为 :', var)\n",
    "    var = var - 1\n",
    "    if var == 5:\n",
    "        break"
   ]
  },
  {
   "cell_type": "heading",
   "metadata": {},
   "level": 2,
   "source": [
    "pass 语句"
   ]
  },
  {
   "cell_type": "code",
   "execution_count": 10,
   "metadata": {},
   "outputs": [
    {
     "name": "stdout",
     "output_type": "stream",
     "text": [
      "当前字母 : R\n当前字母 : u\n当前字母 : n\n当前字母 : o\n当前字母 : o\n当前字母 : b\nGood bye!\n"
     ]
    }
   ],
   "source": [
    "# pass 是空语句，是为了保持程序结构的完整性。\n",
    "# pass 不做任何事情，一般用做占位语句\n",
    "for letter in 'Runoob':\n",
    "    if letter == 'o':\n",
    "        pass\n",
    "    print('当前字母 :', letter)\n",
    "print(\"Good bye!\")"
   ]
  },
  {
   "cell_type": "heading",
   "metadata": {},
   "level": 1,
   "source": [
    "循环嵌套"
   ]
  },
  {
   "cell_type": "code",
   "execution_count": 13,
   "metadata": {},
   "outputs": [
    {
     "name": "stdout",
     "output_type": "stream",
     "text": [
      "1*1=1  \n1*2=2  2*2=4  \n1*3=3  2*3=6  3*3=9  \n1*4=4  2*4=8  3*4=12  4*4=16  \n1*5=5  2*5=10  3*5=15  4*5=20  5*5=25  \n1*6=6  2*6=12  3*6=18  4*6=24  5*6=30  6*6=36  \n1*7=7  2*7=14  3*7=21  4*7=28  5*7=35  6*7=42  7*7=49  \n1*8=8  2*8=16  3*8=24  4*8=32  5*8=40  6*8=48  7*8=56  8*8=64  \n1*9=9  2*9=18  3*9=27  4*9=36  5*9=45  6*9=54  7*9=63  8*9=72  9*9=81  \n"
     ]
    }
   ],
   "source": [
    "# 99乘法法则\n",
    "# 外边一层循环控制行数\n",
    "# i是行数\n",
    "i = 1\n",
    "while i <= 9:\n",
    "    # 里面一层循环控制每一行中的列数\n",
    "    j = 1\n",
    "    while j <= i:\n",
    "        mut = j * i\n",
    "        print(\"%d*%d=%d\" % (j, i, mut), end=\"  \")\n",
    "        j += 1\n",
    "    print(\"\")\n",
    "    i += 1\n",
    "\n"
   ]
  },
  {
   "cell_type": "code",
   "execution_count": 22,
   "metadata": {},
   "outputs": [
    {
     "name": "stdout",
     "output_type": "stream",
     "text": [
      "*\t\n**\t\n***\t\n****\t\n*****\t\n"
     ]
    }
   ],
   "source": [
    "# for 循环的嵌套\n",
    "for i in range(1, 6):\n",
    "    for j in range(1, i + 1):\n",
    "        print(\"*\", end='')\n",
    "    print('\\t')  # \\r 无效 \\t"
   ]
  },
  {
   "cell_type": "code",
   "execution_count": null,
   "metadata": {},
   "outputs": [],
   "source": []
  }
 ],
 "metadata": {
  "kernelspec": {
   "display_name": "Python 2",
   "language": "python",
   "name": "python2"
  },
  "language_info": {
   "codemirror_mode": {
    "name": "ipython",
    "version": 2
   },
   "file_extension": ".py",
   "mimetype": "text/x-python",
   "name": "python",
   "nbconvert_exporter": "python",
   "pygments_lexer": "ipython2",
   "version": "2.7.6"
  }
 },
 "nbformat": 4,
 "nbformat_minor": 0
}
