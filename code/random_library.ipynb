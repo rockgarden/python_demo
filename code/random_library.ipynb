{
 "cells": [
  {
   "cell_type": "markdown",
   "metadata": {
    "collapsed": true
   },
   "source": [
    "# random库\n",
    "random库是使用随机数的Python标准库\n",
    "- 伪随机数: 采用梅森旋转算法生成的(伪)随机序列中元素\n",
    "- random库主要用于生成随机数\n",
    "- 使用random库, import random\n",
    "\n",
    "## 基本函数\n",
    "- seed(a=None) 初始化给定的随机数种子，默认为当前系统时间\n",
    "- random() 生成一个[0.0, 1.0)之间的随机小数"
   ]
  },
  {
   "cell_type": "code",
   "execution_count": 4,
   "metadata": {},
   "outputs": [
    {
     "data": {
      "text/plain": [
       "0.5714025946899135"
      ]
     },
     "execution_count": 4,
     "metadata": {},
     "output_type": "execute_result"
    }
   ],
   "source": [
    "import random\n",
    "random.seed(10)  # 产生种子10对应的序列,可重现随机数\n",
    "random.random()"
   ]
  },
  {
   "cell_type": "markdown",
   "metadata": {},
   "source": [
    "## 扩展函数\n",
    "- randint(a, b) 生成一个[a, b]之间的整数\n",
    "- randrange(m, n[, k]) 生成一个[m, n)之间以k为步长的随机整数\n",
    "- getrandbits(k) 生成一个k比特长的随机整数\n",
    "- uniform(a,b) 生成一个[a, b]之间的随机小数\n",
    "- choice(seq) 从序列seq中随机选择一个元素\n",
    ">>>\n",
    "- shuffle(seq)将序列seq中元素随机排列，返回打乱后的序列\n",
    ">>>s=[1,2,3,4,5,6,7,8,9];random.shuffle(s);print(s)"
   ]
  },
  {
   "cell_type": "code",
   "execution_count": 7,
   "metadata": {
    "collapsed": false
   },
   "outputs": [
    {
     "name": "stdout",
     "output_type": "stream",
     "text": [
      "36\n80\n53301\n54.21667817326633\n5\n[7, 2, 6, 8, 9, 4, 5, 1, 3]\n"
     ]
    }
   ],
   "source": [
    "import random\n",
    "\n",
    "print(random.randint(10, 100))\n",
    "print(random.randrange(10, 100, 10))\n",
    "print(random.getrandbits(16))\n",
    "print(random.uniform(10, 100))\n",
    "print(random.choice([1, 2, 3, 4, 5, 6, 7, 8, 9]))\n",
    "s = [1, 2, 3, 4, 5, 6, 7, 8, 9];\n",
    "random.shuffle(s);\n",
    "print(s)"
   ]
  },
  {
   "cell_type": "markdown",
   "metadata": {},
   "source": [
    "## Exercise"
   ]
  },
  {
   "cell_type": "code",
   "execution_count": 9,
   "metadata": {},
   "outputs": [
    {
     "name": "stdout",
     "output_type": "stream",
     "text": [
      "圆周率值是: 3.14159572\n运行时间是: 83.90706s\n"
     ]
    }
   ],
   "source": [
    "# CalPiV.py\n",
    "from random import random\n",
    "from time import perf_counter\n",
    "\n",
    "DARTS = 10000 * 10000\n",
    "hits = 0.0\n",
    "start = perf_counter()\n",
    "for i in range(1, DARTS + 1):\n",
    "    x, y = random(), random()\n",
    "    dist = pow(x ** 2 + y ** 2, 0.5)  # 开方算点到圆心的距离\n",
    "    if dist <= 1.0:\n",
    "        hits = hits + 1\n",
    "pi = 4 * (hits / DARTS)\n",
    "print(\"圆周率值是: {}\".format(pi))\n",
    "print(\"运行时间是: {:.5f}s\".format(perf_counter() - start))\n"
   ]
  },
  {
   "cell_type": "code",
   "execution_count": null,
   "metadata": {},
   "outputs": [],
   "source": []
  }
 ],
 "metadata": {
  "kernelspec": {
   "display_name": "Python 2",
   "language": "python",
   "name": "python2"
  },
  "language_info": {
   "codemirror_mode": {
    "name": "ipython",
    "version": 2
   },
   "file_extension": ".py",
   "mimetype": "text/x-python",
   "name": "python",
   "nbconvert_exporter": "python",
   "pygments_lexer": "ipython2",
   "version": "2.7.6"
  }
 },
 "nbformat": 4,
 "nbformat_minor": 0
}
