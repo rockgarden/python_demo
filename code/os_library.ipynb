{
 "cells": [
  {
   "cell_type": "markdown",
   "metadata": {
    "collapsed": true
   },
   "source": [
    "## 路径操作\n",
    "- os.path.abspath(path)返回path在当前系统中的绝对路径\n",
    "- os.path.normpath(path)归一化path的表示形式，统一用\\\\分隔路径\n",
    "- os.path.relpath(path)返回当前程序与文件之间的相对路径(relativepath)\n",
    "- os.path.dirname(path)返回path中的目录名称\n",
    "- os.path.basename(path)返回path中最后的文件名称\n",
    "- os.path.join(path,*paths)组合path与paths，返回一个路径字符串\n",
    "- os.path.exists(path)判断path对应文件或目录是否存在，返回True或False\n",
    "- os.path.isfile(path)判断path所对应是否为已存在的文件，返回True或False\n",
    "- os.path.isdir(path)判断path所对应是否为已存在的目录，返回True或False\n",
    "- os.path.getatime(path)返回path对应文件或目录上一次的访问时间\n",
    "- os.path.getmtime(path)返回path对应文件或目录最近一次的修改时间\n",
    "- os.path.getctime(path)返回path对应文件或目录的创建时间\n",
    "- os.path.getsize(path)返回path对应文件的大小，以字节为单位"
   ]
  },
  {
   "cell_type": "code",
   "execution_count": 20,
   "metadata": {},
   "outputs": [
    {
     "name": "stdout",
     "output_type": "stream",
     "text": [
      "/Volumes/Data/GitHub/python_demo/code/assets/alice.txt\ncode/assets/alice.txt\ncode/assets/alice.txt\nalice.txt\nGitHub/python_demo/code/assets/alice.txt\nTrue\nTrue\nFalse\n1529842718.3187115\n1527946246.289532\nSat Jun  2 21:30:46 2018\n167518\n"
     ]
    }
   ],
   "source": [
    "import os.path\n",
    "import time\n",
    "\n",
    "path = 'code/assets/alice.txt'\n",
    "print(os.path.abspath(path))\n",
    "print(os.path.normpath(path))\n",
    "print(os.path.relpath(path))\n",
    "print(os.path.basename(path))\n",
    "print(os.path.join(\"GitHub/python_demo\", path))\n",
    "print(os.path.exists(path))\n",
    "print(os.path.isfile(path))\n",
    "print(os.path.isdir(path))\n",
    "print(os.path.getatime(path))\n",
    "print(os.path.getmtime(path))\n",
    "print(time.ctime(os.path.getctime(path)))\n",
    "print(os.path.getsize(path))"
   ]
  },
  {
   "cell_type": "markdown",
   "metadata": {},
   "source": [
    "## 环境参数\n",
    "- os.getcwd()#查看当前所在路径，默认是Python程序所在路径\n",
    "- os.chdir()#切换目录，功能和linux中cd命令一样\n",
    "os.curdir#返回当前目录‘.’\n",
    "os.pardir#返回当前父目录‘..’\n",
    "os.makedirs()#新建多级目录，功能和linux中的mkdir -p命令一样\n",
    "os.removedirs()#删除多级目录，若目录非空，无法删除，以此类推\n",
    "os.mkdir()#新建单级目录\n",
    "os.rmdir()#删除单级目录\n",
    "os.listdir()#列出制定目录下所有的目录和文件，以列表形式放回\n",
    "os.remove()#删除文件\n",
    "os.rename()#重命名文件\n",
    "os.stat()#获取目录和文件信息\n",
    "os.sep#输出当前操作系统分隔符,windows为‘\\\\’，Linux为‘/’\n",
    "os.linesep#输出当前操作系统行终止符,windows为‘\\t\\n’，Linux为‘\\n’\n",
    "os.pathsep#输出用于分割文件路径的字符串\n",
    "os.name#输出当前使用平台,windows为‘nt’,Linux为‘postix’\n",
    "os.system()#输出Linux命令\n",
    "os.environ()#获取系统环境变量\n",
    "- os.getlogin()获得当前系统登录用户名称\n",
    "- os.cpu_count()获得当前系统的CPU数量"
   ]
  },
  {
   "cell_type": "code",
   "execution_count": 19,
   "metadata": {},
   "outputs": [
    {
     "name": "stdout",
     "output_type": "stream",
     "text": [
      "/\n/Volumes/Data/GitHub/python_demo\nwangkan\n4\nb'p\\xdf\\xc4t\\xeb\\xf7\\x19\\x8bu\\x8a'\n"
     ]
    }
   ],
   "source": [
    "import os\n",
    "os.chdir(\"/\")\n",
    "print(os.getcwd())\n",
    "os.chdir(\"/Volumes/Data/GitHub/python_demo\")\n",
    "print(os.getcwd())\n",
    "print(os.getlogin())\n",
    "print(os.cpu_count())\n",
    "print(os.urandom(10))"
   ]
  },
  {
   "cell_type": "code",
   "execution_count": null,
   "metadata": {},
   "outputs": [],
   "source": []
  }
 ],
 "metadata": {
  "kernelspec": {
   "display_name": "Python 2",
   "language": "python",
   "name": "python2"
  },
  "language_info": {
   "codemirror_mode": {
    "name": "ipython",
    "version": 2
   },
   "file_extension": ".py",
   "mimetype": "text/x-python",
   "name": "python",
   "nbconvert_exporter": "python",
   "pygments_lexer": "ipython2",
   "version": "2.7.6"
  }
 },
 "nbformat": 4,
 "nbformat_minor": 0
}
