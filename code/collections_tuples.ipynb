{
 "cells": [
  {
   "cell_type": "heading",
   "metadata": {
    "collapsed": true
   },
   "level": 1,
   "source": [
    "元组"
   ]
  },
  {
   "cell_type": "markdown",
   "metadata": {},
   "source": [
    "- Python 的元组与列表类似，不同之处在于元组的元素不能修改。\n",
    "- 元组使用小括号，列表使用方括号。\n",
    "- 元组创建很简单，只需要在括号中添加元素，并使用逗号隔开即可。\n",
    "- 元组与字符串类似，下标索引从0开始，可以进行截取，组合等。"
   ]
  },
  {
   "cell_type": "code",
   "execution_count": 8,
   "metadata": {},
   "outputs": [
    {
     "name": "stdout",
     "output_type": "stream",
     "text": [
      "<class 'tuple'> <class 'tuple'> <class 'tuple'> <class 'tuple'>\n<class 'int'>\n<class 'tuple'>\n"
     ]
    }
   ],
   "source": [
    "# 元组定义\n",
    "tup1 = ('Google', 'Bing', 1997, 2000)\n",
    "tup2 = (1, 2, 3, 4, 5)\n",
    "tup3 = \"a\", \"b\", \"c\", \"d\"\n",
    "tup4 = ()\n",
    "print(type(tup1), type(tup2), type(tup3), type(tup4))\n",
    "\n",
    "tup5 = (50)\n",
    "print(type(tup5))  # 不加逗号，类型为整型\n",
    "\n",
    "tup6 = (50,)\n",
    "print(type(tup6))  # 加上逗号，类型为元组"
   ]
  },
  {
   "cell_type": "code",
   "execution_count": 13,
   "metadata": {},
   "outputs": [
    {
     "name": "stdout",
     "output_type": "stream",
     "text": [
      "tup1[0]:  Google\ntup2[1:5]:  (2, 3, 4, 5)\n1997\n6\n('Bing', 1997, 2000)\n"
     ]
    }
   ],
   "source": [
    "# 访问元组：元组可以使用下标索引来访问元组中的值\n",
    "tup1 = ('Google', 'Bing', 1997, 2000)\n",
    "tup2 = (1, 2, 3, 4, 5, 6, 7)\n",
    "print(\"tup1[0]: \", tup1[0])\n",
    "print(\"tup2[1:5]: \", tup2[1:5])\n",
    "print(tup1[-2])  # 反向读取；读取倒数第二个元素\n",
    "print(tup2[-2])  # 反向读取；读取倒数第二个元素\n",
    "# 截取\n",
    "print(tup1[1:])  # 截取元素，从第二个开始后的所有元素。"
   ]
  },
  {
   "cell_type": "code",
   "execution_count": 11,
   "metadata": {},
   "outputs": [
    {
     "name": "stdout",
     "output_type": "stream",
     "text": [
      "Original dimensions:\n200\n50\n\nModified dimensions:\n400\n100\n(12, 34.56, 'abc', 'xyz')\n"
     ]
    }
   ],
   "source": [
    "# 元组元素不可修改\n",
    "dimensions = (200, 50)\n",
    "print(\"Original dimensions:\")\n",
    "for dimension in dimensions:\n",
    "    print(dimension)\n",
    "\n",
    "# 元组可重新定义\n",
    "dimensions = (400, 100)\n",
    "print(\"\\nModified dimensions:\")\n",
    "for dimension in dimensions:\n",
    "    print(dimension)"
   ]
  },
  {
   "cell_type": "code",
   "execution_count": 17,
   "metadata": {},
   "outputs": [
    {
     "name": "stdout",
     "output_type": "stream",
     "text": [
      "('Google', 'Runoob', 1997, 2000)\n"
     ]
    }
   ],
   "source": [
    "# 删除元组，但我们可以使用del语句来删除整个元组\n",
    "tup = ('Google', 'Runoob', 1997, 2000)\n",
    "print(tup)\n",
    "del tup"
   ]
  },
  {
   "cell_type": "code",
   "execution_count": 16,
   "metadata": {},
   "outputs": [
    {
     "name": "stdout",
     "output_type": "stream",
     "text": [
      "(12, 34.56, 'abc', 'xyz')\n(12345, 54321, 'hello!')\n"
     ]
    }
   ],
   "source": [
    "# 元组连接组合\n",
    "tup_a = (12, 34.56)\n",
    "tup_b = ('abc', 'xyz')\n",
    "tup_ab = tup_a + tup_b\n",
    "print(tup_ab)\n",
    "t = 12345, 54321, 'hello!'\n",
    "print(t)"
   ]
  },
  {
   "cell_type": "code",
   "execution_count": 15,
   "metadata": {},
   "outputs": [
    {
     "name": "stdout",
     "output_type": "stream",
     "text": [
      "((12345, 54321, 'hello!'), (1, 2, 3, 4, 5))\n"
     ]
    }
   ],
   "source": [
    "# 元组可以嵌套\n",
    "# Tuples may be nested\n",
    "u = t, (1, 2, 3, 4, 5)\n",
    "print(u)"
   ]
  },
  {
   "cell_type": "code",
   "execution_count": 23,
   "metadata": {},
   "outputs": [
    {
     "name": "stdout",
     "output_type": "stream",
     "text": [
      "3\n('Hi!', 'Hi!', 'Hi!', 'Hi!')\nTrue\n1\n2\n3\n"
     ]
    }
   ],
   "source": [
    "# 元组运算符\n",
    "# 与字符串一样，元组之间可以使用 + 号和 * 号进行运算。这就意味着他们可以组合和复制，运算后会生成一个新的元组。\n",
    "print(len((1, 2, 3)))\n",
    "(1, 2, 3) + (4, 5, 6)  # 连接\n",
    "print(('Hi!',) * 4)  #复制\n",
    "print(3 in (1, 2, 3))  # 元素是否存在\n",
    "for x in (1, 2, 3):\n",
    "    print(x)  # 迭代"
   ]
  },
  {
   "cell_type": "code",
   "execution_count": 19,
   "metadata": {},
   "outputs": [
    {
     "name": "stdout",
     "output_type": "stream",
     "text": [
      "6\nss\n1\n"
     ]
    }
   ],
   "source": [
    "# 元组内置函数\n",
    "tuple_m = ('1','2','3','4','5','ss')\n",
    "print(len(tuple_m))  # 计算元组元素个数。\n",
    "print(max(tuple_m))  # 返回元组中元素最大值。\n",
    "print(min(tuple_m))  # 返回元组中元素最小值。"
   ]
  },
  {
   "cell_type": "code",
   "execution_count": 26,
   "metadata": {},
   "outputs": [],
   "source": [
    "# 将列表转换为元组。\n",
    "seq = [1, 35, 5, 55, 51]\n",
    "tuple_a = ()\n",
    "# Error: 'tuple' object is not callable\n",
    "tuple(seq)"
   ]
  }
 ],
 "metadata": {
  "kernelspec": {
   "display_name": "Python 2",
   "language": "python",
   "name": "python2"
  },
  "language_info": {
   "codemirror_mode": {
    "name": "ipython",
    "version": 2
   },
   "file_extension": ".py",
   "mimetype": "text/x-python",
   "name": "python",
   "nbconvert_exporter": "python",
   "pygments_lexer": "ipython2",
   "version": "2.7.6"
  }
 },
 "nbformat": 4,
 "nbformat_minor": 0
}
