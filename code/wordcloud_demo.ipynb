{
 "cells": [
  {
   "cell_type": "markdown",
   "metadata": {
    "collapsed": true
   },
   "source": [
    "- w.generate(txt)向WordCloud对象w中加载文本txt\n",
    "- w.to_file(filename)将词云输出为图像文件，.png或.jpg格式"
   ]
  },
  {
   "cell_type": "code",
   "execution_count": 4,
   "metadata": {
    "collapsed": true
   },
   "outputs": [
    {
     "data": {
      "text/plain": [
       "<wordcloud.wordcloud.WordCloud at 0x11071da90>"
      ]
     },
     "execution_count": 4,
     "metadata": {},
     "output_type": "execute_result"
    }
   ],
   "source": [
    "import jieba\n",
    "import wordcloud\n",
    "\n",
    "txt = \"程序设计语言是计算机能够理解和\\识别用户操作意图的一种交互体系，它按照\\特定规则组织计算机指令，\" \\\n",
    "      \"使计算机能够自\\动进行各种运算处理。\"\n",
    "w = wordcloud.WordCloud(width=1000, font_path=\"STHeiti Medium.ttc\", height=700)\n",
    "w.generate(\" \".join(jieba.lcut(txt)))\n",
    "w.to_file(\"code/output/pyw_cloud.png\")\n"
   ]
  },
  {
   "cell_type": "code",
   "execution_count": 11,
   "metadata": {},
   "outputs": [
    {
     "name": "stderr",
     "output_type": "stream",
     "text": [
      "/usr/local/lib/python3.6/site-packages/ipykernel_launcher.py:5: DeprecationWarning: `imread` is deprecated!\n`imread` is deprecated in SciPy 1.0.0, and will be removed in 1.2.0.\nUse ``imageio.imread`` instead.\n  \"\"\"\n"
     ]
    },
    {
     "data": {
      "text/plain": [
       "<wordcloud.wordcloud.WordCloud at 0x110688208>"
      ]
     },
     "execution_count": 11,
     "metadata": {},
     "output_type": "execute_result"
    }
   ],
   "source": [
    "import jieba\n",
    "import wordcloud\n",
    "from scipy.misc import imread\n",
    "\n",
    "mask = imread(\"code/source/三国地图.jpeg\")\n",
    "f = open(\"code/assets/三国演义.txt\", \"r\", encoding=\"utf-8\")\n",
    "t = f.read()\n",
    "f.close()\n",
    "ls = jieba.lcut(t)\n",
    "txt = \" \".join(ls)\n",
    "w = wordcloud.WordCloud(font_path=\"STHeiti Medium.ttc\", \n",
    "                        width=1000, height=700,\n",
    "                        background_color=\"white\",\n",
    "                        max_words=25,\n",
    "                        mask=mask)\n",
    "w.generate(txt)\n",
    "w.to_file(\"code/output/tk_wordcloud.png\")\n"
   ]
  },
  {
   "cell_type": "code",
   "execution_count": null,
   "metadata": {},
   "outputs": [],
   "source": []
  }
 ],
 "metadata": {
  "kernelspec": {
   "display_name": "Python 2",
   "language": "python",
   "name": "python2"
  },
  "language_info": {
   "codemirror_mode": {
    "name": "ipython",
    "version": 2
   },
   "file_extension": ".py",
   "mimetype": "text/x-python",
   "name": "python",
   "nbconvert_exporter": "python",
   "pygments_lexer": "ipython2",
   "version": "2.7.6"
  }
 },
 "nbformat": 4,
 "nbformat_minor": 0
}
