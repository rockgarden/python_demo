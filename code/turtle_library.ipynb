{
 "cells": [
  {
   "cell_type": "markdown",
   "metadata": {},
   "source": [
    "# 入门级的图形绘制函数库"
   ]
  },
  {
   "cell_type": "markdown",
   "metadata": {},
   "source": [
    "绘图窗体\n",
    "- turtle.setup(width, height,startx, starty)\n",
    "\n",
    "空间坐标体系\n",
    "- turtle.goto(x, y)\n",
    "\n",
    "海龟坐标\n",
    "- turtle.bk(d)\n",
    "- turtle.fd(d)\n",
    "- turtle.circle(r,angle)\n",
    "\n",
    "角度坐标体系\n",
    "- turtle.seth(angle)\n",
    "\t- seth()改变海龟行进方向\n",
    "\t- angle为绝对度数\n",
    "\t- seth()只改变方向但不行进\n",
    "- turtle.left(angle)\n",
    "- turtle.right(angle)"
   ]
  },
  {
   "cell_type": "code",
   "execution_count": 1,
   "metadata": {},
   "outputs": [],
   "source": [
    "import turtle\n",
    "\n",
    "turtle.left(45)\n",
    "turtle.fd(150)\n",
    "turtle.right(135)\n",
    "turtle.fd(300)\n",
    "turtle.left(135)\n",
    "turtle.fd(150)\n",
    "turtle.done()"
   ]
  },
  {
   "cell_type": "markdown",
   "metadata": {},
   "source": [
    "RGB色彩模式\n",
    "- turtle.colormode(mode) 默认采用小数值可切换为整数值 -1.0：RGB小数值模式 -255：RGB整数值模式"
   ]
  },
  {
   "cell_type": "markdown",
   "metadata": {},
   "source": [
    "画笔控制函数\n",
    "- turtle.penup()   别名turtle.pu() 抬起画笔\n",
    "- turtle.pendown() 别名turtle.pd() 落下画笔\n",
    "- turtle.pensize(width) 别名turtle.width(width)画笔宽度\n",
    "- turtle.pencolor(color)  color为颜色字符串或r,g,b值画笔颜色\n",
    "\t- pencolor(colorstring)\n",
    "\t- pencolor(r,g,b)\n",
    "\t- pencolor((r,g,b))"
   ]
  },
  {
   "cell_type": "markdown",
   "metadata": {},
   "source": [
    "运动控制函数\n",
    "- turtle.forward(d)    别名turtle.fd(d)向前行进，走直线\n",
    "\t- d: 行进距离，可以为负数\n",
    "- turtle.circle(r, extent=None)根据半径r绘制extent角度的弧形\n",
    "\t- r: 默认圆心在海龟左侧r距离的位置\n",
    "\t- extent: 绘制角度，默认是360度整圆\n",
    "- turtle.setheading(angle) 别名turtle.seth(angle)改变行进方向，走角度\n",
    "\t- angle: 行进方向的绝对角度\n",
    "- turtle.left(angle)\n",
    "- turtle.right(angle)"
   ]
  },
  {
   "cell_type": "code",
   "execution_count": 12,
   "metadata": {},
   "outputs": [],
   "source": [
    "import turtle\n",
    "turtle.setup(600, 600, 200, 200)\n",
    "turtle.penup()\n",
    "turtle.goto(0, -200)\n",
    "turtle.pendown()\n",
    "turtle.pensize(2)\n",
    "turtle.circle(10)\n",
    "turtle.circle(40)\n",
    "turtle.circle(80)\n",
    "turtle.circle(160)\n",
    "turtle.done()"
   ]
  },
  {
   "cell_type": "code",
   "execution_count": 14,
   "metadata": {
    "collapsed": false
   },
   "outputs": [],
   "source": [
    "import turtle\n",
    "\n",
    "turtle.setup(650, 350, 200, 200)\n",
    "turtle.penup()\n",
    "turtle.fd(-250)\n",
    "turtle.pendown()\n",
    "turtle.pensize(25)\n",
    "turtle.pencolor(\"purple\")  # turtle.pencolor((0.63,0.13,0.94))\n",
    "turtle.seth(-40)\n",
    "for i in range(4):\n",
    "    turtle.circle(40, 80)\n",
    "    turtle.circle(-40, 80)\n",
    "turtle.circle(40, 80 / 2)\n",
    "turtle.fd(40)\n",
    "turtle.circle(16, 180)\n",
    "turtle.fd(40 * 2 / 3)\n",
    "turtle.done()"
   ]
  },
  {
   "cell_type": "code",
   "execution_count": null,
   "metadata": {},
   "outputs": [],
   "source": [
    "#RoseDraw.py\n",
    "import turtle as t\n",
    "\n",
    "# 定义一个曲线绘制函数\n",
    "def DegreeCurve(n, r, d=1):\n",
    "    for i in range(n):\n",
    "        t.left(d)\n",
    "        t.circle(r, abs(d))\n",
    "# 初始位置设定\n",
    "s = 0.2  # size\n",
    "t.setup(450 * 5 * s, 750 * 5 * s)\n",
    "t.pencolor(\"black\")\n",
    "t.fillcolor(\"red\")\n",
    "t.speed(100)\n",
    "t.penup()\n",
    "t.goto(0, 900 * s)\n",
    "t.pendown()\n",
    "# 绘制花朵形状\n",
    "t.begin_fill()\n",
    "t.circle(200 * s, 30)\n",
    "DegreeCurve(60, 50 * s)\n",
    "t.circle(200 * s, 30)\n",
    "DegreeCurve(4, 100 * s)\n",
    "t.circle(200 * s, 50)\n",
    "DegreeCurve(50, 50 * s)\n",
    "t.circle(350 * s, 65)\n",
    "DegreeCurve(40, 70 * s)\n",
    "t.circle(150 * s, 50)\n",
    "DegreeCurve(20, 50 * s, -1)\n",
    "t.circle(400 * s, 60)\n",
    "DegreeCurve(18, 50 * s)\n",
    "t.fd(250 * s)\n",
    "t.right(150)\n",
    "t.circle(-500 * s, 12)\n",
    "t.left(140)\n",
    "t.circle(550 * s, 110)\n",
    "t.left(27)\n",
    "t.circle(650 * s, 100)\n",
    "t.left(130)\n",
    "t.circle(-300 * s, 20)\n",
    "t.right(123)\n",
    "t.circle(220 * s, 57)\n",
    "t.end_fill()\n",
    "# 绘制花枝形状\n",
    "t.left(120)\n",
    "t.fd(280 * s)\n",
    "t.left(115)\n",
    "t.circle(300 * s, 33)\n",
    "t.left(180)\n",
    "t.circle(-300 * s, 33)\n",
    "DegreeCurve(70, 225 * s, -1)\n",
    "t.circle(350 * s, 104)\n",
    "t.left(90)\n",
    "t.circle(200 * s, 105)\n",
    "t.circle(-500 * s, 63)\n",
    "t.penup()\n",
    "t.goto(170 * s, -30 * s)\n",
    "t.pendown()\n",
    "t.left(160)\n",
    "DegreeCurve(20, 2500 * s)\n",
    "DegreeCurve(220, 250 * s, -1)\n",
    "# 绘制一个绿色叶子\n",
    "t.fillcolor('green')\n",
    "t.penup()\n",
    "t.goto(670 * s, -180 * s)\n",
    "t.pendown()\n",
    "t.right(140)\n",
    "t.begin_fill()\n",
    "t.circle(300 * s, 120)\n",
    "t.left(60)\n",
    "t.circle(300 * s, 120)\n",
    "t.end_fill()\n",
    "t.penup()\n",
    "t.goto(180 * s, -550 * s)\n",
    "t.pendown()\n",
    "t.right(85)\n",
    "t.circle(600 * s, 40)\n",
    "# 绘制另一个绿色叶子\n",
    "t.penup()\n",
    "t.goto(-150 * s, -1000 * s)\n",
    "t.pendown()\n",
    "t.begin_fill()\n",
    "t.rt(120)\n",
    "t.circle(300 * s, 115)\n",
    "t.left(75)\n",
    "t.circle(300 * s, 100)\n",
    "t.end_fill()\n",
    "t.penup()\n",
    "t.goto(430 * s, -1070 * s)\n",
    "t.pendown()\n",
    "t.right(30)\n",
    "t.circle(-600 * s, 35)\n",
    "t.done()\n"
   ]
  }
 ],
 "metadata": {
  "kernelspec": {
   "display_name": "Python 2",
   "language": "python",
   "name": "python2"
  },
  "language_info": {
   "codemirror_mode": {
    "name": "ipython",
    "version": 2
   },
   "file_extension": ".py",
   "mimetype": "text/x-python",
   "name": "python",
   "nbconvert_exporter": "python",
   "pygments_lexer": "ipython2",
   "version": "2.7.6"
  }
 },
 "nbformat": 4,
 "nbformat_minor": 0
}
