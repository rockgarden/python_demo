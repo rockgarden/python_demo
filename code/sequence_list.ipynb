{
 "cells": [
  {
   "cell_type": "markdown",
   "metadata": {},
   "source": [
    "# 列表 list\n",
    "列表是最常用的Python数据类型，列表是一种序列类型，创建后可以随意被修改。\n",
    "\n",
    "- Python中列表是可变的，这是它区别于字符串和元组的最重要的特点，一句话概括即：列表可以修改，而字符串和元组不能。\n",
    "- 使用方括号[]或list() 创建，元素间用逗号, 分隔。\n",
    "- 列表中各元素类型可以不同，无长度限制。"
   ]
  },
  {
   "cell_type": "code",
   "execution_count": 4,
   "metadata": {},
   "outputs": [
    {
     "name": "stdout",
     "output_type": "stream",
     "text": [
      "['cat', 'dog', 'tiger', 1024]\nlist[0]:  cat\nlist[1:5]:  ['dog', 'tiger', 1024]\n第三个元素为:  tiger\n侧开始读取倒数第二个元素:  tiger\n输出从第二个元素开始后的所有元素:  ['dog', 'tiger', 1024]\n"
     ]
    }
   ],
   "source": [
    "# 方括号[]创建一个列表，\n",
    "ls = [\"cat\", \"dog\", \"tiger\", 1024]\n",
    "# 赋值仅传递引用\n",
    "lt = ls\n",
    "print(ls)\n",
    "# 访问列表中的值\n",
    "# 使用下标索引来访问列表中的值\n",
    "print(\"list[0]: \", ls[0])\n",
    "# 使用方括号的形式截取字符\n",
    "print(\"list[1:5]: \", ls[1:5])\n",
    "print(\"第三个元素为: \", ls[2])\n",
    "print(\"侧开始读取倒数第二个元素: \", ls[-2])\n",
    "print(\"输出从第二个元素开始后的所有元素: \", ls[1:])"
   ]
  },
  {
   "cell_type": "code",
   "execution_count": null,
   "metadata": {},
   "outputs": [],
   "source": [
    "a = [1, 2, 3]\n",
    "b = a\n",
    "c = []\n",
    "c = a\n",
    "# d分配了新在地址\n",
    "d = a[:]\n",
    "print(a, b, c, d)\n",
    "b[0] = 'b'\n",
    "print(a, b, c, d)\n",
    "print(id(a), id(b), id(c), id(d))\n",
    "c[0] = 'c'\n",
    "print(a, b, c, d)\n",
    "print(id(a), id(b), id(c), id(d))\n",
    "d[0] = 'd'\n",
    "print(a, b, c, d)\n",
    "print(id(a), id(b), id(c), id(d))"
   ]
  },
  {
   "cell_type": "markdown",
   "metadata": {},
   "source": [
    "## 操作符\n",
    "- ls[i] = x\t替换列表ls第i元素为x\n",
    "- ls[i:j:k] = lt\t用列表lt替换ls切片后所对应元素子列表\n",
    "- del ls[i]\t删除列表ls中第i元素\n",
    "- del ls[i:j:k]\t删除列表ls中第i到第j以k为步长的元素\n",
    "- ls += lt\t更新列表ls，将列表lt元素增加到列表ls中\n",
    "- ls *= n\t更新列表ls，其元素重复n次"
   ]
  },
  {
   "cell_type": "code",
   "execution_count": 16,
   "metadata": {},
   "outputs": [
    {
     "name": "stdout",
     "output_type": "stream",
     "text": [
      "第三个元素为 :  1997\n更新后的第三个元素为 :  2001\n原始列表: ['Google', 'Runoob', 1997, 2000]\n删除第三个元素 :  ['Google', 'Runoob', 2000]\n"
     ]
    }
   ],
   "source": [
    "ls = ['Google', 'Github', 1997, 2000]\n",
    "# 更新列表项\n",
    "ls[2] = 2001\n",
    "print(\"更新后的第三个元素为 : \", ls[2])\n",
    "# 删除列表元素\n",
    "ls = ['Google', 'Runoob', 1997, 2000]\n",
    "print(\"原始列表:\", ls)\n",
    "del ls[2]\n",
    "print(\"删除第三个元素 : \", ls)"
   ]
  },
  {
   "cell_type": "code",
   "execution_count": 1,
   "metadata": {},
   "outputs": [
    {
     "name": "stdout",
     "output_type": "stream",
     "text": [
      "[1, 2, 3, 4, 5, 6]\n['Hi!', 'Hi!', 'Hi!', 'Hi!']\n"
     ]
    }
   ],
   "source": [
    "# 脚本操作符\n",
    "# + 号用于组合列表\n",
    "print([1, 2, 3] + [4, 5, 6])\n",
    "# * 号用于重复列表\n",
    "print(['Hi!'] * 4)"
   ]
  },
  {
   "cell_type": "code",
   "execution_count": 5,
   "metadata": {},
   "outputs": [
    {
     "name": "stdout",
     "output_type": "stream",
     "text": [
      "['martina', 'michael', 'florence']\n['michael', 'florence', 'eli']\n['michael', 'florence', 'eli']\nHere are the first three players on my team:\nCharles\nMartina\nMichael\n"
     ]
    }
   ],
   "source": [
    "# List 切片\n",
    "players = ['charles', 'martina', 'michael', 'florence', 'eli']\n",
    "print(players[1:4])  # 2到4\n",
    "print(players[2:])  # 3到最后\n",
    "print(players[-3:])  # 最后3个\n",
    "print(\"Here are the first three players on my team:\")\n",
    "for player in players[:3]:  # 未指定第一个索引相当于0开始\n",
    "    print(player.title())"
   ]
  },
  {
   "cell_type": "code",
   "execution_count": 5,
   "metadata": {},
   "outputs": [
    {
     "name": "stdout",
     "output_type": "stream",
     "text": [
      "My first bicycle was a Trek.\ntre\n['trek', 'cannondale', 'redline']\n['specialized']\n"
     ]
    }
   ],
   "source": [
    "bicycles = ['trek', 'cannondale', 'redline', 'specialized']\n",
    "message = \"My first bicycle was a \" + bicycles[0].title() + \".\"\n",
    "print(message)\n",
    "print(bicycles[0][:-1])  # 去除0元素的末尾字符\n",
    "print(bicycles[:-1])  # 去除末尾元素\n",
    "print(bicycles[-1:])  # 取尾元素的安全的取法\n"
   ]
  },
  {
   "cell_type": "code",
   "execution_count": 7,
   "metadata": {},
   "outputs": [
    {
     "name": "stdout",
     "output_type": "stream",
     "text": [
      "[0, 2, 4, 6, 8, 10, 12, 14]\n"
     ]
    }
   ],
   "source": [
    "# l[start:end:span]\n",
    "# 遍历 [start,end)，间隔为 span，当 span>0 时顺序遍历, 当 span<0 时，逆着遍历。\n",
    "# start 不输入则默认为 0，end 不输入默认为长度。\n",
    "l = [i for i in range(0, 15)]\n",
    "print(l[::2])"
   ]
  },
  {
   "cell_type": "markdown",
   "metadata": {},
   "source": [
    "## 主要函数\n",
    "- list.append(x)\t把一个元素添加到列表的结尾，相当于 a[len(a):] = [x]。\n",
    "- list.extend(L)\t通过添加指定列表的所有元素来扩充列表，相当于 a[len(a):] = L。\n",
    "- list.insert(i, x)\t在指定位置插入一个元素(或对象)。第一个参数是准备插入到其前面的那个元素的索引，例如 a.insert(0, x)会插入到整个列表之前，而 a.insert(len(a), x) 相当于 a.append(x) 。\n",
    "- list.remove(x)\t删除列表中值为 x 的第一个元素。如果没有这样的元素，就会返回一个错误。\n",
    "- list.pop([i])\t从列表的指定位置删除元素，并将其返回。如果没有指定索引，a.pop()返回最后一个元素。元素随即从列表中被删除。（方法中 i 两边的方括号表示这个参数是可选的，而不是要求你输入一对方括号。\n",
    "- list.clear()\t移除列表中的所有项，等于del a[:]。\n",
    "- list.index(x)\t返回列表中第一个值为 x 的元素的索引。如果没有匹配的元素就会返回一个错误。\n",
    "- list.count(x)\t返回 x 在列表中出现的次数。\n",
    "- list.sort()\t对列表中的元素进行排序。\n",
    "- list.reverse()\t倒排列表中的元素。\n",
    "- list.copy()\t返回列表的浅复制，等于a[:]。注意：类似 insert, remove 或 sort 等修改列表的方法没有返回值。\\- len(list)  列表元素个数\n",
    "- max(list)  返回列表元素最大值\n",
    "- min(list)  返回列表元素最小值\n",
    "- list(seq)  将元组转换为列表"
   ]
  },
  {
   "cell_type": "code",
   "execution_count": 3,
   "metadata": {},
   "outputs": [
    {
     "name": "stdout",
     "output_type": "stream",
     "text": [
      "[1, 66.25, 333, 333, 1234.5, 33, 99]\n[1, 66.25, 1234.5, 33, 99]\n[66.25, 1234.5, 99]\n[]\n['cat', 1, 2, 3, 4, 'tiger', 1024]\n[1, 2, 4, 'tiger']\n"
     ]
    }
   ],
   "source": [
    "# del 语句\n",
    "# 使用 del 语句可以从一个列表中依索引而不是值来删除一个元素。这与使用 pop() 返回一个值不同。\n",
    "# 可以用 del 语句从列表中删除一个切割，或清空整个列表（我们以前介绍的方法是给该切割赋一个空列表）。\n",
    "a = [-1, 1, 66.25, 333, 333, 1234.5, 33, 99]\n",
    "# del ls[i]删除列表ls中第i元素\n",
    "del a[0]  # delete 0 元素\n",
    "print(a)\n",
    "del a[2:4]\n",
    "print(a)\n",
    "# del ls[i:j:k] 删除列表ls中第i到第j以k为步长的元素,i、j无值表示所有元素\n",
    "del a[::3]  \n",
    "print(a)\n",
    "del a[:]\n",
    "print(a)\n",
    "del a  # del 删除实体变量\n",
    "\n",
    "ls = [\"cat\", \"dog\", \"tiger\", 1024]\n",
    "ls[1:2] = [1, 2, 3, 4]\n",
    "print(ls)\n",
    "del ls[::3]\n",
    "print(ls)"
   ]
  },
  {
   "cell_type": "code",
   "execution_count": 7,
   "metadata": {},
   "outputs": [
    {
     "name": "stdout",
     "output_type": "stream",
     "text": [
      "['ducati', 'yamaha', 'suzuki', 'ducati']\n['yamaha', 'suzuki', 'yamaha', 'suzuki', 'ducati', 'honda']\n\nA Ducati is too expensive for me.\n"
     ]
    }
   ],
   "source": [
    "motorcycles = ['honda', 'yamaha', 'suzuki', 'ducati']\n",
    "motorcycles[0] = 'ducati'  # 修改元素\n",
    "print(motorcycles)\n",
    "motorcycles.append('honda')  # 末尾添加元素\n",
    "motorcycles.insert(0, 'yamaha')  # 插入元素\n",
    "motorcycles.insert(1, 'suzuki')\n",
    "\n",
    "# List 删除任一元素，若有重复只删除第一个\n",
    "too_expensive = 'ducati'\n",
    "motorcycles.remove(too_expensive)\n",
    "print(motorcycles)\n",
    "print(\"\\nA \" + too_expensive.title() + \" is too expensive for me.\")"
   ]
  },
  {
   "cell_type": "code",
   "execution_count": 25,
   "metadata": {},
   "outputs": [
    {
     "name": "stdout",
     "output_type": "stream",
     "text": [
      "Here is the original list:\n['audi', 'bmw', 'subaru', 'toyota']\n['toyota', 'subaru', 'bmw', 'audi']\nHere is the original list:\n['toyota', 'subaru', 'bmw', 'audi']\n\nHere is the sorted list:\n['audi', 'bmw', 'subaru', 'toyota']\n\nHere is the reverse alphabetical list:\n['toyota', 'subaru', 'bmw', 'audi']\n\nHere is the original list again:\n['toyota', 'subaru', 'bmw', 'audi']\n"
     ]
    }
   ],
   "source": [
    "# sort() 永久排序\n",
    "cars = ['bmw', 'audi', 'toyota', 'subaru']\n",
    "cars.sort()\n",
    "print(\"Here is the original list:\")\n",
    "print(cars)\n",
    "cars.sort(reverse=True)\n",
    "print(cars)\n",
    "\n",
    "# sorted() 临时排序\n",
    "print(\"Here is the original list:\")\n",
    "print(cars)\n",
    "print(\"\\nHere is the sorted list:\")\n",
    "print(sorted(cars))\n",
    "print(\"\\nHere is the reverse alphabetical list:\")\n",
    "print(sorted(cars, reverse=True))\n",
    "print(\"\\nHere is the original list again:\")\n",
    "print(cars)"
   ]
  },
  {
   "cell_type": "code",
   "execution_count": 6,
   "metadata": {},
   "outputs": [
    {
     "name": "stdout",
     "output_type": "stream",
     "text": [
      "Marie, you can post a response if you wish.\n"
     ]
    }
   ],
   "source": [
    "banned_users = ['andrew', 'carolina', 'david']\n",
    "user = 'marie'\n",
    "\n",
    "if user not in banned_users:\n",
    "    print(user.title() + \", you can post a response if you wish.\")"
   ]
  },
  {
   "cell_type": "markdown",
   "metadata": {},
   "source": [
    "## 二维列表"
   ]
  },
  {
   "cell_type": "code",
   "execution_count": 3,
   "metadata": {},
   "outputs": [
    {
     "name": "stdout",
     "output_type": "stream",
     "text": [
      "[0, 0, 0, 0, 0]\n[[0, 0, 0, 0, 0], [0, 0, 0, 0, 0], [0, 0, 0, 0, 0], [0, 0, 0, 0, 0], [0, 0, 0, 0, 0]]\n[[0, 0, 0, 0, 0, 3, 5], [0, 0, 0, 0, 0], [0, 0, 0, 0, 0, 7], [0, 0, 0, 0, 0], [0, 0, 0, 0, 0]]\n"
     ]
    }
   ],
   "source": [
    "# 将需要的参数写入 cols 和 rows\n",
    "list_2d = [[0 for col in range(5)] for row in range(5)]\n",
    "print(list_2d)\n",
    "list_2d[0].append(3)\n",
    "list_2d[0].append(5)\n",
    "list_2d[2].append(7)\n",
    "print(list_2d)"
   ]
  },
  {
   "cell_type": "code",
   "execution_count": 5,
   "metadata": {},
   "outputs": [
    {
     "name": "stdout",
     "output_type": "stream",
     "text": [
      "[['a', 'b', 'c'], [1, 2, 3]]\n[[1, 5, 9], [2, 6, 10], [3, 7, 11], [4, 8, 12]]\n[1, 2, 3]\n[[1, 5, 9], [2, 6, 10], [3, 7, 11], [4, 8, 12]]\n[[1, 5, 9], [2, 6, 10], [3, 7, 11], [4, 8, 12]]\n"
     ]
    }
   ],
   "source": [
    "# 嵌套列表\n",
    "a = ['a', 'b', 'c']\n",
    "n = [1, 2, 3]\n",
    "x = [a, n]\n",
    "print(x)\n",
    "# 嵌套列表解析\n",
    "matrix = [\n",
    "    [1, 2, 3, 4],\n",
    "    [5, 6, 7, 8],\n",
    "    [9, 10, 11, 12],\n",
    "]\n",
    "print([[row[i] for row in matrix] for i in range(4)])\n",
    "print(matrix[0][0:3])\n",
    "\n",
    "transposed = []\n",
    "for i in range(4):\n",
    "    transposed.append([row[i] for row in matrix])\n",
    "print(transposed)\n",
    "\n",
    "transposed = []\n",
    "for i in range(4):\n",
    "    # the following 3 lines implement the nested listcomp\n",
    "    transposed_row = []\n",
    "    for row in matrix:\n",
    "        transposed_row.append(row[i])\n",
    "    transposed.append(transposed_row)\n",
    "print(transposed)\n"
   ]
  },
  {
   "cell_type": "markdown",
   "metadata": {},
   "source": [
    "## List 当做堆栈使用"
   ]
  },
  {
   "cell_type": "code",
   "execution_count": 24,
   "metadata": {},
   "outputs": [
    {
     "name": "stdout",
     "output_type": "stream",
     "text": [
      "8\n[4, 5, 6, 7]\n"
     ]
    }
   ],
   "source": [
    "# 堆栈作为特定的数据结构，最先进入的元素最后一个被释放（后进先出）。\n",
    "# 用 append() 方法可以把一个元素添加到堆栈顶。用不指定索引的 pop() 方法可以把一个元素从堆栈顶释放出来。\n",
    "stack = [3, 4, 5, 6, 7]\n",
    "stack.append(8)\n",
    "last_one = stack.pop()\n",
    "print(last_one)\n",
    "stack.pop(0)  # 弹出0元素\n",
    "print(stack)"
   ]
  },
  {
   "cell_type": "markdown",
   "metadata": {},
   "source": [
    "## Exercise"
   ]
  },
  {
   "cell_type": "code",
   "execution_count": 19,
   "metadata": {},
   "outputs": [
    {
     "name": "stdout",
     "output_type": "stream",
     "text": [
      "1\n8\n27\n64\n125\n216\n343\n512\n729\n1000\n1\n8\n27\n64\n125\n216\n343\n512\n729\n1000\n"
     ]
    }
   ],
   "source": [
    "# Exercise: A number raised to the third power is called a cube\n",
    "\n",
    "cubes = []\n",
    "for number in range(1, 11):\n",
    "    cube = number ** 3\n",
    "    cubes.append(cube)\n",
    "for cube in cubes:\n",
    "    print(cube)\n",
    "cubes = [number ** 3 for number in range(1, 11)]  # Cube Comprehension\n",
    "for cube in cubes:\n",
    "    print(cube)\n"
   ]
  },
  {
   "cell_type": "code",
   "execution_count": 20,
   "metadata": {},
   "outputs": [
    {
     "name": "stdout",
     "output_type": "stream",
     "text": [
      "Original order:\n['himalaya', 'andes', 'tierra del fuego', 'labrador', 'guam']\n\nAlphabetical:\n['andes', 'guam', 'himalaya', 'labrador', 'tierra del fuego']\n\nOriginal order:\n['himalaya', 'andes', 'tierra del fuego', 'labrador', 'guam']\n\nReverse alphabetical:\n['tierra del fuego', 'labrador', 'himalaya', 'guam', 'andes']\n\nOriginal order:\n['himalaya', 'andes', 'tierra del fuego', 'labrador', 'guam']\n\nReversed:\n['guam', 'labrador', 'tierra del fuego', 'andes', 'himalaya']\n\nOriginal order:\n['himalaya', 'andes', 'tierra del fuego', 'labrador', 'guam']\n\nAlphabetical\n['andes', 'guam', 'himalaya', 'labrador', 'tierra del fuego']\n\nReverse alphabetical\n['tierra del fuego', 'labrador', 'himalaya', 'guam', 'andes']\n"
     ]
    }
   ],
   "source": [
    "# Exercise: Seeing the World\n",
    "locations = ['himalaya', 'andes', 'tierra del fuego', 'labrador', 'guam']\n",
    "print(\"Original order:\")\n",
    "print(locations)\n",
    "print(\"\\nAlphabetical:\")\n",
    "print(sorted(locations))\n",
    "print(\"\\nOriginal order:\")\n",
    "print(locations)\n",
    "print(\"\\nReverse alphabetical:\")\n",
    "print(sorted(locations, reverse=True))\n",
    "print(\"\\nOriginal order:\")\n",
    "print(locations)\n",
    "print(\"\\nReversed:\")\n",
    "locations.reverse()\n",
    "print(locations)\n",
    "print(\"\\nOriginal order:\")\n",
    "locations.reverse()\n",
    "print(locations)\n",
    "print(\"\\nAlphabetical\")\n",
    "locations.sort()\n",
    "print(locations)\n",
    "print(\"\\nReverse alphabetical\")\n",
    "locations.sort(reverse=True)\n",
    "print(locations)"
   ]
  },
  {
   "cell_type": "code",
   "execution_count": 21,
   "metadata": {},
   "outputs": [
    {
     "name": "stdout",
     "output_type": "stream",
     "text": [
      "Guido Van Rossum, please come to dinner.\nJack Turner, please come to dinner.\nLynn Hill, please come to dinner.\n\nSorry, Jack Turner can't make it to dinner.\n\nGuido Van Rossum, please come to dinner.\nGary Snyder, please come to dinner.\nLynn Hill, please come to dinner.\n\nWe got a bigger table!\nFrida Kahlo, please come to dinner.\nGuido Van Rossum, please come to dinner.\nReinhold Messner, please come to dinner.\nGary Snyder, please come to dinner.\nLynn Hill, please come to dinner.\nElizabeth Peratrovich, please come to dinner.\n\nSorry, we can only invite two people to dinner.\nSorry, Elizabeth Peratrovich there's no room at the table.\nSorry, Lynn Hill there's no room at the table.\nSorry, Gary Snyder there's no room at the table.\nSorry, Reinhold Messner there's no room at the table.\nFrida Kahlo, please come to dinner.\nGuido Van Rossum, please come to dinner.\n[]\n"
     ]
    }
   ],
   "source": [
    "# Exercise: Invite some people to dinner.\n",
    "guests = ['guido van rossum', 'jack turner', 'lynn hill']\n",
    "name = guests[0].title()\n",
    "print(name + \", please come to dinner.\")\n",
    "name = guests[1].title()\n",
    "print(name + \", please come to dinner.\")\n",
    "name = guests[2].title()\n",
    "print(name + \", please come to dinner.\")\n",
    "name = guests[1].title()\n",
    "print(\"\\nSorry, \" + name + \" can't make it to dinner.\")\n",
    "# Jack can't make it! Let's invite Gary instead.\n",
    "del (guests[1])\n",
    "guests.insert(1, 'gary snyder')\n",
    "# Print the invitations again.\n",
    "name = guests[0].title()\n",
    "print(\"\\n\" + name + \", please come to dinner.\")\n",
    "name = guests[1].title()\n",
    "print(name + \", please come to dinner.\")\n",
    "name = guests[2].title()\n",
    "print(name + \", please come to dinner.\")\n",
    "# We got a bigger table, so let's add some more people to the list.\n",
    "print(\"\\nWe got a bigger table!\")\n",
    "guests.insert(0, 'frida kahlo')\n",
    "guests.insert(2, 'reinhold messner')\n",
    "guests.append('elizabeth peratrovich')\n",
    "name = guests[0].title()\n",
    "print(name + \", please come to dinner.\")\n",
    "name = guests[1].title()\n",
    "print(name + \", please come to dinner.\")\n",
    "name = guests[2].title()\n",
    "print(name + \", please come to dinner.\")\n",
    "name = guests[3].title()\n",
    "print(name + \", please come to dinner.\")\n",
    "name = guests[4].title()\n",
    "print(name + \", please come to dinner.\")\n",
    "name = guests[5].title()\n",
    "print(name + \", please come to dinner.\")\n",
    "# Oh no, the table won't arrive on time!\n",
    "print(\"\\nSorry, we can only invite two people to dinner.\")\n",
    "name = guests.pop()\n",
    "print(\"Sorry, \" + name.title() + \" there's no room at the table.\")\n",
    "name = guests.pop()\n",
    "print(\"Sorry, \" + name.title() + \" there's no room at the table.\")\n",
    "name = guests.pop()\n",
    "print(\"Sorry, \" + name.title() + \" there's no room at the table.\")\n",
    "name = guests.pop()\n",
    "print(\"Sorry, \" + name.title() + \" there's no room at the table.\")\n",
    "# There should be two people left. Let's invite them.\n",
    "name = guests[0].title()\n",
    "print(name + \", please come to dinner.\")\n",
    "name = guests[1].title()\n",
    "print(name + \", please come to dinner.\")\n",
    "# Empty out the list.\n",
    "del (guests[0])\n",
    "del (guests[0])\n",
    "# Prove the list is empty.\n",
    "print(guests)"
   ]
  }
 ],
 "metadata": {
  "kernelspec": {
   "display_name": "Python 2",
   "language": "python",
   "name": "python2"
  },
  "language_info": {
   "codemirror_mode": {
    "name": "ipython",
    "version": 2
   },
   "file_extension": ".py",
   "mimetype": "text/x-python",
   "name": "python",
   "nbconvert_exporter": "python",
   "pygments_lexer": "ipython2",
   "version": "2.7.6"
  }
 },
 "nbformat": 4,
 "nbformat_minor": 0
}
