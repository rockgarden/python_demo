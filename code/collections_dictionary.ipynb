{
 "cells": [
  {
   "cell_type": "markdown",
   "metadata": {},
   "source": [
    "# Python3 字典\n",
    "* 序列是以连续的整数为索引，与此不同的是，字典以关键字为索引，关键字可以是任意不可变类型，通常用字符串或数值。\n",
    "* 理解字典的最佳方式是把它看做无序的键=>值对集合。在同一个字典之内，关键字必须是互不相同。\n",
    "* 字典是另一种可变容器模型，且可存储任意类型对象。\n",
    "* 字典的每个键值(key=>value)对用冒号(:)分割，每个对之间用逗号(,)分割，整个字典包括在花括号({})中键必须是唯一的，但值则不必。\n",
    "* 值可以取任何数据类型，但键必须是不可变的，如字符串，数字或元组。"
   ]
  },
  {
   "cell_type": "code",
   "execution_count": 1,
   "metadata": {},
   "outputs": [
    {
     "name": "stdout",
     "output_type": "stream",
     "text": [
      "{'jack': 4098, 'sape': 4139, 'guido': 4127}\n4098\n{'jack': 4098, 'guido': 4127, 'irv': 4127}\n['jack', 'guido', 'irv']\n['guido', 'irv', 'jack']\nTrue\nFalse\n"
     ]
    }
   ],
   "source": [
    "# 一对大括号创建一个空的字典：{}。\n",
    "tel = {'jack': 4098, 'sape': 4139}\n",
    "tel['guido'] = 4127\n",
    "print(tel)\n",
    "print(tel['jack'])\n",
    "del tel['sape']\n",
    "tel['irv'] = 4127\n",
    "print(tel)\n",
    "print(list(tel.keys()))\n",
    "print(sorted(tel.keys()))\n",
    "print('guido' in tel)\n",
    "print('jack' not in tel)"
   ]
  },
  {
   "cell_type": "markdown",
   "metadata": {},
   "source": [
    "# 字典键的特性: 字典值可以没有限制地取任何对象，既可以是标准的对象，也可以是用户定义的，但键不行。\n",
    "* 1）不允许同一个键出现两次。创建时如果同一个键被赋值两次，后一个值会被记住\n",
    "* 2）键必须不可变，所以可以用数字，字符串或元组充当，而用列表就不行"
   ]
  },
  {
   "cell_type": "code",
   "execution_count": 11,
   "metadata": {},
   "outputs": [
    {
     "name": "stdout",
     "output_type": "stream",
     "text": [
      "dict['Name']:  小菜鸟\n"
     ]
    },
    {
     "ename": "TypeError",
     "evalue": "unhashable type: 'list'",
     "traceback": [
      "\u001b[0;31m---------------------------------------------------------------------------\u001b[0m",
      "\u001b[0;31mTypeError\u001b[0m                                 Traceback (most recent call last)",
      "\u001b[0;32m<ipython-input-11-c5c05ded3ceb>\u001b[0m in \u001b[0;36m<module>\u001b[0;34m()\u001b[0m\n\u001b[1;32m      2\u001b[0m \u001b[0mprint\u001b[0m\u001b[0;34m(\u001b[0m\u001b[0;34m\"dict['Name']: \"\u001b[0m\u001b[0;34m,\u001b[0m \u001b[0mdict_b\u001b[0m\u001b[0;34m[\u001b[0m\u001b[0;34m'Name'\u001b[0m\u001b[0;34m]\u001b[0m\u001b[0;34m)\u001b[0m\u001b[0;34m\u001b[0m\u001b[0m\n\u001b[1;32m      3\u001b[0m \u001b[0;34m\u001b[0m\u001b[0m\n\u001b[0;32m----> 4\u001b[0;31m \u001b[0mdict_a\u001b[0m \u001b[0;34m=\u001b[0m \u001b[0;34m{\u001b[0m\u001b[0;34m[\u001b[0m\u001b[0;34m'Name'\u001b[0m\u001b[0;34m]\u001b[0m\u001b[0;34m:\u001b[0m \u001b[0;34m'Runoob'\u001b[0m\u001b[0;34m,\u001b[0m \u001b[0;34m'Age'\u001b[0m\u001b[0;34m:\u001b[0m \u001b[0;36m7\u001b[0m\u001b[0;34m}\u001b[0m\u001b[0;34m\u001b[0m\u001b[0m\n\u001b[0m\u001b[1;32m      5\u001b[0m \u001b[0mprint\u001b[0m\u001b[0;34m(\u001b[0m\u001b[0;34m\"dict['Name']: \"\u001b[0m\u001b[0;34m,\u001b[0m \u001b[0mdict_a\u001b[0m\u001b[0;34m[\u001b[0m\u001b[0;34m'Name'\u001b[0m\u001b[0;34m]\u001b[0m\u001b[0;34m)\u001b[0m\u001b[0;34m\u001b[0m\u001b[0m\n",
      "\u001b[0;31mTypeError\u001b[0m: unhashable type: 'list'"
     ],
     "output_type": "error"
    }
   ],
   "source": [
    "dict_b = {'Name': 'Runoob', 'Age': 7, 'Name': '小菜鸟'}\n",
    "print(\"dict['Name']: \", dict_b['Name'])\n",
    "\n",
    "dict_a = {['Name']: 'Runoob', 'Age': 7}\n",
    "print(\"dict['Name']: \", dict_a['Name'])\n"
   ]
  },
  {
   "cell_type": "code",
   "execution_count": 4,
   "metadata": {},
   "outputs": [
    {
     "name": "stdout",
     "output_type": "stream",
     "text": [
      "(0, 'jack')\n(1, 'guido')\n(2, 'irv')\ndict_items([('jack', 4098), ('guido', 4127), ('irv', 4127)])\n"
     ]
    }
   ],
   "source": [
    "for item in enumerate(tel):\n",
    "    print(item)\n",
    "# 在字典中遍历时，关键字和对应的值可以使用 items() 方法同时解读出来\n",
    "print(tel.items())"
   ]
  },
  {
   "cell_type": "code",
   "execution_count": 5,
   "metadata": {},
   "outputs": [
    {
     "name": "stdout",
     "output_type": "stream",
     "text": [
      "{'sape': 4139, 'guido': 4127, 'jack': 4098}\n{2: 4, 4: 16, 6: 36}\n{'sape': 4139, 'guido': 4127, 'jack': 4098}\n"
     ]
    }
   ],
   "source": [
    "# 构造函数 dict() 直接从键值对元组列表中构建字典。如果有固定的模式，列表推导式指定特定的键值对。\n",
    "print(dict([('sape', 4139), ('guido', 4127), ('jack', 4098)]))\n",
    "print({x: x ** 2 for x in (2, 4, 6)})\n",
    "print(dict(sape=4139, guido=4127, jack=4098))"
   ]
  },
  {
   "cell_type": "code",
   "execution_count": 6,
   "metadata": {},
   "outputs": [
    {
     "name": "stdout",
     "output_type": "stream",
     "text": [
      "dict['Name']:  Runoob\ndict['Age']:  7\n"
     ]
    }
   ],
   "source": [
    "# 访问字典里的值\n",
    "# 如果用字典里没有的键访问数据，会输出错误\n",
    "dict = {'Name': 'Runoob', 'Age': 7, 'Class': 'First'}\n",
    "print(\"dict['Name']: \", dict['Name'])\n",
    "print(\"dict['Age']: \", dict['Age'])"
   ]
  },
  {
   "cell_type": "code",
   "execution_count": 7,
   "metadata": {},
   "outputs": [
    {
     "name": "stdout",
     "output_type": "stream",
     "text": [
      "dict['Age']:  8\ndict['School']:  教程\n"
     ]
    }
   ],
   "source": [
    "# 修改字典\n",
    "# 向字典添加新内容的方法是增加新的键/值对，修改或删除已有键/值\n",
    "dict = {'Name': 'Runoob', 'Age': 7, 'Class': 'First'}\n",
    "\n",
    "dict['Age'] = 8  # 更新 Age\n",
    "dict['School'] = \"教程\"  # 添加信息\n",
    "\n",
    "print(\"dict['Age']: \", dict['Age'])\n",
    "print(\"dict['School']: \", dict['School'])\n"
   ]
  },
  {
   "cell_type": "code",
   "execution_count": 8,
   "metadata": {},
   "outputs": [
    {
     "name": "stdout",
     "output_type": "stream",
     "text": [
      "{'Age': 7, 'Class': 'First'}\n"
     ]
    }
   ],
   "source": [
    "# 删除字典元素\n",
    "# 能删单一的元素也能清空字典，清空只需一项操作。显示删除一个字典用del命令\n",
    "dict = {'Name': 'Runoob', 'Age': 7, 'Class': 'First'}\n",
    "\n",
    "del dict['Name']  # 删除键 'Name'\n",
    "print(dict)\n",
    "dict.clear()  # 删除字典\n",
    "del dict  # 删除字典"
   ]
  },
  {
   "cell_type": "markdown",
   "metadata": {},
   "source": [
    "# 内置函数及描述\n",
    "* radiansdict.clear()\n",
    "删除字典内所有元素\n",
    "* radiansdict.copy()\n",
    "返回一个字典的浅复制\n",
    "* radiansdict.fromkeys()\n",
    "创建一个新字典，以序列seq中元素做字典的键，val为字典所有键对应的初始值\n",
    "* radiansdict.get(key, default=None)\n",
    "返回指定键的值，如果值不在字典中返回default值\n",
    "* key in dict\n",
    "如果键在字典dict里返回true，否则返回false\n",
    "* radiansdict.items()\n",
    "以列表返回可遍历的(键, 值) 元组数组\n",
    "* radiansdict.keys()\n",
    "以列表返回一个字典所有的键\n",
    "* radiansdict.setdefault(key, default=None)\n",
    "和get()类似, 但如果键不存在于字典中，将会添加键并将值设为default\n",
    "* radiansdict.update(dict2)\n",
    "把字典dict2的键/值对更新到dict里\n",
    "* radiansdict.values()\n",
    "以列表返回字典中的所有值\n",
    "* pop(key[,default])\n",
    "删除字典给定键 key 所对应的值，返回值为被删除的值。key值必须给出。 否则，返回default值。\n",
    "* popitem()\n",
    "随机返回并删除字典中的一对键和值(一般删除末尾对)。"
   ]
  },
  {
   "cell_type": "code",
   "execution_count": 21,
   "metadata": {},
   "outputs": [
    {
     "name": "stdout",
     "output_type": "stream",
     "text": [
      "3\n{'Name': 'Runoob', 'Age': 7, 'Class': 'First'}\n"
     ]
    },
    {
     "data": {
      "text/plain": [
       "dict"
      ]
     },
     "execution_count": 21,
     "metadata": {},
     "output_type": "execute_result"
    }
   ],
   "source": [
    "dict_test = {'Name': 'Runoob', 'Age': 7, 'Class': 'First'}\n",
    "print(len(dict_test))\n",
    "# 计算字典元素个数，即键的总数。\n",
    "print(str(dict_test))\n",
    "# 输出字典，以可打印的字符串表示。\n",
    "type(dict_test)\n",
    "# 返回输入的变量类型，如果变量是字典就返回字典类型。"
   ]
  },
  {
   "cell_type": "code",
   "execution_count": null,
   "metadata": {},
   "outputs": [],
   "source": []
  }
 ],
 "metadata": {
  "kernelspec": {
   "display_name": "Python 2",
   "language": "python",
   "name": "python2"
  },
  "language_info": {
   "codemirror_mode": {
    "name": "ipython",
    "version": 2
   },
   "file_extension": ".py",
   "mimetype": "text/x-python",
   "name": "python",
   "nbconvert_exporter": "python",
   "pygments_lexer": "ipython2",
   "version": "2.7.6"
  }
 },
 "nbformat": 4,
 "nbformat_minor": 0
}
