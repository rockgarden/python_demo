{
 "cells": [
  {
   "cell_type": "code",
   "execution_count": 5,
   "metadata": {
    "collapsed": true
   },
   "outputs": [
    {
     "name": "stdout",
     "output_type": "stream",
     "text": [
      "200\n<class 'requests.models.Response'>\napplication/json; charset=utf-8\nutf-8\n{\"login\":\"rockgarden\",\"id\":5505676,\"node_id\":\"MDQ6VXNlcjU1MDU2NzY=\",\"avatar_url\":\"https://avatars3.githubusercontent.com/u/5505676?v=4\",\"gravatar_id\":\"\",\"url\":\"https://api.github.com/users/rockgarden\",\"html_url\":\"https://github.com/rockgarden\",\"followers_url\":\"https://api.github.com/users/rockgarden/followers\",\"following_url\":\"https://api.github.com/users/rockgarden/following{/other_user}\",\"gists_url\":\"https://api.github.com/users/rockgarden/gists{/gist_id}\",\"starred_url\":\"https://api.github.com/users/rockgarden/starred{/owner}{/repo}\",\"subscriptions_url\":\"https://api.github.com/users/rockgarden/subscriptions\",\"organizations_url\":\"https://api.github.com/users/rockgarden/orgs\",\"repos_url\":\"https://api.github.com/users/rockgarden/repos\",\"events_url\":\"https://api.github.com/users/rockgarden/events{/privacy}\",\"received_events_url\":\"https://api.github.com/users/rockgarden/received_events\",\"type\":\"User\",\"site_admin\":false,\"name\":\"Wangkan\",\"company\":\"Rockgarden\",\"blog\":\"www.rcockgarden.cn\",\"location\":\"China\",\"email\":null,\"hireable\":true,\"bio\":\"Project management.\",\"public_repos\":40,\"public_gists\":0,\"followers\":5,\"following\":4,\"created_at\":\"2013-09-21T02:34:47Z\",\"updated_at\":\"2018-06-04T14:53:48Z\",\"private_gists\":0,\"total_private_repos\":0,\"owned_private_repos\":0,\"disk_usage\":272685,\"collaborators\":0,\"two_factor_authentication\":false,\"plan\":{\"name\":\"free\",\"space\":976562499,\"collaborators\":0,\"private_repos\":0}}\n"
     ]
    },
    {
     "data": {
      "text/plain": [
       "{'avatar_url': 'https://avatars3.githubusercontent.com/u/5505676?v=4',\n 'bio': 'Project management.',\n 'blog': 'www.rcockgarden.cn',\n 'collaborators': 0,\n 'company': 'Rockgarden',\n 'created_at': '2013-09-21T02:34:47Z',\n 'disk_usage': 272685,\n 'email': None,\n 'events_url': 'https://api.github.com/users/rockgarden/events{/privacy}',\n 'followers': 5,\n 'followers_url': 'https://api.github.com/users/rockgarden/followers',\n 'following': 4,\n 'following_url': 'https://api.github.com/users/rockgarden/following{/other_user}',\n 'gists_url': 'https://api.github.com/users/rockgarden/gists{/gist_id}',\n 'gravatar_id': '',\n 'hireable': True,\n 'html_url': 'https://github.com/rockgarden',\n 'id': 5505676,\n 'location': 'China',\n 'login': 'rockgarden',\n 'name': 'Wangkan',\n 'node_id': 'MDQ6VXNlcjU1MDU2NzY=',\n 'organizations_url': 'https://api.github.com/users/rockgarden/orgs',\n 'owned_private_repos': 0,\n 'plan': {'collaborators': 0,\n  'name': 'free',\n  'private_repos': 0,\n  'space': 976562499},\n 'private_gists': 0,\n 'public_gists': 0,\n 'public_repos': 40,\n 'received_events_url': 'https://api.github.com/users/rockgarden/received_events',\n 'repos_url': 'https://api.github.com/users/rockgarden/repos',\n 'site_admin': False,\n 'starred_url': 'https://api.github.com/users/rockgarden/starred{/owner}{/repo}',\n 'subscriptions_url': 'https://api.github.com/users/rockgarden/subscriptions',\n 'total_private_repos': 0,\n 'two_factor_authentication': False,\n 'type': 'User',\n 'updated_at': '2018-06-04T14:53:48Z',\n 'url': 'https://api.github.com/users/rockgarden'}"
      ]
     },
     "execution_count": 5,
     "metadata": {},
     "output_type": "execute_result"
    }
   ],
   "source": [
    "import requests\n",
    "\n",
    "r = requests.get('https://api.github.com/user', auth=('rockgarden', 'freestar77'))\n",
    "print(r.status_code)\n",
    "# 200\n",
    "print(type(r))\n",
    "print(r.headers['content-type'])\n",
    "# 'application/json; charset=utf8'\n",
    "print(r.encoding)\n",
    "# 'utf-8'\n",
    "print(r.text)\n",
    "# u'{\"type\":\"User\"...'\n",
    "r.json()\n",
    "# {u'private_gists': 419, u'total_private_repos': 77, ...}"
   ]
  },
  {
   "cell_type": "code",
   "execution_count": 13,
   "metadata": {
    "collapsed": false
   },
   "outputs": [
    {
     "name": "stdout",
     "output_type": "stream",
     "text": [
      "http://httpbin.org/get?key1=value1&key2=value2\n{\"args\":{\"key1\":\"value1\",\"key2\":\"value2\"},\"headers\":{\"Accept\":\"*/*\",\"Accept-Encoding\":\"gzip, deflate\",\"Connection\":\"close\",\"Host\":\"httpbin.org\",\"User-Agent\":\"python-requests/2.18.4\"},\"origin\":\"218.72.123.96\",\"url\":\"http://httpbin.org/get?key1=value1&key2=value2\"}\n\n"
     ]
    },
    {
     "name": "stdout",
     "output_type": "stream",
     "text": [
      "http://httpbin.org/post\n{\"args\":{},\"data\":\"\",\"files\":{},\"form\":{\"key1\":\"value1\",\"key2\":\"value2\"},\"headers\":{\"Accept\":\"*/*\",\"Accept-Encoding\":\"gzip, deflate\",\"Connection\":\"close\",\"Content-Length\":\"23\",\"Content-Type\":\"application/x-www-form-urlencoded\",\"Host\":\"httpbin.org\",\"User-Agent\":\"python-requests/2.18.4\"},\"json\":null,\"origin\":\"218.72.123.96\",\"url\":\"http://httpbin.org/post\"}\n\n"
     ]
    },
    {
     "name": "stdout",
     "output_type": "stream",
     "text": [
      "http://httpbin.org/post\n{\"args\":{},\"data\":\"test data\",\"files\":{},\"form\":{},\"headers\":{\"Accept\":\"*/*\",\"Accept-Encoding\":\"gzip, deflate\",\"Connection\":\"close\",\"Content-Length\":\"9\",\"Host\":\"httpbin.org\",\"User-Agent\":\"python-requests/2.18.4\"},\"json\":null,\"origin\":\"218.72.123.96\",\"url\":\"http://httpbin.org/post\"}\n\n"
     ]
    }
   ],
   "source": [
    "import requests\n",
    "\n",
    "payload = {'key1': 'value1', 'key2': 'value2'}\n",
    "r = requests.get(\"http://httpbin.org/get\", params=payload)\n",
    "print(r.url)\n",
    "print(r.text)\n",
    "r = requests.post(\"http://httpbin.org/post\", data=payload)\n",
    "print(r.url)\n",
    "print(r.text)  # payload 在 form 里\n",
    "r = requests.post(\"http://httpbin.org/post\", data=\"test data\")\n",
    "print(r.url)\n",
    "print(r.text)  # data 在 data 里"
   ]
  },
  {
   "cell_type": "code",
   "execution_count": 10,
   "metadata": {},
   "outputs": [
    {
     "name": "stdout",
     "output_type": "stream",
     "text": [
      "http://httpbin.org/get?key1=value1&key2=value2&key2=value3\n"
     ]
    }
   ],
   "source": [
    "import requests\n",
    "\n",
    "payload = {'key1': 'value1', 'key2': ['value2', 'value3']}\n",
    "r = requests.get('http://httpbin.org/get', params=payload)\n",
    "print(r.url)"
   ]
  },
  {
   "cell_type": "code",
   "execution_count": 7,
   "metadata": {},
   "outputs": [
    {
     "name": "stdout",
     "output_type": "stream",
     "text": [
      "{'Connection': 'keep-alive', 'Server': 'gunicorn/19.8.1', 'Date': 'Mon, 11 Jun 2018 15:15:53 GMT', 'Content-Type': 'application/json', 'Content-Length': '209', 'Access-Control-Allow-Origin': '*', 'Access-Control-Allow-Credentials': 'true', 'Via': '1.1 vegur'}\n"
     ]
    }
   ],
   "source": [
    "import requests\n",
    "\n",
    "r = requests.head('http://httpbin.org/get')\n",
    "print(r.headers)"
   ]
  },
  {
   "cell_type": "code",
   "execution_count": 1,
   "metadata": {},
   "outputs": [
    {
     "name": "stdout",
     "output_type": "stream",
     "text": [
      "<!DOCTYPE HTML>\n<html lang=\"zh-CN\">\n<head>\n    <!-- shouji -->\n    <meta http-equiv=\"Content-Type\" content=\"text/html; charset=gbk\" />\n    <title>NIKE耐克2018年新款男子NIKEDOWNSHIFTER8跑步鞋908984 908984-001 42【图片 价格 品牌 报价】-京东</title>\n    <meta name=\"keywords\" content=\"NIKE耐克2018年新款男子NIKEDOWNSHIFTER8跑步鞋908984 908984-001 42,耐克（NIKE）,,京东,网上购物\"/>\n    <meta name=\"description\" content=\"NIKE耐克2018年新款男子NIKEDOWNSHIFTER8跑步鞋908984 908984-001 42图片、价格、品牌样样齐全！【京东正品行货，全国配送，心动不如行动，立即购买享受更多优惠哦！】\" />\n    <meta name=\"format-detection\" content=\"telephone=no\">\n    <meta http-equiv=\"mobile-agent\" content=\"format=xhtml; url=//item.m.jd.com/product/23323267884.html\">\n    <meta http-equiv=\"mobile-agent\" content=\"format=html5; url=//item.m.jd.com/product/23323267884.html\">\n    <meta http-equiv=\"X-UA-Compatible\" content=\"IE=Edge\">\n    <link rel=\"canonical\" href=\"//item.jd.com/23323267884.html\"/>\n        <link rel=\"dns-prefetch\" href=\"//misc.360buyimg.com\"/>\n    <link rel=\"dns-prefetch\" href=\"//static.360buyimg.com\"/>\n   \n"
     ]
    }
   ],
   "source": [
    "import requests\n",
    "\n",
    "url = \"https://item.jd.com/23323267884.html\"\n",
    "try:\n",
    "    r = requests.get(url)\n",
    "    r.raise_for_status()\n",
    "    r.encoding = r.apparent_encoding\n",
    "    print(r.text[:1000])\n",
    "except:\n",
    "    print(\"爬取失败\")"
   ]
  },
  {
   "cell_type": "code",
   "execution_count": 11,
   "metadata": {},
   "outputs": [
    {
     "name": "stdout",
     "output_type": "stream",
     "text": [
      "爬取失败\n{'User-Agent': 'python-requests/2.18.4', 'Accept-Encoding': 'gzip, deflate', 'Accept': '*/*', 'Connection': 'keep-alive'}\n"
     ]
    }
   ],
   "source": [
    "# amazon 对 user-agent 有限制\n",
    "# 原始'User-Agent': 'python-requests/2.18.4'\n",
    "import requests\n",
    "\n",
    "url = \"https://www.amazon.cn/dp/B00AKSCZ4G/ref=gs_rnk_wdgt_301?_encoding=UTF8&m=A2EDK7H33M5FFG&pf_rd_p=8abe81cd-4f79-461c-91e7-2bce3ce97792&pf_rd_s=merchandised-search-7&pf_rd_t=101&pf_rd_i=1478512071&pf_rd_m=A1AJ19PSB66TGU&pf_rd_r=FTPK9QFYQFX150DG9QMV&th=1\"\n",
    "try:\n",
    "    kv = {'user-agent': 'Mozilla/5.0'}\n",
    "    r = requests.get(url, params=kv)\n",
    "    r.raise_for_status()\n",
    "    r.encoding = r.apparent_encoding\n",
    "    print(r.text[1000:2000])\n",
    "except:\n",
    "    print(\"爬取失败\")\n",
    "print(r.request.headers)"
   ]
  },
  {
   "cell_type": "code",
   "execution_count": 12,
   "metadata": {
    "collapsed": false
   },
   "outputs": [
    {
     "name": "stdout",
     "output_type": "stream",
     "text": [
      "http://www.baidu.com/s?wd=python\n378614\n"
     ]
    },
    {
     "name": "stdout",
     "output_type": "stream",
     "text": [
      "https://www.so.com/s?q=python\n285011\n"
     ]
    }
   ],
   "source": [
    "# 实例3：百度/360搜索关键词提交\n",
    "import requests\n",
    "\n",
    "keyword = 'python'\n",
    "try:\n",
    "    kv = {'wd': keyword}\n",
    "    r = requests.get(\"http://www.baidu.com/s\", params=kv)  # s后不需加?\n",
    "    print(r.request.url) \n",
    "    r.raise_for_status()\n",
    "    print(len(r.text))\n",
    "except:\n",
    "    print(\"爬取失败\")\n",
    "\n",
    "try:\n",
    "    kv = {'q': keyword}\n",
    "    r = requests.get(\"http://www.so.com/s\", params=kv)  # s后不需加?\n",
    "    print(r.request.url) \n",
    "    r.raise_for_status()\n",
    "    print(len(r.text))\n",
    "except:\n",
    "    print(\"爬取失败\")"
   ]
  },
  {
   "cell_type": "code",
   "execution_count": 1,
   "metadata": {},
   "outputs": [
    {
     "name": "stdout",
     "output_type": "stream",
     "text": [
      "当前工作目录为 : /Volumes/Data/GitHub/python_demo\n/Volumes/Data/GitHub/python_demo/output\n"
     ]
    },
    {
     "name": "stdout",
     "output_type": "stream",
     "text": [
      "文件保存成功\n"
     ]
    }
   ],
   "source": [
    "# Linux 网络图片的爬取和存储\n",
    "import os\n",
    "import requests\n",
    "\n",
    "url = \"http://image.ngchina.com.cn/2017/0411/20170411122223468.jpg\"\n",
    "print(\"当前工作目录为 : %s\" % os.getcwd())\n",
    "root = os.getcwd() + \"/output\"\n",
    "path = root + \"/\" + url.split('/')[-1]\n",
    "try:\n",
    "    if not os.path.exists(root):\n",
    "        os.mkdir(root)\n",
    "        print(root)\n",
    "    if not os.path.exists(path):\n",
    "        r = requests.get(url)\n",
    "        with open(path, 'wb') as f:\n",
    "            f.write(r.content)  # r.content二进制\n",
    "            print(\"文件保存成功\")\n",
    "    else:\n",
    "        print(\"文件已存在\")\n",
    "except:\n",
    "    print('爬取失败')\n"
   ]
  },
  {
   "cell_type": "code",
   "execution_count": 2,
   "metadata": {},
   "outputs": [
    {
     "name": "stdout",
     "output_type": "stream",
     "text": [
      "广州市联通</font></font><br/></div></div><div class=\"ad\">\n<script type=\"text/javascript\">\n    google_ad_client = \"ca-pub-7578658000090989\";\n    google_ad_slot = \"7284733636\";\n    google_ad_width = 336;\n    google_ad_height = 280;\n</script>\n<!-- ipcha -->\n<script type=\"text/javascript\"\nsrc=\"//pagead2.googlesyndication.com/pagead/show_ads.js\">\n</script></div><div style='display:none'><script type=\"text/javascript\" src=\"http://tajs.qq.com/stats?sId=65068601\" charset=\"UTF-8\"></script></div></body></html>\n"
     ]
    }
   ],
   "source": [
    "# IP地址所属地查询\n",
    "import requests\n",
    "\n",
    "url = \"http://www.ip38.com/ip.php?ip=\"\n",
    "IPAdd = url + \"112.96.173.225\"\n",
    "try:\n",
    "    r = requests.get(IPAdd)\n",
    "    r.raise_for_status()\n",
    "    r.encoding = r.apparent_encoding\n",
    "    print(r.text[-500:])\n",
    "except:\n",
    "    print(\"爬取失败\")"
   ]
  },
  {
   "cell_type": "code",
   "execution_count": 4,
   "metadata": {},
   "outputs": [
    {
     "name": "stdout",
     "output_type": "stream",
     "text": [
      "ISO-8859-1\nutf-8\n<!DOCTYPE html>\r\n<!--STATUS OK--><html> <head><meta http-equiv=content-type content=text/html;charset=utf-8><meta http-equiv=X-UA-Compatible content=IE=Edge><meta content=always name=referrer><link rel=stylesheet type=text/css href=https://ss1.bdstatic.com/5eN1bjq8AAUYm2zgoY3K/r/www/cache/bdorz/baidu.min.css><title>百度一下，你就知道</title></head> <body link=#0000cc> <div id=wrapper> <div id=head> <div class=head_wrapper> <div class=s_form> <div class=s_form_wrapper> <div id=lg> <img hidefocus=true src=//www.baidu.com/img/bd_logo1.png width=270 height=129> </div> <form id=form name=f action=//www.baidu.com/s class=fm> <input type=hidden name=bdorz_come value=1> <input type=hidden name=ie value=utf-8> <input type=hidden name=f value=8> <input type=hidden name=rsv_bp value=1> <input type=hidden name=rsv_idx value=1> <input type=hidden name=tn value=baidu><span class=\"bg s_ipt_wr\"><input id=kw name=wd class=s_ipt value maxlength=255 autocomplete=off autofocus=autofocus></span><span class=\"bg s_btn_wr\"><input type=submit id=su value=百度一下 class=\"bg s_btn\" autofocus></span> </form> </div> </div> <div id=u1> <a href=http://news.baidu.com name=tj_trnews class=mnav>新闻</a> <a href=https://www.hao123.com name=tj_trhao123 class=mnav>hao123</a> <a href=http://map.baidu.com name=tj_trmap class=mnav>地图</a> <a href=http://v.baidu.com name=tj_trvideo class=mnav>视频</a> <a href=http://tieba.baidu.com name=tj_trtieba class=mnav>贴吧</a> <noscript> <a href=http://www.baidu.com/bdorz/login.gif?login&amp;tpl=mn&amp;u=http%3A%2F%2Fwww.baidu.com%2f%3fbdorz_come%3d1 name=tj_login class=lb>登录</a> </noscript> <script>document.write('<a href=\"http://www.baidu.com/bdorz/login.gif?login&tpl=mn&u='+ encodeURIComponent(window.location.href+ (window.location.search === \"\" ? \"?\" : \"&\")+ \"bdorz_come=1\")+ '\" name=\"tj_login\" class=\"lb\">登录</a>');\r\n                </script> <a href=//www.baidu.com/more/ name=tj_briicon class=bri style=\"display: block;\">更多产品</a> </div> </div> </div> <div id=ftCon> <div id=ftConw> <p id=lh> <a href=http://home.baidu.com>关于百度</a> <a href=http://ir.baidu.com>About Baidu</a> </p> <p id=cp>&copy;2017&nbsp;Baidu&nbsp;<a href=http://www.baidu.com/duty/>使用百度前必读</a>&nbsp; <a href=http://jianyi.baidu.com/ class=cp-feedback>意见反馈</a>&nbsp;京ICP证030173号&nbsp; <img src=//www.baidu.com/img/gs.gif> </p> </div> </div> </div> </body> </html>\r\n\n"
     ]
    },
    {
     "ename": "JSONDecodeError",
     "evalue": "Expecting value: line 1 column 1 (char 0)",
     "traceback": [
      "\u001b[0;31m---------------------------------------------------------------------------\u001b[0m",
      "\u001b[0;31mJSONDecodeError\u001b[0m                           Traceback (most recent call last)",
      "\u001b[0;32m<ipython-input-4-335d25467632>\u001b[0m in \u001b[0;36m<module>\u001b[0;34m()\u001b[0m\n\u001b[1;32m      6\u001b[0m \u001b[0mr\u001b[0m\u001b[0;34m.\u001b[0m\u001b[0mencoding\u001b[0m \u001b[0;34m=\u001b[0m \u001b[0mr\u001b[0m\u001b[0;34m.\u001b[0m\u001b[0mapparent_encoding\u001b[0m\u001b[0;34m\u001b[0m\u001b[0m\n\u001b[1;32m      7\u001b[0m \u001b[0mprint\u001b[0m\u001b[0;34m(\u001b[0m\u001b[0mr\u001b[0m\u001b[0;34m.\u001b[0m\u001b[0mtext\u001b[0m\u001b[0;34m)\u001b[0m\u001b[0;34m\u001b[0m\u001b[0m\n\u001b[0;32m----> 8\u001b[0;31m \u001b[0mr\u001b[0m\u001b[0;34m.\u001b[0m\u001b[0mjson\u001b[0m\u001b[0;34m(\u001b[0m\u001b[0;34m)\u001b[0m  \u001b[0;31m# TODO: json.decoder.JSONDecodeError: Expecting value: line 1 column 1 (char 0)\u001b[0m\u001b[0;34m\u001b[0m\u001b[0m\n\u001b[0m",
      "\u001b[0;32m/usr/local/lib/python3.6/site-packages/requests/models.py\u001b[0m in \u001b[0;36mjson\u001b[0;34m(self, **kwargs)\u001b[0m\n\u001b[1;32m    890\u001b[0m                     \u001b[0;31m# used.\u001b[0m\u001b[0;34m\u001b[0m\u001b[0;34m\u001b[0m\u001b[0m\n\u001b[1;32m    891\u001b[0m                     \u001b[0;32mpass\u001b[0m\u001b[0;34m\u001b[0m\u001b[0m\n\u001b[0;32m--> 892\u001b[0;31m         \u001b[0;32mreturn\u001b[0m \u001b[0mcomplexjson\u001b[0m\u001b[0;34m.\u001b[0m\u001b[0mloads\u001b[0m\u001b[0;34m(\u001b[0m\u001b[0mself\u001b[0m\u001b[0;34m.\u001b[0m\u001b[0mtext\u001b[0m\u001b[0;34m,\u001b[0m \u001b[0;34m**\u001b[0m\u001b[0mkwargs\u001b[0m\u001b[0;34m)\u001b[0m\u001b[0;34m\u001b[0m\u001b[0m\n\u001b[0m\u001b[1;32m    893\u001b[0m \u001b[0;34m\u001b[0m\u001b[0m\n\u001b[1;32m    894\u001b[0m     \u001b[0;34m@\u001b[0m\u001b[0mproperty\u001b[0m\u001b[0;34m\u001b[0m\u001b[0m\n",
      "\u001b[0;32m/usr/local/Cellar/python/3.6.5/Frameworks/Python.framework/Versions/3.6/lib/python3.6/json/__init__.py\u001b[0m in \u001b[0;36mloads\u001b[0;34m(s, encoding, cls, object_hook, parse_float, parse_int, parse_constant, object_pairs_hook, **kw)\u001b[0m\n\u001b[1;32m    352\u001b[0m             \u001b[0mparse_int\u001b[0m \u001b[0;32mis\u001b[0m \u001b[0;32mNone\u001b[0m \u001b[0;32mand\u001b[0m \u001b[0mparse_float\u001b[0m \u001b[0;32mis\u001b[0m \u001b[0;32mNone\u001b[0m \u001b[0;32mand\u001b[0m\u001b[0;34m\u001b[0m\u001b[0m\n\u001b[1;32m    353\u001b[0m             parse_constant is None and object_pairs_hook is None and not kw):\n\u001b[0;32m--> 354\u001b[0;31m         \u001b[0;32mreturn\u001b[0m \u001b[0m_default_decoder\u001b[0m\u001b[0;34m.\u001b[0m\u001b[0mdecode\u001b[0m\u001b[0;34m(\u001b[0m\u001b[0ms\u001b[0m\u001b[0;34m)\u001b[0m\u001b[0;34m\u001b[0m\u001b[0m\n\u001b[0m\u001b[1;32m    355\u001b[0m     \u001b[0;32mif\u001b[0m \u001b[0mcls\u001b[0m \u001b[0;32mis\u001b[0m \u001b[0;32mNone\u001b[0m\u001b[0;34m:\u001b[0m\u001b[0;34m\u001b[0m\u001b[0m\n\u001b[1;32m    356\u001b[0m         \u001b[0mcls\u001b[0m \u001b[0;34m=\u001b[0m \u001b[0mJSONDecoder\u001b[0m\u001b[0;34m\u001b[0m\u001b[0m\n",
      "\u001b[0;32m/usr/local/Cellar/python/3.6.5/Frameworks/Python.framework/Versions/3.6/lib/python3.6/json/decoder.py\u001b[0m in \u001b[0;36mdecode\u001b[0;34m(self, s, _w)\u001b[0m\n\u001b[1;32m    337\u001b[0m \u001b[0;34m\u001b[0m\u001b[0m\n\u001b[1;32m    338\u001b[0m         \"\"\"\n\u001b[0;32m--> 339\u001b[0;31m         \u001b[0mobj\u001b[0m\u001b[0;34m,\u001b[0m \u001b[0mend\u001b[0m \u001b[0;34m=\u001b[0m \u001b[0mself\u001b[0m\u001b[0;34m.\u001b[0m\u001b[0mraw_decode\u001b[0m\u001b[0;34m(\u001b[0m\u001b[0ms\u001b[0m\u001b[0;34m,\u001b[0m \u001b[0midx\u001b[0m\u001b[0;34m=\u001b[0m\u001b[0m_w\u001b[0m\u001b[0;34m(\u001b[0m\u001b[0ms\u001b[0m\u001b[0;34m,\u001b[0m \u001b[0;36m0\u001b[0m\u001b[0;34m)\u001b[0m\u001b[0;34m.\u001b[0m\u001b[0mend\u001b[0m\u001b[0;34m(\u001b[0m\u001b[0;34m)\u001b[0m\u001b[0;34m)\u001b[0m\u001b[0;34m\u001b[0m\u001b[0m\n\u001b[0m\u001b[1;32m    340\u001b[0m         \u001b[0mend\u001b[0m \u001b[0;34m=\u001b[0m \u001b[0m_w\u001b[0m\u001b[0;34m(\u001b[0m\u001b[0ms\u001b[0m\u001b[0;34m,\u001b[0m \u001b[0mend\u001b[0m\u001b[0;34m)\u001b[0m\u001b[0;34m.\u001b[0m\u001b[0mend\u001b[0m\u001b[0;34m(\u001b[0m\u001b[0;34m)\u001b[0m\u001b[0;34m\u001b[0m\u001b[0m\n\u001b[1;32m    341\u001b[0m         \u001b[0;32mif\u001b[0m \u001b[0mend\u001b[0m \u001b[0;34m!=\u001b[0m \u001b[0mlen\u001b[0m\u001b[0;34m(\u001b[0m\u001b[0ms\u001b[0m\u001b[0;34m)\u001b[0m\u001b[0;34m:\u001b[0m\u001b[0;34m\u001b[0m\u001b[0m\n",
      "\u001b[0;32m/usr/local/Cellar/python/3.6.5/Frameworks/Python.framework/Versions/3.6/lib/python3.6/json/decoder.py\u001b[0m in \u001b[0;36mraw_decode\u001b[0;34m(self, s, idx)\u001b[0m\n\u001b[1;32m    355\u001b[0m             \u001b[0mobj\u001b[0m\u001b[0;34m,\u001b[0m \u001b[0mend\u001b[0m \u001b[0;34m=\u001b[0m \u001b[0mself\u001b[0m\u001b[0;34m.\u001b[0m\u001b[0mscan_once\u001b[0m\u001b[0;34m(\u001b[0m\u001b[0ms\u001b[0m\u001b[0;34m,\u001b[0m \u001b[0midx\u001b[0m\u001b[0;34m)\u001b[0m\u001b[0;34m\u001b[0m\u001b[0m\n\u001b[1;32m    356\u001b[0m         \u001b[0;32mexcept\u001b[0m \u001b[0mStopIteration\u001b[0m \u001b[0;32mas\u001b[0m \u001b[0merr\u001b[0m\u001b[0;34m:\u001b[0m\u001b[0;34m\u001b[0m\u001b[0m\n\u001b[0;32m--> 357\u001b[0;31m             \u001b[0;32mraise\u001b[0m \u001b[0mJSONDecodeError\u001b[0m\u001b[0;34m(\u001b[0m\u001b[0;34m\"Expecting value\"\u001b[0m\u001b[0;34m,\u001b[0m \u001b[0ms\u001b[0m\u001b[0;34m,\u001b[0m \u001b[0merr\u001b[0m\u001b[0;34m.\u001b[0m\u001b[0mvalue\u001b[0m\u001b[0;34m)\u001b[0m \u001b[0;32mfrom\u001b[0m \u001b[0;32mNone\u001b[0m\u001b[0;34m\u001b[0m\u001b[0m\n\u001b[0m\u001b[1;32m    358\u001b[0m         \u001b[0;32mreturn\u001b[0m \u001b[0mobj\u001b[0m\u001b[0;34m,\u001b[0m \u001b[0mend\u001b[0m\u001b[0;34m\u001b[0m\u001b[0m\n",
      "\u001b[0;31mJSONDecodeError\u001b[0m: Expecting value: line 1 column 1 (char 0)"
     ],
     "output_type": "error"
    }
   ],
   "source": [
    "import requests\n",
    "r = requests.get('https://www.baidu.com')\n",
    "# header 中没有指定 字符集\n",
    "print(r.encoding)  # charset未指定时默认ISO-8859-1\n",
    "print(r.apparent_encoding)\n",
    "r.encoding = r.apparent_encoding\n",
    "print(r.text)\n",
    "r.json()  # TODO: json.decoder.JSONDecodeError: Expecting value: line 1 column 1 (char 0)"
   ]
  },
  {
   "cell_type": "code",
   "execution_count": null,
   "metadata": {},
   "outputs": [],
   "source": []
  }
 ],
 "metadata": {
  "kernelspec": {
   "display_name": "Python 2",
   "language": "python",
   "name": "python2"
  },
  "language_info": {
   "codemirror_mode": {
    "name": "ipython",
    "version": 2
   },
   "file_extension": ".py",
   "mimetype": "text/x-python",
   "name": "python",
   "nbconvert_exporter": "python",
   "pygments_lexer": "ipython2",
   "version": "2.7.6"
  }
 },
 "nbformat": 4,
 "nbformat_minor": 0
}
