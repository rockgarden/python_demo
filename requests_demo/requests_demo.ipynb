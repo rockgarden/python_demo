{
 "cells": [
  {
   "cell_type": "code",
   "execution_count": 3,
   "metadata": {
    "collapsed": true
   },
   "outputs": [
    {
     "name": "stdout",
     "output_type": "stream",
     "text": [
      "200\n<class 'requests.models.Response'>\napplication/json; charset=utf-8\nutf-8\n{\"login\":\"rockgarden\",\"id\":5505676,\"node_id\":\"MDQ6VXNlcjU1MDU2NzY=\",\"avatar_url\":\"https://avatars3.githubusercontent.com/u/5505676?v=4\",\"gravatar_id\":\"\",\"url\":\"https://api.github.com/users/rockgarden\",\"html_url\":\"https://github.com/rockgarden\",\"followers_url\":\"https://api.github.com/users/rockgarden/followers\",\"following_url\":\"https://api.github.com/users/rockgarden/following{/other_user}\",\"gists_url\":\"https://api.github.com/users/rockgarden/gists{/gist_id}\",\"starred_url\":\"https://api.github.com/users/rockgarden/starred{/owner}{/repo}\",\"subscriptions_url\":\"https://api.github.com/users/rockgarden/subscriptions\",\"organizations_url\":\"https://api.github.com/users/rockgarden/orgs\",\"repos_url\":\"https://api.github.com/users/rockgarden/repos\",\"events_url\":\"https://api.github.com/users/rockgarden/events{/privacy}\",\"received_events_url\":\"https://api.github.com/users/rockgarden/received_events\",\"type\":\"User\",\"site_admin\":false,\"name\":\"Wangkan\",\"company\":\"Rockgarden\",\"blog\":\"www.rcockgarden.cn\",\"location\":\"China\",\"email\":null,\"hireable\":true,\"bio\":\"Project management.\",\"public_repos\":40,\"public_gists\":0,\"followers\":5,\"following\":4,\"created_at\":\"2013-09-21T02:34:47Z\",\"updated_at\":\"2018-06-04T14:53:48Z\",\"private_gists\":0,\"total_private_repos\":0,\"owned_private_repos\":0,\"disk_usage\":272674,\"collaborators\":0,\"two_factor_authentication\":false,\"plan\":{\"name\":\"free\",\"space\":976562499,\"collaborators\":0,\"private_repos\":0}}\n"
     ]
    },
    {
     "data": {
      "text/plain": [
       "{'avatar_url': 'https://avatars3.githubusercontent.com/u/5505676?v=4',\n 'bio': 'Project management.',\n 'blog': 'www.rcockgarden.cn',\n 'collaborators': 0,\n 'company': 'Rockgarden',\n 'created_at': '2013-09-21T02:34:47Z',\n 'disk_usage': 272674,\n 'email': None,\n 'events_url': 'https://api.github.com/users/rockgarden/events{/privacy}',\n 'followers': 5,\n 'followers_url': 'https://api.github.com/users/rockgarden/followers',\n 'following': 4,\n 'following_url': 'https://api.github.com/users/rockgarden/following{/other_user}',\n 'gists_url': 'https://api.github.com/users/rockgarden/gists{/gist_id}',\n 'gravatar_id': '',\n 'hireable': True,\n 'html_url': 'https://github.com/rockgarden',\n 'id': 5505676,\n 'location': 'China',\n 'login': 'rockgarden',\n 'name': 'Wangkan',\n 'node_id': 'MDQ6VXNlcjU1MDU2NzY=',\n 'organizations_url': 'https://api.github.com/users/rockgarden/orgs',\n 'owned_private_repos': 0,\n 'plan': {'collaborators': 0,\n  'name': 'free',\n  'private_repos': 0,\n  'space': 976562499},\n 'private_gists': 0,\n 'public_gists': 0,\n 'public_repos': 40,\n 'received_events_url': 'https://api.github.com/users/rockgarden/received_events',\n 'repos_url': 'https://api.github.com/users/rockgarden/repos',\n 'site_admin': False,\n 'starred_url': 'https://api.github.com/users/rockgarden/starred{/owner}{/repo}',\n 'subscriptions_url': 'https://api.github.com/users/rockgarden/subscriptions',\n 'total_private_repos': 0,\n 'two_factor_authentication': False,\n 'type': 'User',\n 'updated_at': '2018-06-04T14:53:48Z',\n 'url': 'https://api.github.com/users/rockgarden'}"
      ]
     },
     "execution_count": 3,
     "metadata": {},
     "output_type": "execute_result"
    }
   ],
   "source": [
    "import requests\n",
    "\n",
    "r = requests.get('https://api.github.com/user', auth=('rockgarden', 'freestar77'))\n",
    "print(r.status_code)\n",
    "# 200\n",
    "print(type(r))\n",
    "print(r.headers['content-type'])\n",
    "# 'application/json; charset=utf8'\n",
    "print(r.encoding)\n",
    "# 'utf-8'\n",
    "print(r.text)\n",
    "# u'{\"type\":\"User\"...'\n",
    "r.json()\n",
    "# {u'private_gists': 419, u'total_private_repos': 77, ...}\n"
   ]
  },
  {
   "cell_type": "code",
   "execution_count": 13,
   "metadata": {
    "collapsed": false
   },
   "outputs": [
    {
     "name": "stdout",
     "output_type": "stream",
     "text": [
      "http://httpbin.org/get?key1=value1&key2=value2\n{\"args\":{\"key1\":\"value1\",\"key2\":\"value2\"},\"headers\":{\"Accept\":\"*/*\",\"Accept-Encoding\":\"gzip, deflate\",\"Connection\":\"close\",\"Host\":\"httpbin.org\",\"User-Agent\":\"python-requests/2.18.4\"},\"origin\":\"218.72.123.96\",\"url\":\"http://httpbin.org/get?key1=value1&key2=value2\"}\n\n"
     ]
    },
    {
     "name": "stdout",
     "output_type": "stream",
     "text": [
      "http://httpbin.org/post\n{\"args\":{},\"data\":\"\",\"files\":{},\"form\":{\"key1\":\"value1\",\"key2\":\"value2\"},\"headers\":{\"Accept\":\"*/*\",\"Accept-Encoding\":\"gzip, deflate\",\"Connection\":\"close\",\"Content-Length\":\"23\",\"Content-Type\":\"application/x-www-form-urlencoded\",\"Host\":\"httpbin.org\",\"User-Agent\":\"python-requests/2.18.4\"},\"json\":null,\"origin\":\"218.72.123.96\",\"url\":\"http://httpbin.org/post\"}\n\n"
     ]
    },
    {
     "name": "stdout",
     "output_type": "stream",
     "text": [
      "http://httpbin.org/post\n{\"args\":{},\"data\":\"test data\",\"files\":{},\"form\":{},\"headers\":{\"Accept\":\"*/*\",\"Accept-Encoding\":\"gzip, deflate\",\"Connection\":\"close\",\"Content-Length\":\"9\",\"Host\":\"httpbin.org\",\"User-Agent\":\"python-requests/2.18.4\"},\"json\":null,\"origin\":\"218.72.123.96\",\"url\":\"http://httpbin.org/post\"}\n\n"
     ]
    }
   ],
   "source": [
    "import requests\n",
    "\n",
    "payload = {'key1': 'value1', 'key2': 'value2'}\n",
    "r = requests.get(\"http://httpbin.org/get\", params=payload)\n",
    "print(r.url)\n",
    "print(r.text)\n",
    "r = requests.post(\"http://httpbin.org/post\", data=payload)\n",
    "print(r.url)\n",
    "print(r.text)  # payload 在 form 里\n",
    "r = requests.post(\"http://httpbin.org/post\", data=\"test data\")\n",
    "print(r.url)\n",
    "print(r.text)  # data 在 data 里"
   ]
  },
  {
   "cell_type": "code",
   "execution_count": 10,
   "metadata": {},
   "outputs": [
    {
     "name": "stdout",
     "output_type": "stream",
     "text": [
      "http://httpbin.org/get?key1=value1&key2=value2&key2=value3\n"
     ]
    }
   ],
   "source": [
    "import requests\n",
    "\n",
    "payload = {'key1': 'value1', 'key2': ['value2', 'value3']}\n",
    "r = requests.get('http://httpbin.org/get', params=payload)\n",
    "print(r.url)"
   ]
  },
  {
   "cell_type": "code",
   "execution_count": 7,
   "metadata": {},
   "outputs": [
    {
     "name": "stdout",
     "output_type": "stream",
     "text": [
      "{'Connection': 'keep-alive', 'Server': 'gunicorn/19.8.1', 'Date': 'Mon, 11 Jun 2018 15:15:53 GMT', 'Content-Type': 'application/json', 'Content-Length': '209', 'Access-Control-Allow-Origin': '*', 'Access-Control-Allow-Credentials': 'true', 'Via': '1.1 vegur'}\n"
     ]
    }
   ],
   "source": [
    "import requests\n",
    "\n",
    "r = requests.head('http://httpbin.org/get')\n",
    "print(r.headers)"
   ]
  },
  {
   "cell_type": "code",
   "execution_count": null,
   "metadata": {},
   "outputs": [],
   "source": []
  }
 ],
 "metadata": {
  "kernelspec": {
   "display_name": "Python 2",
   "language": "python",
   "name": "python2"
  },
  "language_info": {
   "codemirror_mode": {
    "name": "ipython",
    "version": 2
   },
   "file_extension": ".py",
   "mimetype": "text/x-python",
   "name": "python",
   "nbconvert_exporter": "python",
   "pygments_lexer": "ipython2",
   "version": "2.7.6"
  }
 },
 "nbformat": 4,
 "nbformat_minor": 0
}
