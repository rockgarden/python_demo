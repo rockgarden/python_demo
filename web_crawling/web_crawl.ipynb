{
 "cells": [
  {
   "cell_type": "code",
   "execution_count": 2,
   "metadata": {
    "collapsed": true
   },
   "outputs": [],
   "source": [
    "from typing import TextIO\n",
    "from urllib import request\n",
    "\n",
    "response = request.urlopen(\"http://www.baidu.com/\")  # 打开网站\n",
    "fi: TextIO = open(\"web_crawling/output/baidu_index.txt\", 'w')  # open一个txt文件\n",
    "# TypeError: 'list' object is not callable\n",
    "page = fi.write(str(response.read()))  # 网站代码写入\n",
    "fi.close()"
   ]
  },
  {
   "cell_type": "code",
   "execution_count": null,
   "metadata": {},
   "outputs": [],
   "source": []
  }
 ],
 "metadata": {
  "kernelspec": {
   "display_name": "Python 2",
   "language": "python",
   "name": "python2"
  },
  "language_info": {
   "codemirror_mode": {
    "name": "ipython",
    "version": 2
   },
   "file_extension": ".py",
   "mimetype": "text/x-python",
   "name": "python",
   "nbconvert_exporter": "python",
   "pygments_lexer": "ipython2",
   "version": "2.7.6"
  }
 },
 "nbformat": 4,
 "nbformat_minor": 0
}
